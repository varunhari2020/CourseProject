{
  "nbformat": 4,
  "nbformat_minor": 0,
  "metadata": {
    "colab": {
      "name": "CausalTopicModeling.ipynb",
      "provenance": [],
      "collapsed_sections": [],
      "include_colab_link": true
    },
    "kernelspec": {
      "name": "python3",
      "display_name": "Python 3"
    }
  },
  "cells": [
    {
      "cell_type": "markdown",
      "metadata": {
        "id": "view-in-github",
        "colab_type": "text"
      },
      "source": [
        "<a href=\"https://colab.research.google.com/github/varunhari2020/CourseProject/blob/main/CausalTopicModeling.ipynb\" target=\"_parent\"><img src=\"https://colab.research.google.com/assets/colab-badge.svg\" alt=\"Open In Colab\"/></a>"
      ]
    },
    {
      "cell_type": "code",
      "metadata": {
        "id": "GToajN2-aXJU",
        "colab": {
          "base_uri": "https://localhost:8080/"
        },
        "outputId": "abcbc41b-9a9a-46c4-94c2-658cae429f64"
      },
      "source": [
        "from google.colab import drive\n",
        "drive.mount('/content/drive/')"
      ],
      "execution_count": null,
      "outputs": [
        {
          "output_type": "stream",
          "text": [
            "Mounted at /content/drive/\n"
          ],
          "name": "stdout"
        }
      ]
    },
    {
      "cell_type": "code",
      "metadata": {
        "colab": {
          "base_uri": "https://localhost:8080/"
        },
        "id": "mWxUZLVTYrcE",
        "outputId": "cce9626f-944d-4512-fb73-63b69185f1ef"
      },
      "source": [
        "!pip install pyLDAvis"
      ],
      "execution_count": null,
      "outputs": [
        {
          "output_type": "stream",
          "text": [
            "Collecting pyLDAvis\n",
            "\u001b[?25l  Downloading https://files.pythonhosted.org/packages/a5/3a/af82e070a8a96e13217c8f362f9a73e82d61ac8fff3a2561946a97f96266/pyLDAvis-2.1.2.tar.gz (1.6MB)\n",
            "\u001b[K     |████████████████████████████████| 1.6MB 8.8MB/s \n",
            "\u001b[?25hRequirement already satisfied: wheel>=0.23.0 in /usr/local/lib/python3.6/dist-packages (from pyLDAvis) (0.35.1)\n",
            "Requirement already satisfied: numpy>=1.9.2 in /usr/local/lib/python3.6/dist-packages (from pyLDAvis) (1.18.5)\n",
            "Requirement already satisfied: scipy>=0.18.0 in /usr/local/lib/python3.6/dist-packages (from pyLDAvis) (1.4.1)\n",
            "Requirement already satisfied: pandas>=0.17.0 in /usr/local/lib/python3.6/dist-packages (from pyLDAvis) (1.1.4)\n",
            "Requirement already satisfied: joblib>=0.8.4 in /usr/local/lib/python3.6/dist-packages (from pyLDAvis) (0.17.0)\n",
            "Requirement already satisfied: jinja2>=2.7.2 in /usr/local/lib/python3.6/dist-packages (from pyLDAvis) (2.11.2)\n",
            "Requirement already satisfied: numexpr in /usr/local/lib/python3.6/dist-packages (from pyLDAvis) (2.7.1)\n",
            "Requirement already satisfied: pytest in /usr/local/lib/python3.6/dist-packages (from pyLDAvis) (3.6.4)\n",
            "Requirement already satisfied: future in /usr/local/lib/python3.6/dist-packages (from pyLDAvis) (0.16.0)\n",
            "Collecting funcy\n",
            "  Downloading https://files.pythonhosted.org/packages/66/89/479de0afbbfb98d1c4b887936808764627300208bb771fcd823403645a36/funcy-1.15-py2.py3-none-any.whl\n",
            "Requirement already satisfied: pytz>=2017.2 in /usr/local/lib/python3.6/dist-packages (from pandas>=0.17.0->pyLDAvis) (2018.9)\n",
            "Requirement already satisfied: python-dateutil>=2.7.3 in /usr/local/lib/python3.6/dist-packages (from pandas>=0.17.0->pyLDAvis) (2.8.1)\n",
            "Requirement already satisfied: MarkupSafe>=0.23 in /usr/local/lib/python3.6/dist-packages (from jinja2>=2.7.2->pyLDAvis) (1.1.1)\n",
            "Requirement already satisfied: py>=1.5.0 in /usr/local/lib/python3.6/dist-packages (from pytest->pyLDAvis) (1.9.0)\n",
            "Requirement already satisfied: atomicwrites>=1.0 in /usr/local/lib/python3.6/dist-packages (from pytest->pyLDAvis) (1.4.0)\n",
            "Requirement already satisfied: more-itertools>=4.0.0 in /usr/local/lib/python3.6/dist-packages (from pytest->pyLDAvis) (8.6.0)\n",
            "Requirement already satisfied: six>=1.10.0 in /usr/local/lib/python3.6/dist-packages (from pytest->pyLDAvis) (1.15.0)\n",
            "Requirement already satisfied: attrs>=17.4.0 in /usr/local/lib/python3.6/dist-packages (from pytest->pyLDAvis) (20.2.0)\n",
            "Requirement already satisfied: setuptools in /usr/local/lib/python3.6/dist-packages (from pytest->pyLDAvis) (50.3.2)\n",
            "Requirement already satisfied: pluggy<0.8,>=0.5 in /usr/local/lib/python3.6/dist-packages (from pytest->pyLDAvis) (0.7.1)\n",
            "Building wheels for collected packages: pyLDAvis\n",
            "  Building wheel for pyLDAvis (setup.py) ... \u001b[?25l\u001b[?25hdone\n",
            "  Created wheel for pyLDAvis: filename=pyLDAvis-2.1.2-py2.py3-none-any.whl size=97712 sha256=eed87c5ea91e9b2efad9345eac5f2295a3d27ef01f58fa317a822a7563f5c6ff\n",
            "  Stored in directory: /root/.cache/pip/wheels/98/71/24/513a99e58bb6b8465bae4d2d5e9dba8f0bef8179e3051ac414\n",
            "Successfully built pyLDAvis\n",
            "Installing collected packages: funcy, pyLDAvis\n",
            "Successfully installed funcy-1.15 pyLDAvis-2.1.2\n"
          ],
          "name": "stdout"
        }
      ]
    },
    {
      "cell_type": "code",
      "metadata": {
        "colab": {
          "base_uri": "https://localhost:8080/"
        },
        "id": "SkFkgUC4YICe",
        "outputId": "3aa93b32-82ed-49f0-f37d-711e4b7a5c8e"
      },
      "source": [
        "import re\n",
        "import numpy as np\n",
        "import numpy.linalg as la\n",
        "import pandas as pd\n",
        "from pprint import pprint\n",
        "import datetime\n",
        "\n",
        "# NLTK\n",
        "import nltk\n",
        "nltk.download('stopwords')\n",
        "from nltk.corpus import stopwords\n",
        "from nltk import ngrams\n",
        "\n",
        "# Gensim\n",
        "import gensim\n",
        "from gensim import models\n",
        "import gensim.corpora as corpora\n",
        "from gensim.utils import simple_preprocess\n",
        "from gensim.models import CoherenceModel\n",
        "from gensim.models import Phrases # TODO: to create bigrams with\n",
        "\n",
        "# spacy for lemmatization\n",
        "import spacy\n",
        "\n",
        "# Plotting tools\n",
        "import pyLDAvis\n",
        "import pyLDAvis.gensim  # don't skip this\n",
        "import matplotlib.pyplot as plt \n",
        "\n",
        "import warnings\n",
        "warnings.filterwarnings('ignore')"
      ],
      "execution_count": null,
      "outputs": [
        {
          "output_type": "stream",
          "text": [
            "[nltk_data] Downloading package stopwords to /root/nltk_data...\n",
            "[nltk_data]   Package stopwords is already up-to-date!\n"
          ],
          "name": "stdout"
        }
      ]
    },
    {
      "cell_type": "code",
      "metadata": {
        "colab": {
          "base_uri": "https://localhost:8080/",
          "height": 452
        },
        "id": "iuJ711r8YLYc",
        "outputId": "aa2f0ff4-92b6-4d8d-b407-8349b3a38b6c"
      },
      "source": [
        "stop_words = stopwords.words('english')\n",
        "stop_words.extend(['mr', 'ms', 'said'])\n",
        "\n",
        "def tokenize(content, lemmatize=False):\n",
        "    words = gensim.utils.simple_preprocess(content, deacc=True)  # tokenizes\n",
        "    return words\n",
        "\n",
        "def remove_stopwords(content):\n",
        "    words = []\n",
        "    for word in content:\n",
        "        if word in stop_words:\n",
        "            continue\n",
        "        words.append(word)\n",
        "    return words\n",
        "\n",
        "rows = []\n",
        "dates = []\n",
        "articles = []\n",
        "for month in range(5, 11):\n",
        "    with open(\"/content/drive/My Drive/Data/NYTimes/\"+ str(month) + \".txt\") as f:\n",
        "        for i, line in enumerate(f):\n",
        "            date, article = line.split(\",\", 1)\n",
        "            timestamp = datetime.datetime.strptime(date, \"%Y-%m-%dT%H:%M:%S%z\")\n",
        "            tokenized = tokenize(article)\n",
        "            destopped = remove_stopwords(tokenized)\n",
        "\n",
        "            articles.append(destopped)\n",
        "            dates.append(timestamp)\n",
        "            rows.append([timestamp, destopped])\n",
        "\n",
        "df = pd.DataFrame(rows, columns=[\"date\", \"content\"]) \n",
        "unique_dates = sorted(list(set(df[\"date\"])))\n",
        "print (unique_dates)\n",
        "df"
      ],
      "execution_count": null,
      "outputs": [
        {
          "output_type": "stream",
          "text": [
            "[Timestamp('2000-05-01 05:00:00+0000', tz='UTC'), Timestamp('2000-05-02 05:00:00+0000', tz='UTC'), Timestamp('2000-05-03 05:00:00+0000', tz='UTC'), Timestamp('2000-05-04 05:00:00+0000', tz='UTC'), Timestamp('2000-05-05 05:00:00+0000', tz='UTC'), Timestamp('2000-05-06 05:00:00+0000', tz='UTC'), Timestamp('2000-05-07 05:00:00+0000', tz='UTC'), Timestamp('2000-05-08 05:00:00+0000', tz='UTC'), Timestamp('2000-05-09 05:00:00+0000', tz='UTC'), Timestamp('2000-05-10 05:00:00+0000', tz='UTC'), Timestamp('2000-05-11 05:00:00+0000', tz='UTC'), Timestamp('2000-05-12 05:00:00+0000', tz='UTC'), Timestamp('2000-05-13 05:00:00+0000', tz='UTC'), Timestamp('2000-05-14 05:00:00+0000', tz='UTC'), Timestamp('2000-05-15 05:00:00+0000', tz='UTC'), Timestamp('2000-05-16 05:00:00+0000', tz='UTC'), Timestamp('2000-05-17 05:00:00+0000', tz='UTC'), Timestamp('2000-05-18 05:00:00+0000', tz='UTC'), Timestamp('2000-05-19 05:00:00+0000', tz='UTC'), Timestamp('2000-05-20 05:00:00+0000', tz='UTC'), Timestamp('2000-05-21 05:00:00+0000', tz='UTC'), Timestamp('2000-05-22 05:00:00+0000', tz='UTC'), Timestamp('2000-05-23 05:00:00+0000', tz='UTC'), Timestamp('2000-05-24 05:00:00+0000', tz='UTC'), Timestamp('2000-05-25 05:00:00+0000', tz='UTC'), Timestamp('2000-05-26 05:00:00+0000', tz='UTC'), Timestamp('2000-05-27 05:00:00+0000', tz='UTC'), Timestamp('2000-05-28 05:00:00+0000', tz='UTC'), Timestamp('2000-05-29 05:00:00+0000', tz='UTC'), Timestamp('2000-05-30 05:00:00+0000', tz='UTC'), Timestamp('2000-05-31 05:00:00+0000', tz='UTC'), Timestamp('2000-06-01 05:00:00+0000', tz='UTC'), Timestamp('2000-06-02 05:00:00+0000', tz='UTC'), Timestamp('2000-06-03 05:00:00+0000', tz='UTC'), Timestamp('2000-06-04 05:00:00+0000', tz='UTC'), Timestamp('2000-06-05 05:00:00+0000', tz='UTC'), Timestamp('2000-06-06 05:00:00+0000', tz='UTC'), Timestamp('2000-06-07 05:00:00+0000', tz='UTC'), Timestamp('2000-06-08 05:00:00+0000', tz='UTC'), Timestamp('2000-06-09 05:00:00+0000', tz='UTC'), Timestamp('2000-06-10 05:00:00+0000', tz='UTC'), Timestamp('2000-06-11 05:00:00+0000', tz='UTC'), Timestamp('2000-06-12 05:00:00+0000', tz='UTC'), Timestamp('2000-06-13 05:00:00+0000', tz='UTC'), Timestamp('2000-06-14 05:00:00+0000', tz='UTC'), Timestamp('2000-06-15 05:00:00+0000', tz='UTC'), Timestamp('2000-06-16 05:00:00+0000', tz='UTC'), Timestamp('2000-06-17 05:00:00+0000', tz='UTC'), Timestamp('2000-06-18 05:00:00+0000', tz='UTC'), Timestamp('2000-06-19 05:00:00+0000', tz='UTC'), Timestamp('2000-06-20 05:00:00+0000', tz='UTC'), Timestamp('2000-06-21 05:00:00+0000', tz='UTC'), Timestamp('2000-06-22 05:00:00+0000', tz='UTC'), Timestamp('2000-06-23 05:00:00+0000', tz='UTC'), Timestamp('2000-06-24 05:00:00+0000', tz='UTC'), Timestamp('2000-06-25 05:00:00+0000', tz='UTC'), Timestamp('2000-06-26 05:00:00+0000', tz='UTC'), Timestamp('2000-06-27 05:00:00+0000', tz='UTC'), Timestamp('2000-06-28 05:00:00+0000', tz='UTC'), Timestamp('2000-06-29 05:00:00+0000', tz='UTC'), Timestamp('2000-06-30 05:00:00+0000', tz='UTC'), Timestamp('2000-07-01 05:00:00+0000', tz='UTC'), Timestamp('2000-07-02 05:00:00+0000', tz='UTC'), Timestamp('2000-07-03 05:00:00+0000', tz='UTC'), Timestamp('2000-07-04 05:00:00+0000', tz='UTC'), Timestamp('2000-07-05 05:00:00+0000', tz='UTC'), Timestamp('2000-07-06 05:00:00+0000', tz='UTC'), Timestamp('2000-07-07 05:00:00+0000', tz='UTC'), Timestamp('2000-07-08 05:00:00+0000', tz='UTC'), Timestamp('2000-07-09 05:00:00+0000', tz='UTC'), Timestamp('2000-07-10 05:00:00+0000', tz='UTC'), Timestamp('2000-07-11 05:00:00+0000', tz='UTC'), Timestamp('2000-07-12 05:00:00+0000', tz='UTC'), Timestamp('2000-07-13 05:00:00+0000', tz='UTC'), Timestamp('2000-07-14 05:00:00+0000', tz='UTC'), Timestamp('2000-07-15 05:00:00+0000', tz='UTC'), Timestamp('2000-07-16 05:00:00+0000', tz='UTC'), Timestamp('2000-07-17 05:00:00+0000', tz='UTC'), Timestamp('2000-07-18 05:00:00+0000', tz='UTC'), Timestamp('2000-07-19 05:00:00+0000', tz='UTC'), Timestamp('2000-07-20 05:00:00+0000', tz='UTC'), Timestamp('2000-07-21 05:00:00+0000', tz='UTC'), Timestamp('2000-07-22 05:00:00+0000', tz='UTC'), Timestamp('2000-07-23 05:00:00+0000', tz='UTC'), Timestamp('2000-07-24 05:00:00+0000', tz='UTC'), Timestamp('2000-07-25 05:00:00+0000', tz='UTC'), Timestamp('2000-07-26 05:00:00+0000', tz='UTC'), Timestamp('2000-07-27 05:00:00+0000', tz='UTC'), Timestamp('2000-07-28 05:00:00+0000', tz='UTC'), Timestamp('2000-07-29 05:00:00+0000', tz='UTC'), Timestamp('2000-07-30 05:00:00+0000', tz='UTC'), Timestamp('2000-07-31 05:00:00+0000', tz='UTC'), Timestamp('2000-08-01 05:00:00+0000', tz='UTC'), Timestamp('2000-08-02 05:00:00+0000', tz='UTC'), Timestamp('2000-08-03 05:00:00+0000', tz='UTC'), Timestamp('2000-08-04 05:00:00+0000', tz='UTC'), Timestamp('2000-08-05 05:00:00+0000', tz='UTC'), Timestamp('2000-08-06 05:00:00+0000', tz='UTC'), Timestamp('2000-08-07 05:00:00+0000', tz='UTC'), Timestamp('2000-08-08 05:00:00+0000', tz='UTC'), Timestamp('2000-08-09 05:00:00+0000', tz='UTC'), Timestamp('2000-08-10 05:00:00+0000', tz='UTC'), Timestamp('2000-08-11 05:00:00+0000', tz='UTC'), Timestamp('2000-08-12 05:00:00+0000', tz='UTC'), Timestamp('2000-08-13 05:00:00+0000', tz='UTC'), Timestamp('2000-08-14 05:00:00+0000', tz='UTC'), Timestamp('2000-08-15 05:00:00+0000', tz='UTC'), Timestamp('2000-08-16 05:00:00+0000', tz='UTC'), Timestamp('2000-08-17 05:00:00+0000', tz='UTC'), Timestamp('2000-08-18 05:00:00+0000', tz='UTC'), Timestamp('2000-08-19 05:00:00+0000', tz='UTC'), Timestamp('2000-08-20 05:00:00+0000', tz='UTC'), Timestamp('2000-08-21 05:00:00+0000', tz='UTC'), Timestamp('2000-08-22 05:00:00+0000', tz='UTC'), Timestamp('2000-08-23 05:00:00+0000', tz='UTC'), Timestamp('2000-08-24 05:00:00+0000', tz='UTC'), Timestamp('2000-08-25 05:00:00+0000', tz='UTC'), Timestamp('2000-08-26 05:00:00+0000', tz='UTC'), Timestamp('2000-08-27 05:00:00+0000', tz='UTC'), Timestamp('2000-08-28 05:00:00+0000', tz='UTC'), Timestamp('2000-08-29 05:00:00+0000', tz='UTC'), Timestamp('2000-08-30 05:00:00+0000', tz='UTC'), Timestamp('2000-08-31 05:00:00+0000', tz='UTC'), Timestamp('2000-09-01 05:00:00+0000', tz='UTC'), Timestamp('2000-09-02 05:00:00+0000', tz='UTC'), Timestamp('2000-09-03 05:00:00+0000', tz='UTC'), Timestamp('2000-09-04 05:00:00+0000', tz='UTC'), Timestamp('2000-09-05 05:00:00+0000', tz='UTC'), Timestamp('2000-09-06 05:00:00+0000', tz='UTC'), Timestamp('2000-09-07 05:00:00+0000', tz='UTC'), Timestamp('2000-09-08 05:00:00+0000', tz='UTC'), Timestamp('2000-09-09 05:00:00+0000', tz='UTC'), Timestamp('2000-09-10 05:00:00+0000', tz='UTC'), Timestamp('2000-09-11 05:00:00+0000', tz='UTC'), Timestamp('2000-09-12 05:00:00+0000', tz='UTC'), Timestamp('2000-09-13 05:00:00+0000', tz='UTC'), Timestamp('2000-09-14 05:00:00+0000', tz='UTC'), Timestamp('2000-09-15 05:00:00+0000', tz='UTC'), Timestamp('2000-09-16 05:00:00+0000', tz='UTC'), Timestamp('2000-09-17 05:00:00+0000', tz='UTC'), Timestamp('2000-09-18 05:00:00+0000', tz='UTC'), Timestamp('2000-09-19 05:00:00+0000', tz='UTC'), Timestamp('2000-09-20 05:00:00+0000', tz='UTC'), Timestamp('2000-09-21 05:00:00+0000', tz='UTC'), Timestamp('2000-09-22 05:00:00+0000', tz='UTC'), Timestamp('2000-09-23 05:00:00+0000', tz='UTC'), Timestamp('2000-09-24 05:00:00+0000', tz='UTC'), Timestamp('2000-09-25 05:00:00+0000', tz='UTC'), Timestamp('2000-09-26 05:00:00+0000', tz='UTC'), Timestamp('2000-09-27 05:00:00+0000', tz='UTC'), Timestamp('2000-09-28 05:00:00+0000', tz='UTC'), Timestamp('2000-09-29 05:00:00+0000', tz='UTC'), Timestamp('2000-09-30 05:00:00+0000', tz='UTC'), Timestamp('2000-10-01 05:00:00+0000', tz='UTC'), Timestamp('2000-10-02 05:00:00+0000', tz='UTC'), Timestamp('2000-10-03 05:00:00+0000', tz='UTC'), Timestamp('2000-10-04 05:00:00+0000', tz='UTC'), Timestamp('2000-10-05 05:00:00+0000', tz='UTC'), Timestamp('2000-10-06 05:00:00+0000', tz='UTC'), Timestamp('2000-10-07 05:00:00+0000', tz='UTC'), Timestamp('2000-10-08 05:00:00+0000', tz='UTC'), Timestamp('2000-10-09 05:00:00+0000', tz='UTC'), Timestamp('2000-10-10 05:00:00+0000', tz='UTC'), Timestamp('2000-10-11 05:00:00+0000', tz='UTC'), Timestamp('2000-10-12 05:00:00+0000', tz='UTC'), Timestamp('2000-10-13 05:00:00+0000', tz='UTC'), Timestamp('2000-10-14 05:00:00+0000', tz='UTC'), Timestamp('2000-10-15 05:00:00+0000', tz='UTC'), Timestamp('2000-10-16 05:00:00+0000', tz='UTC'), Timestamp('2000-10-17 05:00:00+0000', tz='UTC'), Timestamp('2000-10-18 05:00:00+0000', tz='UTC'), Timestamp('2000-10-19 05:00:00+0000', tz='UTC'), Timestamp('2000-10-20 05:00:00+0000', tz='UTC'), Timestamp('2000-10-21 05:00:00+0000', tz='UTC'), Timestamp('2000-10-22 05:00:00+0000', tz='UTC'), Timestamp('2000-10-23 05:00:00+0000', tz='UTC'), Timestamp('2000-10-24 05:00:00+0000', tz='UTC'), Timestamp('2000-10-25 05:00:00+0000', tz='UTC'), Timestamp('2000-10-26 05:00:00+0000', tz='UTC'), Timestamp('2000-10-27 05:00:00+0000', tz='UTC'), Timestamp('2000-10-28 05:00:00+0000', tz='UTC'), Timestamp('2000-10-29 05:00:00+0000', tz='UTC'), Timestamp('2000-10-30 05:00:00+0000', tz='UTC'), Timestamp('2000-10-31 05:00:00+0000', tz='UTC'), Timestamp('2000-11-01 05:00:00+0000', tz='UTC')]\n"
          ],
          "name": "stdout"
        },
        {
          "output_type": "execute_result",
          "data": {
            "text/html": [
              "<div>\n",
              "<style scoped>\n",
              "    .dataframe tbody tr th:only-of-type {\n",
              "        vertical-align: middle;\n",
              "    }\n",
              "\n",
              "    .dataframe tbody tr th {\n",
              "        vertical-align: top;\n",
              "    }\n",
              "\n",
              "    .dataframe thead th {\n",
              "        text-align: right;\n",
              "    }\n",
              "</style>\n",
              "<table border=\"1\" class=\"dataframe\">\n",
              "  <thead>\n",
              "    <tr style=\"text-align: right;\">\n",
              "      <th></th>\n",
              "      <th>date</th>\n",
              "      <th>content</th>\n",
              "    </tr>\n",
              "  </thead>\n",
              "  <tbody>\n",
              "    <tr>\n",
              "      <th>0</th>\n",
              "      <td>2000-05-03 05:00:00+00:00</td>\n",
              "      <td>[two, years, ago, homer, bush, came, yankee, b...</td>\n",
              "    </tr>\n",
              "    <tr>\n",
              "      <th>1</th>\n",
              "      <td>2000-05-02 05:00:00+00:00</td>\n",
              "      <td>[texas, record, tell, op, ed, april, paul, bur...</td>\n",
              "    </tr>\n",
              "    <tr>\n",
              "      <th>2</th>\n",
              "      <td>2000-05-01 05:00:00+00:00</td>\n",
              "      <td>[top, foreign, policy, adviser, gov, george, b...</td>\n",
              "    </tr>\n",
              "    <tr>\n",
              "      <th>3</th>\n",
              "      <td>2000-05-03 05:00:00+00:00</td>\n",
              "      <td>[aides, gov, george, bush, fought, back, today...</td>\n",
              "    </tr>\n",
              "    <tr>\n",
              "      <th>4</th>\n",
              "      <td>2000-05-03 05:00:00+00:00</td>\n",
              "      <td>[gov, tommy, thompson, wisconsin, named, chair...</td>\n",
              "    </tr>\n",
              "    <tr>\n",
              "      <th>...</th>\n",
              "      <td>...</td>\n",
              "      <td>...</td>\n",
              "    </tr>\n",
              "    <tr>\n",
              "      <th>5801</th>\n",
              "      <td>2000-10-31 05:00:00+00:00</td>\n",
              "      <td>[new, york, times, cbs, news, poll, var, strin...</td>\n",
              "    </tr>\n",
              "    <tr>\n",
              "      <th>5802</th>\n",
              "      <td>2000-10-31 05:00:00+00:00</td>\n",
              "      <td>[tick, tock, diner, ted, friedrich, stockbroke...</td>\n",
              "    </tr>\n",
              "    <tr>\n",
              "      <th>5803</th>\n",
              "      <td>2000-11-01 05:00:00+00:00</td>\n",
              "      <td>[difference, us, vital, issue, would, go, wash...</td>\n",
              "    </tr>\n",
              "    <tr>\n",
              "      <th>5804</th>\n",
              "      <td>2000-11-01 05:00:00+00:00</td>\n",
              "      <td>[bush, administration, wanted, overturn, would...</td>\n",
              "    </tr>\n",
              "    <tr>\n",
              "      <th>5805</th>\n",
              "      <td>2000-11-01 05:00:00+00:00</td>\n",
              "      <td>[first, gov, jeb, bush, florida, told, hallowe...</td>\n",
              "    </tr>\n",
              "  </tbody>\n",
              "</table>\n",
              "<p>5806 rows × 2 columns</p>\n",
              "</div>"
            ],
            "text/plain": [
              "                          date                                            content\n",
              "0    2000-05-03 05:00:00+00:00  [two, years, ago, homer, bush, came, yankee, b...\n",
              "1    2000-05-02 05:00:00+00:00  [texas, record, tell, op, ed, april, paul, bur...\n",
              "2    2000-05-01 05:00:00+00:00  [top, foreign, policy, adviser, gov, george, b...\n",
              "3    2000-05-03 05:00:00+00:00  [aides, gov, george, bush, fought, back, today...\n",
              "4    2000-05-03 05:00:00+00:00  [gov, tommy, thompson, wisconsin, named, chair...\n",
              "...                        ...                                                ...\n",
              "5801 2000-10-31 05:00:00+00:00  [new, york, times, cbs, news, poll, var, strin...\n",
              "5802 2000-10-31 05:00:00+00:00  [tick, tock, diner, ted, friedrich, stockbroke...\n",
              "5803 2000-11-01 05:00:00+00:00  [difference, us, vital, issue, would, go, wash...\n",
              "5804 2000-11-01 05:00:00+00:00  [bush, administration, wanted, overturn, would...\n",
              "5805 2000-11-01 05:00:00+00:00  [first, gov, jeb, bush, florida, told, hallowe...\n",
              "\n",
              "[5806 rows x 2 columns]"
            ]
          },
          "metadata": {
            "tags": []
          },
          "execution_count": 14
        }
      ]
    },
    {
      "cell_type": "code",
      "metadata": {
        "colab": {
          "base_uri": "https://localhost:8080/"
        },
        "id": "h0fJqMhVZKt1",
        "outputId": "aadbe701-25a1-4b90-e1cc-562323f0f13f"
      },
      "source": [
        "# Create Dictionary\n",
        "id2word = corpora.Dictionary(articles)\n",
        "\n",
        "# Attempt at filtering out words that appear too frequently\n",
        "# id2word.filter_extremes(no_below=15, no_above=0.5, keep_n=100000)\n",
        "# id2word.filter_extremes(no_above=0.5)\n",
        "\n",
        "\n",
        "# Term Document Frequency\n",
        "corpus = [id2word.doc2bow(text) for text in articles]\n",
        "\n",
        "\n",
        "tfidf = models.TfidfModel(corpus)\n",
        "corpus = tfidf[corpus]\n",
        "\n",
        "\n",
        "# Human readable format of corpus (term-frequency)\n",
        "[[(id2word[id], freq) for id, freq in cp] for cp in corpus[:1]]"
      ],
      "execution_count": null,
      "outputs": [
        {
          "output_type": "execute_result",
          "data": {
            "text/plain": [
              "[[('ago', 0.07712049873418031),\n",
              "  ('awesome', 0.23220574510227418),\n",
              "  ('backup', 0.2198823985449398),\n",
              "  ('backups', 0.2515408271170864),\n",
              "  ('bases', 0.19264069440348208),\n",
              "  ('bellinger', 0.27548950382241366),\n",
              "  ('bench', 0.1896343958919212),\n",
              "  ('bush', 0.007894722475376273),\n",
              "  ('came', 0.08612993720379283),\n",
              "  ('catcher', 0.26148042600790294),\n",
              "  ('clay', 0.2135830725972484),\n",
              "  ('games', 0.1562902360625982),\n",
              "  ('girardi', 0.27548950382241366),\n",
              "  ('homer', 0.21658937110880933),\n",
              "  ('jim', 0.1245222966630543),\n",
              "  ('joe', 0.1146922085996351),\n",
              "  ('leyritz', 0.27548950382241366),\n",
              "  ('speed', 0.17969479700110466),\n",
              "  ('stole', 0.20587332073042908),\n",
              "  ('strength', 0.13402729061444735),\n",
              "  ('turner', 0.2108175460504276),\n",
              "  ('two', 0.04788545375938528),\n",
              "  ('versatility', 0.27548950382241366),\n",
              "  ('whose', 0.0887458288821732),\n",
              "  ('yankee', 0.20825706839694694),\n",
              "  ('yankees', 0.19264069440348208),\n",
              "  ('years', 0.05159983565074285)]]"
            ]
          },
          "metadata": {
            "tags": []
          },
          "execution_count": 15
        }
      ]
    },
    {
      "cell_type": "code",
      "metadata": {
        "colab": {
          "base_uri": "https://localhost:8080/"
        },
        "id": "crX7EZmkaUFx",
        "outputId": "5d60b00a-0361-4955-b9fb-964c67bbf1b2"
      },
      "source": [
        "k = 10\n",
        "\n",
        "# Build LDA model\n",
        "lda_model = gensim.models.ldamodel.LdaModel(corpus=corpus,\n",
        "                                           id2word=id2word,\n",
        "                                           num_topics=k, \n",
        "                                           minimum_phi_value=0.5, # min threshold for word probabilities\n",
        "                                           passes=5,\n",
        "                                           alpha='auto',  # assuming that topic distribution is assymetric. Not all topics equally represented in corpus.\n",
        "                                           update_every=1,\n",
        "                                           per_word_topics=True)\n",
        "\n",
        "# Compute Perplexity\n",
        "print('\\nPerplexity: ', lda_model.log_perplexity(corpus))  # a measure of how good the model is. lower the better.\n",
        "\n",
        "# Compute Coherence Score\n",
        "coherence_model_lda = CoherenceModel(model=lda_model, texts=articles, dictionary=id2word, coherence='c_v')\n",
        "coherence_lda = coherence_model_lda.get_coherence()\n",
        "print('\\nCoherence Score: ', coherence_lda)"
      ],
      "execution_count": null,
      "outputs": [
        {
          "output_type": "stream",
          "text": [
            "\n",
            "Perplexity:  -10.397033186016333\n",
            "\n",
            "Coherence Score:  0.49856994480015615\n"
          ],
          "name": "stdout"
        }
      ]
    },
    {
      "cell_type": "code",
      "metadata": {
        "colab": {
          "base_uri": "https://localhost:8080/",
          "height": 861
        },
        "id": "YJA-wzWXZLmR",
        "outputId": "e8c42e81-8d46-4188-99fe-e33458a10705"
      },
      "source": [
        "# Visualize the topics\n",
        "pyLDAvis.enable_notebook()\n",
        "vis = pyLDAvis.gensim.prepare(lda_model, corpus, id2word)\n",
        "vis"
      ],
      "execution_count": null,
      "outputs": [
        {
          "output_type": "execute_result",
          "data": {
            "text/html": [
              "\n",
              "<link rel=\"stylesheet\" type=\"text/css\" href=\"https://cdn.rawgit.com/bmabey/pyLDAvis/files/ldavis.v1.0.0.css\">\n",
              "\n",
              "\n",
              "<div id=\"ldavis_el56140005008236616861403638\"></div>\n",
              "<script type=\"text/javascript\">\n",
              "\n",
              "var ldavis_el56140005008236616861403638_data = {\"mdsDat\": {\"x\": [-0.2757779022841189, -0.04901717787922852, 0.06791083450779084, 0.04654250075067901, 0.04147865642531301, 0.03539277313874098, 0.03747261217543755, 0.03169600798778149, 0.032945438579224384, 0.03135625659838052], \"y\": [-0.05359549540638459, 0.17161941647746154, -0.06242905636289024, -0.013024617941618508, -0.009016561994214673, -0.006363992912239208, -0.00954929385482832, -0.005769568916874003, -0.0064045147957965225, -0.005466314292615625], \"topics\": [1, 2, 3, 4, 5, 6, 7, 8, 9, 10], \"cluster\": [1, 1, 1, 1, 1, 1, 1, 1, 1, 1], \"Freq\": [70.62697629619073, 15.046623677956184, 8.075844124239525, 1.5813619291394445, 1.1182953161778746, 0.8590816689001922, 0.7366224971570329, 0.6766397712563971, 0.6753303165464141, 0.6032244024361929]}, \"tinfo\": {\"Term\": [\"var\", \"string\", \"oil\", \"drug\", \"percent\", \"prices\", \"medicare\", \"poll\", \"energy\", \"industry\", \"companies\", \"buchanan\", \"love\", \"death\", \"sex\", \"lives\", \"voters\", \"reserve\", \"elderly\", \"execution\", \"manhattan\", \"author\", \"polls\", \"city\", \"price\", \"prescription\", \"points\", \"coverage\", \"lead\", \"else\", \"else\", \"pat\", \"reform\", \"children\", \"oct\", \"military\", \"tonight\", \"commission\", \"debates\", \"spokesman\", \"official\", \"mrs\", \"family\", \"parents\", \"role\", \"trillion\", \"fund\", \"local\", \"debate\", \"billion\", \"differences\", \"debt\", \"federal\", \"future\", \"event\", \"held\", \"woman\", \"toward\", \"joseph\", \"return\", \"money\", \"ralph\", \"spending\", \"nader\", \"york\", \"tax\", \"today\", \"social\", \"security\", \"buchanan\", \"gore\", \"would\", \"education\", \"campaign\", \"election\", \"want\", \"bush\", \"plan\", \"clinton\", \"texas\", \"governor\", \"new\", \"president\", \"vice\", \"people\", \"one\", \"presidential\", \"lieberman\", \"party\", \"vote\", \"al\", \"republican\", \"administration\", \"democratic\", \"cheney\", \"state\", \"gov\", \"gap\", \"cnn\", \"intervention\", \"uninsured\", \"fighting\", \"ford\", \"letterman\", \"comparison\", \"kiss\", \"debater\", \"approval\", \"voucher\", \"bosnia\", \"ridge\", \"fox\", \"resources\", \"per\", \"gallup\", \"suddenly\", \"editing\", \"kentucky\", \"games\", \"wish\", \"liberals\", \"milwaukee\", \"sampling\", \"competitive\", \"desire\", \"muslim\", \"defend\", \"post\", \"themes\", \"wing\", \"aid\", \"wrong\", \"picture\", \"elections\", \"happen\", \"ad\", \"hour\", \"rest\", \"oregon\", \"percent\", \"error\", \"margin\", \"pretty\", \"poll\", \"electoral\", \"polls\", \"points\", \"voters\", \"bit\", \"lead\", \"carter\", \"cheney\", \"mccain\", \"votes\", \"democrats\", \"reagan\", \"lieberman\", \"states\", \"state\", \"convention\", \"bush\", \"prices\", \"peacekeeping\", \"price\", \"heating\", \"petroleum\", \"balkans\", \"barrels\", \"nato\", \"gasoline\", \"retirees\", \"moderator\", \"madison\", \"gains\", \"sources\", \"fuel\", \"gas\", \"stocks\", \"accounting\", \"reserve\", \"maintenance\", \"jesus\", \"accusation\", \"portland\", \"ore\", \"bipartisanship\", \"trusted\", \"anybody\", \"voluntary\", \"september\", \"consumers\", \"production\", \"oil\", \"scalia\", \"corzine\", \"sanctions\", \"supply\", \"drug\", \"industry\", \"energy\", \"companies\", \"elderly\", \"medicare\", \"release\", \"prescription\", \"franks\", \"chernomyrdin\", \"mcginn\", \"reprieve\", \"gorey\", \"revival\", \"clemency\", \"pardons\", \"dna\", \"viktor\", \"ellis\", \"klink\", \"dowd\", \"taylor\", \"parole\", \"paroles\", \"criner\", \"continuation\", \"maureen\", \"dogs\", \"vegas\", \"newport\", \"las\", \"chester\", \"leone\", \"memorized\", \"dictums\", \"bids\", \"easley\", \"stepdaughter\", \"inmate\", \"ricky\", \"panels\", \"execution\", \"inmates\", \"convicted\", \"corzine\", \"murder\", \"death\", \"glamorous\", \"collins\", \"carbon\", \"misattributed\", \"dow\", \"blondes\", \"bethany\", \"fishburne\", \"englander\", \"adamses\", \"literary\", \"herbert\", \"huntsville\", \"symphony\", \"facilitate\", \"prescribed\", \"recipes\", \"trapping\", \"skirmishes\", \"raines\", \"inspections\", \"disturbingly\", \"bore\", \"influencing\", \"behavioral\", \"arcadia\", \"photography\", \"comforting\", \"quincy\", \"lockhart\", \"hartford\", \"monthly\", \"atlantic\", \"beaverton\", \"bushnell\", \"author\", \"upstate\", \"manhattan\", \"printed\", \"goldman\", \"love\", \"lives\", \"bat\", \"misidentified\", \"ridgewood\", \"wonders\", \"haim\", \"saban\", \"rebate\", \"jenna\", \"passport\", \"korge\", \"bagley\", \"pattiz\", \"clemens\", \"krugman\", \"wells\", \"privileges\", \"shopped\", \"lido\", \"charlton\", \"nassau\", \"caliber\", \"rodriguez\", \"melrose\", \"noooo\", \"chairmanship\", \"magazines\", \"kelly\", \"obscene\", \"sham\", \"heston\", \"bolton\", \"pitcher\", \"patricof\", \"gallo\", \"wansacz\", \"enterprise\", \"quotation\", \"string\", \"var\", \"mccollum\", \"outlasted\", \"shorin\", \"grist\", \"sturtevant\", \"mathew\", \"sturevant\", \"racicot\", \"arafat\", \"hospitalized\", \"conversely\", \"wrongdoers\", \"hendrix\", \"sella\", \"disassociate\", \"challengeal\", \"cheerleading\", \"parades\", \"mohin\", \"mcmanus\", \"nonpolluting\", \"reverberate\", \"blitzer\", \"bushmills\", \"sudbay\", \"cicchino\", \"buttons\", \"lampooned\", \"buchanan\", \"photographer\", \"glenn\", \"aristotle\", \"spells\", \"inds\", \"curriculum\", \"deserving\", \"unaffiliated\", \"justin\", \"donkey\", \"strive\", \"sayfie\", \"florio\", \"steelers\", \"plaintiffs\", \"tectors\", \"genera\", \"honorary\", \"lea\", \"elastica\", \"dave\", \"adores\", \"frischmann\", \"guitarist\", \"keyboardist\", \"wreak\", \"bassist\", \"beans\", \"intentionally\", \"strickler\", \"databank\", \"removes\", \"heston\", \"lane\", \"elton\", \"rattled\", \"lautenberg\", \"dylan\", \"jonathan\", \"inflow\", \"omitted\", \"reiner\", \"dolls\", \"withholding\", \"overcrowded\", \"lag\", \"candace\", \"bosses\", \"warden\", \"geeks\", \"caption\", \"detective\", \"dubious\", \"imprecisely\", \"murky\", \"nai\", \"rith\", \"irish\", \"gergen\", \"stenberg\", \"glassine\", \"troutman\", \"heroin\", \"hbo\", \"jittery\", \"fiennes\", \"unsustainable\", \"dissension\", \"eszterhas\", \"sorkin\", \"realism\", \"buttery\", \"jails\", \"cartels\", \"pirates\", \"tisch\", \"gorelick\", \"blondes\", \"bushnell\", \"sex\", \"japanese\", \"columns\", \"envelopes\", \"haass\", \"martinez\", \"sauvignon\", \"gooseberry\", \"bargaining\", \"lebowitz\", \"reece\", \"mclagan\", \"contradicts\", \"deterrence\", \"noth\", \"lash\", \"fran\", \"pillow\", \"mobile\", \"disquiet\", \"wang\", \"dekalb\", \"hailoon\", \"sorvino\", \"dubai\", \"dammam\", \"ra\", \"excursions\", \"khaymah\", \"manamah\", \"muscat\", \"fujayrah\", \"bombay\", \"okha\", \"porbandar\", \"gambling\", \"underlines\", \"brookings\", \"clark\", \"piercing\", \"injected\", \"scholar\"], \"Freq\": [21.0, 20.0, 37.0, 34.0, 57.0, 13.0, 33.0, 33.0, 17.0, 18.0, 17.0, 31.0, 11.0, 20.0, 8.0, 11.0, 52.0, 10.0, 15.0, 7.0, 7.0, 6.0, 29.0, 19.0, 8.0, 23.0, 18.0, 21.0, 20.0, 66.0, 66.45730829481595, 25.142876433406133, 25.935439173094206, 31.32394352584769, 37.25449994427267, 31.90453388077941, 19.72229287629038, 21.894514970796727, 47.44099575663585, 21.6541469863947, 16.183017060395613, 30.57533047551845, 24.588684590397534, 15.52092645969974, 19.64627381075688, 23.164631312140408, 26.64956904437152, 13.776132244395423, 80.0731929230329, 23.292576624097823, 18.60050747364683, 16.43746588918791, 36.25265774323366, 15.167191314023688, 16.388483184953486, 21.308927965283573, 14.133298410366473, 17.92896313928794, 27.918871611781015, 11.953442762542668, 39.003752225477335, 32.87768956781946, 28.264210536780997, 66.08968690286433, 37.77587350321065, 68.55612169041828, 50.95782792330215, 43.448455721947276, 45.97132396276354, 30.377009443353767, 116.86552431053622, 80.24954205897446, 34.783119612712866, 77.95793893519492, 41.74591878209518, 28.89384944480414, 89.89365950983745, 56.66312621295825, 72.44343721726852, 53.10575473803413, 52.66139878849093, 51.64909939583382, 63.65184034743322, 57.72694889634722, 50.60177627380619, 53.24405306282096, 50.68714391139526, 66.05197811263847, 53.01908584840536, 42.8307501993214, 45.73969716842274, 50.68491880972013, 41.65417068510905, 44.457790933220906, 49.881523441647225, 46.58748842557201, 43.74014453641638, 8.253400945348677, 7.731772893187581, 6.039450149639428, 5.731821803432406, 7.079978828077748, 5.419207205114338, 5.414114167558737, 5.393253735656525, 5.292688229171991, 5.220730333900524, 5.307522611869706, 5.18105137530257, 5.141600225653002, 4.789917230219966, 9.29820481046724, 4.706322234090696, 4.627533420499302, 4.7456804175885345, 4.451504524796751, 4.237862445390325, 4.3331284624597854, 4.231759761925618, 4.366681705438323, 4.136073303341125, 4.498693222128842, 4.554946538021083, 4.085957847295328, 4.080631556827503, 4.1413769804206915, 4.451119678429904, 7.515619052618642, 4.9072970471742, 5.1174302825024816, 5.123008670372747, 8.775203204352653, 5.702725491773081, 7.538605143017174, 5.232868279431612, 8.707201395727113, 6.597766330418037, 5.063402710287927, 5.493333891826395, 23.3908164462567, 6.943553513012287, 6.7554913633909575, 5.856548877738476, 13.329944128047162, 7.872280762366638, 10.139226033460176, 8.326730300741389, 12.088866940770659, 6.216835848637502, 8.133052493035812, 5.7956154280095795, 9.073869111013138, 7.238504542501607, 6.6797088741386235, 7.61746975333588, 6.362137756127405, 7.469340334780739, 6.367529374161311, 6.171362837447928, 6.127718998108614, 5.863408272176952, 13.006576612515325, 6.625073197826287, 8.318203744615198, 6.403872967286029, 5.818022013155522, 5.479635498909253, 4.6505456096754045, 4.0768789435327895, 3.952533575875656, 3.941436681086167, 3.9579984122183527, 3.6793106386557923, 3.7403930073943523, 3.271481099987996, 3.629762998925507, 3.155442220638712, 3.199921502240848, 3.0078264587270427, 9.48827298975236, 2.999594141513752, 2.7889979051255085, 2.7935326808946233, 2.777696477923753, 2.7761501229826595, 2.7708866723997327, 2.7582038647520526, 2.870497103826144, 2.755792405135338, 2.809989448689964, 3.6083695828850813, 3.9277235695068047, 28.453495515487848, 3.372735207821997, 4.193200796845858, 3.900217331470314, 3.7960833623194183, 11.144684349517071, 7.716761576886757, 7.186384757702634, 6.170294255346672, 5.545272871897261, 5.378941719980506, 3.594559374600115, 3.769224885175403, 2.0110531230739213, 1.7275008800351086, 1.533611429997135, 1.4494341161743118, 1.2668490540263222, 0.866293324338126, 0.829607625435755, 0.6881121199021556, 1.4960032544538422, 0.6198193609095574, 0.6105958708277522, 0.567572370102895, 0.5804165810003183, 0.522191492645323, 0.5029158679113275, 0.48279179352639245, 0.4736089698766585, 0.5219333224174773, 0.446052532883945, 0.44905546722014433, 0.43637550645745, 0.46160286597699635, 0.4344704337533019, 0.7440889355126445, 0.44928419389489965, 0.42092173413492256, 0.4259428942021694, 0.408211713661076, 0.3997160382839906, 0.3910680838430889, 0.9956204123340994, 0.8280191699527324, 0.44610789908691634, 1.4677627939900786, 0.46089481234154067, 0.8069896072848619, 0.5846249405616232, 0.5305017484571316, 0.4508810995456253, 1.0216089609484809, 0.6607827118712356, 0.6637183486982107, 0.5183911293717045, 0.5118070016022243, 0.9569305841082305, 0.4387114746761232, 0.3148126737163628, 0.3062419599645137, 0.3062419599645137, 0.3760720336533064, 0.43556298379325786, 0.27042016919932377, 0.271496608792396, 0.2618533147694414, 0.3949461099786761, 0.24507589291140264, 0.24161414335438383, 0.23872161266389189, 0.23786722413994515, 0.2306765136650586, 0.26550796817766764, 0.31994812406436784, 0.24582704457273966, 0.23575502345227248, 0.21412571804008973, 0.21356474691808852, 0.22029851678447193, 0.28311575116805393, 0.27680239840752896, 0.47885405649513374, 0.8024960807822442, 0.8226864348867793, 0.40333677391135203, 0.976570611349737, 0.6822344417876028, 0.36973536934315987, 0.5418175560688979, 0.2605558356230817, 0.2572262522816409, 0.37477383866496905, 0.3432206758599205, 0.5304490281380617, 0.30981028418886586, 0.271242873125504, 0.27271069035140916, 0.2630834103177149, 0.2630834103177149, 0.24746607986554778, 0.23344962201975133, 0.22178758690182312, 0.21208501641115027, 0.21208501641115027, 0.21208501641115027, 0.20673554456472293, 0.2590124655898889, 0.2011651744864678, 0.19477787067240895, 0.17087774117163837, 0.17087774117163837, 0.19338835647813446, 0.16033999413199101, 0.17117544810243213, 0.2097014004003443, 0.15368192919374843, 0.14901456641278424, 0.14688551296007654, 0.14758419118612598, 0.21872771960959966, 0.14131224985378257, 0.14114446618218918, 0.19329149981213878, 0.17112740231859644, 0.15701350202839973, 0.17375037455830464, 0.18382679121770343, 0.15296048929255018, 0.18447235488351849, 0.43230708156559916, 10.013097606128582, 10.446255320578704, 0.23623511512340048, 0.2140985895195936, 0.1518019289006898, 0.15562210945843155, 0.1490461567601836, 0.1490461567601836, 0.1490461567601836, 0.14166863038142075, 0.317267143383731, 0.1315331382412454, 0.12180514706139114, 0.12148361758957972, 0.11588118154886597, 0.11357957094048197, 0.11197561378481856, 0.11197561378481856, 0.13736904115000445, 0.10581985224634025, 0.10377201487523223, 0.10470579009232864, 0.1014892448052864, 0.10460665687838122, 0.11768084249117854, 0.0922598718578842, 0.11155258321854872, 0.09054651042216073, 0.2285007973292858, 0.10495962483299451, 0.13894934000168788, 0.1048242968740933, 0.19728664498946144, 0.17447131971827734, 0.16637348521739428, 0.15679234083717397, 0.21566022301162624, 0.13531340024643432, 0.13106694750845294, 0.16717927633959676, 0.12503854181671217, 0.12522220773119583, 0.11560854094409422, 0.11391929662326862, 0.11384936497419296, 0.11345818275245487, 0.09665606596261592, 0.09665606596261592, 0.10402434962170122, 0.09622955540543526, 0.0948689907768521, 0.0948689907768521, 0.0948689907768521, 0.0948689907768521, 0.0948689907768521, 0.0948689907768521, 0.0948689907768521, 0.0948689907768521, 0.09752467975381433, 0.09444380785701084, 0.09394233757742661, 0.0929972292773968, 0.0929972292773968, 0.12901956124549158, 0.10645213693793536, 0.14531287279484284, 0.11342792015381084, 0.11517698348185035, 0.10536135574941091, 0.1279745035103011, 0.09789917705806728, 0.13112402649817914, 0.1205248008436007, 0.10102554642738103, 0.1120369328568335, 0.09961923951372857, 0.09942929321551885, 0.8799873551597613, 0.5612974366432758, 0.24754708990114907, 0.5620823656085729, 0.24204538854740942, 0.22007857951284818, 0.20577459204388882, 0.18537217151008362, 0.18064842606847972, 0.16990080848356948, 0.16990080848356948, 0.16688252900102152, 0.14348901637388112, 0.1302974376323676, 0.11722532176388285, 0.11722532176388285, 0.11722532176388285, 0.13807327528600005, 0.12100797756042883, 0.11610761276422273, 0.11608724806583905, 0.11661088488814586, 0.11177870001200144, 0.11027226679270923, 0.11027226679270923, 0.10805596360488526, 0.10800677632692485, 0.1057558898026671, 0.10484821818596746, 0.10356020504966261, 0.272146649398188, 0.26558991194442866, 0.5346454125147678, 0.23262270744903454, 0.11104148289427883, 0.11409370667334817, 0.11157494965406112, 0.2893531072164582, 0.20267114464389155, 0.13423657027769065, 0.13423657027769065, 0.13452880758090544, 0.11870830520909878, 0.11132575833946472, 0.11097012768547498, 0.1073520730671482, 0.10548447909903927, 0.10080783442868987, 0.09653506214788414, 0.11443273764415533, 0.1517114191754603, 0.09324502950628294, 0.0906148434118698, 0.08904720105965605, 0.08904720105965605, 0.08904720105965605, 0.08605158822540118, 0.08505077577313809, 0.08505077577313809, 0.08505077577313809, 0.08505077577313809, 0.08505077577313809, 0.08505077577313809, 0.08505077577313809, 0.08505077577313809, 0.08505077577313809, 0.08505077577313809, 0.08505077577313809, 0.1147033177909878, 0.0953814995891524, 0.22568467697849362, 0.10004345432784711, 0.08866898148790477, 0.09790882258499616, 0.09762455142186152], \"Total\": [21.0, 20.0, 37.0, 34.0, 57.0, 13.0, 33.0, 33.0, 17.0, 18.0, 17.0, 31.0, 11.0, 20.0, 8.0, 11.0, 52.0, 10.0, 15.0, 7.0, 7.0, 6.0, 29.0, 19.0, 8.0, 23.0, 18.0, 21.0, 20.0, 66.0, 66.68697121043228, 25.421868627282826, 26.23257357262936, 31.71446413087355, 37.72164256624808, 32.34884818405764, 19.99815648119118, 22.201923718761034, 48.13000515453901, 21.983189209192126, 16.43704505292536, 31.06619920257989, 24.99422878403006, 15.77808229819941, 19.972548996660066, 23.551159534397573, 27.10685242755032, 14.014563088650792, 81.4958984438165, 23.71853955675322, 18.942308312036285, 16.74124652639847, 36.92474326319821, 15.450365725356564, 16.69506932140202, 21.715870234487447, 14.409807336425724, 18.282326354178732, 28.470218876589485, 12.19095752666825, 39.85730713287513, 33.54636859671475, 28.853604743701446, 68.05493852407592, 38.75333832970958, 70.94914046816896, 52.60334221971513, 44.77312478989624, 47.540088427222834, 31.15061976676804, 123.95390637373612, 84.65218704529659, 35.86926712827466, 83.07398773412801, 43.47337630720061, 29.6352615576898, 96.76896777703756, 60.04735577102996, 77.8048294265447, 56.23184853082676, 56.02171488077766, 55.15886437364845, 69.39056331697775, 62.57893359206132, 54.23521201371729, 57.46794241937851, 54.70717552944841, 74.31778575303778, 57.770451561430434, 45.39623515093756, 49.122779123965245, 56.00040696492221, 43.96791271047125, 48.662313988922556, 59.64015598814713, 53.252554358940266, 47.790701073077365, 8.497928212375225, 8.012334571070596, 6.280468883765859, 5.974003999108116, 7.388926633437313, 5.660505438213761, 5.655540897478197, 5.636583885152159, 5.533886721958672, 5.461655843212604, 5.553407762276964, 5.42196269807347, 5.382804786058963, 5.035806300128584, 9.77705708442764, 4.950060511029455, 4.877727717684121, 5.003684924037866, 4.699055130788175, 4.4788896843335815, 4.5803165415640335, 4.473564705306424, 4.6210977672677185, 4.377615013454094, 4.763897029100565, 4.823972078591439, 4.329879061149497, 4.327216653480262, 4.392135301046212, 4.720951198259441, 8.007304549798242, 5.218471607619305, 5.4556754367154205, 5.46941407292264, 9.616961684730292, 6.156797550865106, 8.38156050156896, 5.6673657312665275, 10.111248956599919, 7.439028014327007, 5.485072524207361, 6.095806589008435, 57.89600999625507, 9.111707884727426, 8.7962481093551, 7.0212445227892815, 33.05969049538602, 13.342614377749191, 29.245592309622758, 18.40497649009156, 52.44220338522369, 9.283428842947304, 20.581226161214456, 7.861530163523189, 59.64015598814713, 29.248509691848753, 19.22158280516509, 44.58579103223987, 18.67873913513016, 74.31778575303778, 48.00869930479527, 53.252554358940266, 42.61505917031405, 96.76896777703756, 13.417698699744022, 6.878208765679452, 8.63845351781692, 6.677020897035744, 6.079327807308076, 5.733883013218189, 4.9117050509075675, 4.332355599216383, 4.2062980039378575, 4.194643731031039, 4.2124282134289315, 3.9330868221858433, 3.9984137234465615, 3.525799044220942, 3.921837485438308, 3.410210899972103, 3.4640256726556706, 3.2616264762055587, 10.296570325783222, 3.2556911169508065, 3.042014607413148, 3.0476749804781966, 3.0309115720731983, 3.029352348867098, 3.0242292139349094, 3.0114676525755537, 3.135091094550355, 3.0098926108862, 3.0711721353599666, 3.9439119106172904, 4.388433257352223, 37.026447313100576, 3.791079006390334, 5.331138040374065, 4.89950650806729, 5.016400731914776, 34.07487267826539, 18.604458506301143, 17.533609377286098, 17.670366949561533, 15.893063859755392, 33.24479488494512, 11.4543316383969, 23.466732507369212, 2.300277588221878, 2.017319080404719, 1.8238008995042538, 1.7428126653226044, 1.556363302859052, 1.1579890960128627, 1.1239394205445714, 0.9789305562221154, 2.1914616797233024, 0.9102406551139492, 0.9021132643558332, 0.8567062945776852, 0.8936565268806295, 0.8176815965692485, 0.7928329477014457, 0.7740468079267057, 0.762647141425291, 0.8628429798706075, 0.7396359283531548, 0.747444679223144, 0.7286372250152418, 0.7710757000914321, 0.7266451846725556, 1.2468315022595495, 0.7595638468806021, 0.7117591248827037, 0.7296715470020954, 0.7005185423753013, 0.6889176848269698, 0.6803691840860052, 1.763324302769389, 1.6534598932657072, 0.7911726707767033, 7.087422877345039, 0.8451576180742415, 3.354175046903817, 5.331138040374065, 3.9601881899258835, 20.408150690810995, 1.3230383167520035, 0.9580706565865476, 0.9801232295692334, 0.8128267393359894, 0.807725616194343, 1.5607813333623968, 0.7331114173274349, 0.6096999168124939, 0.6026761086566076, 0.6026761086566076, 0.7468511591647533, 0.8996348863108886, 0.5691066644740018, 0.5758416336313509, 0.5565052888064487, 0.8560173956653203, 0.53940130469111, 0.5363849742342168, 0.5339734608360638, 0.5323815884097075, 0.5278853260453271, 0.612822774070929, 0.7548026024570952, 0.5801864381050721, 0.5579881079444653, 0.508544052403212, 0.5078623922194865, 0.524546117272413, 0.6803857722056599, 0.6687886445774712, 1.2885674883408524, 2.430902368494007, 2.5396198523128963, 1.121970713271191, 4.454495959100255, 6.441458941534612, 1.959491930224922, 7.165240186288343, 0.6990496732253555, 0.723269769149114, 11.327387137881459, 11.01684569496278, 0.9473187740447766, 0.6071962683422455, 0.568824061839327, 0.5735710341003221, 0.5631937643980719, 0.5631937643980719, 0.5475004936505058, 0.538277527746776, 0.5196610946786722, 0.5103361320509161, 0.5103361320509161, 0.5103361320509161, 0.5041978414372253, 0.635279622757965, 0.4996499066030582, 0.4929613435537316, 0.4684942599953352, 0.4684942599953352, 0.5442865365062605, 0.4577843391824651, 0.4982771154201973, 0.6138865489926114, 0.46004915012026615, 0.44692055686021204, 0.4457705603235621, 0.4485225393965984, 0.673912810616583, 0.4393264269145277, 0.43999415372189704, 0.616523907658504, 0.5503860642234041, 0.5196210891579437, 0.6970945294918698, 0.8587162925659143, 0.5013995134874791, 1.7083838040194206, 0.7351721871269199, 20.18137826613534, 21.812110566806517, 0.5397526979695345, 0.5137000435933493, 0.4538302186060617, 0.46904224215060947, 0.4494568615002219, 0.4494568615002219, 0.4494568615002219, 0.44219944287162155, 1.0645014159691373, 0.44828570344279306, 0.4232056715835732, 0.42524231248505856, 0.4193885137631695, 0.41333680658562993, 0.41144825318931766, 0.41144825318931766, 0.5187308124557745, 0.4069686499529596, 0.4035922530813913, 0.4098331472971534, 0.4014463158173625, 0.431691305666701, 0.4872222783757954, 0.39216692430702493, 0.477052636926549, 0.3900841943122662, 0.9854565380448117, 0.4550592290038531, 31.15061976676804, 2.7678138274919593, 0.5267108895877362, 0.4879021942179111, 0.46636400534327044, 0.4566593094543656, 0.6415423563912553, 0.4352251425904308, 0.43196590847935035, 0.5695213286687802, 0.4271155349014756, 0.4495401869241864, 0.4155961181693331, 0.41407459370309646, 0.4140957138211387, 0.4294734657433046, 0.39726812045117327, 0.39726812045117327, 0.42977937402971667, 0.3977663042648352, 0.3960908449367139, 0.3960908449367139, 0.3960908449367139, 0.3960908449367139, 0.3960908449367139, 0.3960908449367139, 0.3960908449367139, 0.3960908449367139, 0.4084385896595772, 0.39780445413627646, 0.39918236412023145, 0.39687962543058153, 0.39687962543058153, 0.616523907658504, 0.5156891608956679, 1.026770744521844, 0.5969165951727473, 0.6200248740077899, 0.5620029189402547, 1.1667424756563354, 0.44778836867052374, 1.5837669342192735, 1.2330020313291503, 0.5718523453543204, 1.1401411792450151, 0.5787811958763589, 0.6442007920097277, 1.2298429919367349, 1.1342699422076816, 0.5487789573570119, 1.2556961786009537, 0.556957806178073, 0.5200045707477634, 0.5185596542335102, 0.4873565610322032, 0.4967043345475127, 0.47109133633359007, 0.47109133633359007, 0.4837946723236143, 0.44345574936593046, 0.4375290423790361, 0.4172193480402029, 0.4172193480402029, 0.4172193480402029, 0.4920822504503821, 0.43165465006900094, 0.4161781566118886, 0.41634998478888563, 0.41829687343804395, 0.4118407629632499, 0.4114757259768757, 0.4114757259768757, 0.40902751200627985, 0.41084869091115245, 0.40797859099634615, 0.4050643399685951, 0.40382985189807363, 1.0730746835836111, 1.5607813333623968, 4.454495959100255, 8.226089893930643, 0.46118878313062384, 0.5770537740323215, 0.5681369748942416, 0.5904329823606689, 0.5049973374354928, 0.435611147834872, 0.435611147834872, 0.44035806086074447, 0.4198565144947176, 0.4144773721801286, 0.41794633812768106, 0.4095925896026039, 0.40949619383023617, 0.40281869213189325, 0.40066403928946187, 0.47779754858165546, 0.6515970735014689, 0.40281138436809844, 0.39181392830976797, 0.3911962301340882, 0.3911962301340882, 0.3911962301340882, 0.3882514781823412, 0.38599241847017063, 0.38599241847017063, 0.38599241847017063, 0.38599241847017063, 0.38599241847017063, 0.38599241847017063, 0.38599241847017063, 0.38599241847017063, 0.38599241847017063, 0.38599241847017063, 0.38599241847017063, 0.5336025276964149, 0.4449383780859908, 1.716844557914056, 0.9052421887646305, 0.5974670611010447, 1.9237688765107555, 2.906134798179864], \"Category\": [\"Default\", \"Default\", \"Default\", \"Default\", \"Default\", \"Default\", \"Default\", \"Default\", \"Default\", \"Default\", \"Default\", \"Default\", \"Default\", \"Default\", \"Default\", \"Default\", \"Default\", \"Default\", \"Default\", \"Default\", \"Default\", \"Default\", \"Default\", \"Default\", \"Default\", \"Default\", \"Default\", \"Default\", \"Default\", \"Default\", \"Topic1\", \"Topic1\", \"Topic1\", \"Topic1\", \"Topic1\", \"Topic1\", \"Topic1\", \"Topic1\", \"Topic1\", \"Topic1\", \"Topic1\", \"Topic1\", \"Topic1\", \"Topic1\", \"Topic1\", \"Topic1\", \"Topic1\", \"Topic1\", \"Topic1\", \"Topic1\", \"Topic1\", \"Topic1\", \"Topic1\", \"Topic1\", \"Topic1\", \"Topic1\", \"Topic1\", \"Topic1\", \"Topic1\", \"Topic1\", \"Topic1\", \"Topic1\", \"Topic1\", \"Topic1\", \"Topic1\", \"Topic1\", \"Topic1\", \"Topic1\", \"Topic1\", \"Topic1\", \"Topic1\", \"Topic1\", \"Topic1\", \"Topic1\", \"Topic1\", \"Topic1\", \"Topic1\", \"Topic1\", \"Topic1\", \"Topic1\", \"Topic1\", \"Topic1\", \"Topic1\", \"Topic1\", \"Topic1\", \"Topic1\", \"Topic1\", \"Topic1\", \"Topic1\", \"Topic1\", \"Topic1\", \"Topic1\", \"Topic1\", \"Topic1\", \"Topic1\", \"Topic1\", \"Topic1\", \"Topic2\", \"Topic2\", \"Topic2\", \"Topic2\", \"Topic2\", \"Topic2\", \"Topic2\", \"Topic2\", \"Topic2\", \"Topic2\", \"Topic2\", \"Topic2\", \"Topic2\", \"Topic2\", \"Topic2\", \"Topic2\", \"Topic2\", \"Topic2\", \"Topic2\", \"Topic2\", \"Topic2\", \"Topic2\", \"Topic2\", \"Topic2\", \"Topic2\", \"Topic2\", \"Topic2\", \"Topic2\", \"Topic2\", \"Topic2\", \"Topic2\", \"Topic2\", \"Topic2\", \"Topic2\", \"Topic2\", \"Topic2\", \"Topic2\", \"Topic2\", \"Topic2\", \"Topic2\", \"Topic2\", \"Topic2\", \"Topic2\", \"Topic2\", \"Topic2\", \"Topic2\", \"Topic2\", \"Topic2\", \"Topic2\", \"Topic2\", \"Topic2\", \"Topic2\", \"Topic2\", \"Topic2\", \"Topic2\", \"Topic2\", \"Topic2\", \"Topic2\", \"Topic2\", \"Topic2\", \"Topic2\", \"Topic2\", \"Topic2\", \"Topic2\", \"Topic3\", \"Topic3\", \"Topic3\", \"Topic3\", \"Topic3\", \"Topic3\", \"Topic3\", \"Topic3\", \"Topic3\", \"Topic3\", \"Topic3\", \"Topic3\", \"Topic3\", \"Topic3\", \"Topic3\", \"Topic3\", \"Topic3\", \"Topic3\", \"Topic3\", \"Topic3\", \"Topic3\", \"Topic3\", \"Topic3\", \"Topic3\", \"Topic3\", \"Topic3\", \"Topic3\", \"Topic3\", \"Topic3\", \"Topic3\", \"Topic3\", \"Topic3\", \"Topic3\", \"Topic3\", \"Topic3\", \"Topic3\", \"Topic3\", \"Topic3\", \"Topic3\", \"Topic3\", \"Topic3\", \"Topic3\", \"Topic3\", \"Topic3\", \"Topic4\", \"Topic4\", \"Topic4\", \"Topic4\", \"Topic4\", \"Topic4\", \"Topic4\", \"Topic4\", \"Topic4\", \"Topic4\", \"Topic4\", \"Topic4\", \"Topic4\", \"Topic4\", \"Topic4\", \"Topic4\", \"Topic4\", \"Topic4\", \"Topic4\", \"Topic4\", \"Topic4\", \"Topic4\", \"Topic4\", \"Topic4\", \"Topic4\", \"Topic4\", \"Topic4\", \"Topic4\", \"Topic4\", \"Topic4\", \"Topic4\", \"Topic4\", \"Topic4\", \"Topic4\", \"Topic4\", \"Topic4\", \"Topic4\", \"Topic4\", \"Topic4\", \"Topic5\", \"Topic5\", \"Topic5\", \"Topic5\", \"Topic5\", \"Topic5\", \"Topic5\", \"Topic5\", \"Topic5\", \"Topic5\", \"Topic5\", \"Topic5\", \"Topic5\", \"Topic5\", \"Topic5\", \"Topic5\", \"Topic5\", \"Topic5\", \"Topic5\", \"Topic5\", \"Topic5\", \"Topic5\", \"Topic5\", \"Topic5\", \"Topic5\", \"Topic5\", \"Topic5\", \"Topic5\", \"Topic5\", \"Topic5\", \"Topic5\", \"Topic5\", \"Topic5\", \"Topic5\", \"Topic5\", \"Topic5\", \"Topic5\", \"Topic5\", \"Topic5\", \"Topic5\", \"Topic5\", \"Topic5\", \"Topic6\", \"Topic6\", \"Topic6\", \"Topic6\", \"Topic6\", \"Topic6\", \"Topic6\", \"Topic6\", \"Topic6\", \"Topic6\", \"Topic6\", \"Topic6\", \"Topic6\", \"Topic6\", \"Topic6\", \"Topic6\", \"Topic6\", \"Topic6\", \"Topic6\", \"Topic6\", \"Topic6\", \"Topic6\", \"Topic6\", \"Topic6\", \"Topic6\", \"Topic6\", \"Topic6\", \"Topic6\", \"Topic6\", \"Topic6\", \"Topic6\", \"Topic6\", \"Topic6\", \"Topic6\", \"Topic6\", \"Topic6\", \"Topic7\", \"Topic7\", \"Topic7\", \"Topic7\", \"Topic7\", \"Topic7\", \"Topic7\", \"Topic7\", \"Topic7\", \"Topic7\", \"Topic7\", \"Topic7\", \"Topic7\", \"Topic7\", \"Topic7\", \"Topic7\", \"Topic7\", \"Topic7\", \"Topic7\", \"Topic7\", \"Topic7\", \"Topic7\", \"Topic7\", \"Topic7\", \"Topic7\", \"Topic7\", \"Topic7\", \"Topic7\", \"Topic7\", \"Topic7\", \"Topic7\", \"Topic7\", \"Topic7\", \"Topic8\", \"Topic8\", \"Topic8\", \"Topic8\", \"Topic8\", \"Topic8\", \"Topic8\", \"Topic8\", \"Topic8\", \"Topic8\", \"Topic8\", \"Topic8\", \"Topic8\", \"Topic8\", \"Topic8\", \"Topic8\", \"Topic8\", \"Topic8\", \"Topic8\", \"Topic8\", \"Topic8\", \"Topic8\", \"Topic8\", \"Topic8\", \"Topic8\", \"Topic8\", \"Topic8\", \"Topic8\", \"Topic8\", \"Topic8\", \"Topic8\", \"Topic8\", \"Topic8\", \"Topic8\", \"Topic8\", \"Topic8\", \"Topic8\", \"Topic8\", \"Topic8\", \"Topic8\", \"Topic8\", \"Topic8\", \"Topic8\", \"Topic8\", \"Topic8\", \"Topic9\", \"Topic9\", \"Topic9\", \"Topic9\", \"Topic9\", \"Topic9\", \"Topic9\", \"Topic9\", \"Topic9\", \"Topic9\", \"Topic9\", \"Topic9\", \"Topic9\", \"Topic9\", \"Topic9\", \"Topic9\", \"Topic9\", \"Topic9\", \"Topic9\", \"Topic9\", \"Topic9\", \"Topic9\", \"Topic9\", \"Topic9\", \"Topic9\", \"Topic9\", \"Topic9\", \"Topic9\", \"Topic9\", \"Topic9\", \"Topic9\", \"Topic9\", \"Topic9\", \"Topic9\", \"Topic9\", \"Topic9\", \"Topic9\", \"Topic10\", \"Topic10\", \"Topic10\", \"Topic10\", \"Topic10\", \"Topic10\", \"Topic10\", \"Topic10\", \"Topic10\", \"Topic10\", \"Topic10\", \"Topic10\", \"Topic10\", \"Topic10\", \"Topic10\", \"Topic10\", \"Topic10\", \"Topic10\", \"Topic10\", \"Topic10\", \"Topic10\", \"Topic10\", \"Topic10\", \"Topic10\", \"Topic10\", \"Topic10\", \"Topic10\", \"Topic10\", \"Topic10\", \"Topic10\", \"Topic10\", \"Topic10\", \"Topic10\", \"Topic10\", \"Topic10\", \"Topic10\", \"Topic10\", \"Topic10\"], \"logprob\": [30.0, 29.0, 28.0, 27.0, 26.0, 25.0, 24.0, 23.0, 22.0, 21.0, 20.0, 19.0, 18.0, 17.0, 16.0, 15.0, 14.0, 13.0, 12.0, 11.0, 10.0, 9.0, 8.0, 7.0, 6.0, 5.0, 4.0, 3.0, 2.0, 1.0, -6.230800151824951, -7.202700138092041, -7.1717000007629395, -6.982900142669678, -6.809500217437744, -6.964600086212158, -7.4456000328063965, -7.341100215911865, -6.567800045013428, -7.352099895477295, -7.6433000564575195, -7.0071001052856445, -7.224999904632568, -7.685100078582764, -7.449399948120117, -7.2846999168396, -7.144499778747559, -7.8043999671936035, -6.044400215148926, -7.279200077056885, -7.5040998458862305, -7.627699851989746, -6.8368000984191895, -7.708199977874756, -7.63070011138916, -7.368199825286865, -7.778800010681152, -7.540900230407715, -7.0980000495910645, -7.946300029754639, -6.763700008392334, -6.934500217437744, -7.085700035095215, -6.236299991607666, -6.795599937438965, -6.199699878692627, -6.496300220489502, -6.655700206756592, -6.599299907684326, -7.013599872589111, -5.666299819946289, -6.042200088500977, -6.878200054168701, -6.071100234985352, -6.695700168609619, -7.063700199127197, -5.928699970245361, -6.390200138092041, -6.144499778747559, -6.454999923706055, -6.463399887084961, -6.482800006866455, -6.273900032043457, -6.371600151062012, -6.503300189971924, -6.452400207519531, -6.5015997886657715, -6.2368998527526855, -6.456699848175049, -6.670100212097168, -6.604300022125244, -6.501699924468994, -6.69789981842041, -6.632800102233887, -6.5177001953125, -6.585999965667725, -6.64900016784668, -6.770400047302246, -6.835700035095215, -7.082699775695801, -7.135000228881836, -6.923799991607666, -7.191100120544434, -7.191999912261963, -7.195899963378906, -7.214700222015381, -7.228400230407715, -7.211900234222412, -7.236000061035156, -7.24370002746582, -7.314499855041504, -6.651199817657471, -7.332099914550781, -7.348999977111816, -7.323800086975098, -7.387800216674805, -7.436999797821045, -7.41480016708374, -7.438399791717529, -7.4070000648498535, -7.461299896240234, -7.377299785614014, -7.364799976348877, -7.473499774932861, -7.474800109863281, -7.460000038146973, -7.387899875640869, -6.864099979400635, -7.290299892425537, -7.2484002113342285, -7.247300148010254, -6.709099769592285, -7.140100002288818, -6.861000061035156, -7.226099967956543, -6.716899871826172, -6.99429988861084, -7.258999824523926, -7.177499771118164, -5.728700160980225, -6.94320011138916, -6.970699787139893, -7.113500118255615, -6.290999889373779, -6.817699909210205, -6.564599990844727, -6.761600017547607, -6.388800144195557, -7.053800106048584, -6.785099983215332, -7.124000072479248, -6.6757001876831055, -6.901599884033203, -6.98199987411499, -6.850599765777588, -7.030700206756592, -6.870200157165527, -7.029799938201904, -7.061100006103516, -7.06820011138916, -7.112299919128418, -5.693299770355225, -6.3678998947143555, -6.1402997970581055, -6.401899814605713, -6.497799873352051, -6.557700157165527, -6.721799850463867, -6.853400230407715, -6.884399890899658, -6.887199878692627, -6.882999897003174, -6.955999851226807, -6.939599990844727, -7.073500156402588, -6.969600200653076, -7.109600067138672, -7.095600128173828, -7.157599925994873, -6.008699893951416, -7.160299777984619, -7.233099937438965, -7.231500148773193, -7.237199783325195, -7.23769998550415, -7.23960018157959, -7.244200229644775, -7.2042999267578125, -7.245100021362305, -7.225599765777588, -6.975500106811523, -6.890699863433838, -4.9105000495910645, -7.043099880218506, -6.825300216674805, -6.89769983291626, -6.924799919128418, -5.847799777984619, -6.215400218963623, -6.286600112915039, -6.439000129699707, -6.54580020904541, -6.576300144195557, -6.979400157928467, -6.9319000244140625, -5.929500102996826, -6.081500053405762, -6.2006001472473145, -6.256999969482422, -6.39169979095459, -6.771699905395508, -6.815000057220459, -7.001999855041504, -6.225399971008301, -7.106500148773193, -7.121500015258789, -7.1946001052856445, -7.1722002029418945, -7.277900218963623, -7.315499782562256, -7.356400012969971, -7.3755998611450195, -7.27839994430542, -7.435500144958496, -7.428800106048584, -7.457399845123291, -7.401199817657471, -7.4618000984191895, -6.923799991607666, -7.428299903869629, -7.493500232696533, -7.481599807739258, -7.524199962615967, -7.545199871063232, -7.5671000480651855, -6.632599830627441, -6.81689977645874, -7.435400009155273, -6.2444000244140625, -7.4028000831604, -6.842599868774414, -7.164999961853027, -7.2621002197265625, -7.424699783325195, -6.260300159454346, -6.696000099182129, -6.6915998458862305, -6.938700199127197, -6.951499938964844, -6.325699806213379, -7.105599880218506, -7.4375, -7.465099811553955, -7.465099811553955, -7.259699821472168, -7.112800121307373, -7.5894999504089355, -7.5854997634887695, -7.621699810028076, -7.210700035095215, -7.687900066375732, -7.702099800109863, -7.714200019836426, -7.717700004577637, -7.7484002113342285, -7.607800006866455, -7.421299934387207, -7.684800148010254, -7.7266998291015625, -7.82289981842041, -7.825500011444092, -7.79449987411499, -7.543600082397461, -7.566199779510498, -7.018099784851074, -6.501699924468994, -6.476900100708008, -7.189700126647949, -6.3053998947143555, -6.664100170135498, -7.276700019836426, -6.894499778747559, -7.6265997886657715, -7.639500141143799, -7.2631001472473145, -7.351099967956543, -6.6519999504089355, -7.189799785614014, -7.322700023651123, -7.317399978637695, -7.353300094604492, -7.353300094604492, -7.4145002365112305, -7.472799777984619, -7.52400016784668, -7.56879997253418, -7.56879997253418, -7.56879997253418, -7.594299793243408, -7.368899822235107, -7.621600151062012, -7.653900146484375, -7.784800052642822, -7.784800052642822, -7.661099910736084, -7.848499774932861, -7.783100128173828, -7.580100059509277, -7.890900135040283, -7.9217000007629395, -7.936100006103516, -7.931399822235107, -7.537899971008301, -7.974800109863281, -7.97599983215332, -7.661600112915039, -7.783400058746338, -7.8694000244140625, -7.768099784851074, -7.7118000984191895, -7.895599842071533, -7.7083001136779785, -6.7027997970581055, -3.56030011177063, -3.5179998874664307, -7.30709981918335, -7.4054999351501465, -7.7494001388549805, -7.7245001792907715, -7.7677001953125, -7.7677001953125, -7.7677001953125, -7.81850004196167, -7.012199878692627, -7.8927001953125, -7.969600200653076, -7.9721999168396, -8.019399642944336, -8.03950023651123, -8.05370044708252, -8.05370044708252, -7.849299907684326, -8.110199928283691, -8.129799842834473, -8.120800018310547, -8.152000427246094, -8.121800422668457, -8.003999710083008, -8.247400283813477, -8.057499885559082, -8.26609992980957, -7.340400218963623, -8.118399620056152, -7.837900161743164, -8.11970043182373, -7.402400016784668, -7.525300025939941, -7.572800159454346, -7.6321001052856445, -7.313300132751465, -7.779399871826172, -7.811299800872803, -7.567999839782715, -7.858399868011475, -7.856900215148926, -7.936800003051758, -7.951499938964844, -7.952199935913086, -7.955599784851074, -8.115900039672852, -8.115900039672852, -8.042400360107422, -8.12030029296875, -8.134499549865723, -8.134499549865723, -8.134499549865723, -8.134499549865723, -8.134499549865723, -8.134499549865723, -8.134499549865723, -8.134499549865723, -8.106900215148926, -8.138999938964844, -8.144399642944336, -8.154500007629395, -8.154500007629395, -7.827099800109863, -8.01930046081543, -7.708099842071533, -7.955900192260742, -7.9405999183654785, -8.029600143432617, -7.83519983291626, -8.103099822998047, -7.8109002113342285, -7.895199775695801, -8.071700096130371, -7.968200206756592, -8.085700035095215, -8.087599754333496, -5.905200004577637, -6.354800224304199, -7.173500061035156, -6.353499889373779, -7.196000099182129, -7.291100025177002, -7.35830020904541, -7.462699890136719, -7.488500118255615, -7.549900054931641, -7.549900054931641, -7.567800045013428, -7.718800067901611, -7.815299987792969, -7.921000003814697, -7.921000003814697, -7.921000003814697, -7.757299900054932, -7.889200210571289, -7.930600166320801, -7.930799961090088, -7.926300048828125, -7.968599796295166, -7.982100009918213, -7.982100009918213, -8.0024995803833, -8.002900123596191, -8.02400016784668, -8.032600402832031, -8.044899940490723, -7.078800201416016, -7.103099822998047, -6.403500080108643, -7.2357001304626465, -7.975200176239014, -7.9481000900268555, -7.970399856567383, -6.9045000076293945, -7.2606000900268555, -7.672599792480469, -7.672599792480469, -7.670400142669678, -7.795499801635742, -7.8597002029418945, -7.8628997802734375, -7.896100044250488, -7.913599967956543, -7.959000110626221, -8.002300262451172, -7.832200050354004, -7.55019998550415, -8.036999702453613, -8.065600395202637, -8.083000183105469, -8.083000183105469, -8.083000183105469, -8.117199897766113, -8.128899574279785, -8.128899574279785, -8.128899574279785, -8.128899574279785, -8.128899574279785, -8.128899574279785, -8.128899574279785, -8.128899574279785, -8.128899574279785, -8.128899574279785, -8.128899574279785, -7.829800128936768, -8.014300346374512, -7.1529998779296875, -7.966599941253662, -8.087300300598145, -7.9882001876831055, -7.991099834442139], \"loglift\": [30.0, 29.0, 28.0, 27.0, 26.0, 25.0, 24.0, 23.0, 22.0, 21.0, 20.0, 19.0, 18.0, 17.0, 16.0, 15.0, 14.0, 13.0, 12.0, 11.0, 10.0, 9.0, 8.0, 7.0, 6.0, 5.0, 4.0, 3.0, 2.0, 1.0, 0.3443, 0.3367, 0.3364, 0.3354, 0.3353, 0.3339, 0.3339, 0.3338, 0.3333, 0.3327, 0.3322, 0.3318, 0.3314, 0.3313, 0.3313, 0.3312, 0.3307, 0.3306, 0.3301, 0.3296, 0.3295, 0.3294, 0.3294, 0.3293, 0.3292, 0.3288, 0.3284, 0.3282, 0.3282, 0.3281, 0.3261, 0.3276, 0.3271, 0.3185, 0.3222, 0.3134, 0.316, 0.3177, 0.3142, 0.3226, 0.2889, 0.2943, 0.317, 0.2842, 0.3072, 0.3224, 0.2741, 0.2897, 0.2764, 0.2906, 0.2859, 0.282, 0.2614, 0.2671, 0.2784, 0.2714, 0.2714, 0.2298, 0.2619, 0.2896, 0.2764, 0.248, 0.2937, 0.2574, 0.1691, 0.214, 0.2592, 1.8648, 1.8584, 1.8549, 1.8526, 1.8513, 1.8505, 1.8504, 1.8499, 1.8495, 1.8489, 1.8487, 1.8486, 1.8482, 1.844, 1.8438, 1.8435, 1.8414, 1.8411, 1.8399, 1.8387, 1.8385, 1.8384, 1.8374, 1.8373, 1.8367, 1.8366, 1.836, 1.8353, 1.8352, 1.8352, 1.8306, 1.8325, 1.83, 1.8286, 1.8024, 1.8174, 1.788, 1.8143, 1.7445, 1.774, 1.814, 1.79, 0.9877, 1.6223, 1.63, 1.7126, 0.9857, 1.3664, 0.8347, 1.1009, 0.4266, 1.493, 0.9656, 1.5891, 0.0111, 0.4976, 0.8371, 0.127, 0.817, -0.4035, -0.1262, -0.2611, -0.0454, -0.9096, 2.4852, 2.4788, 2.4785, 2.4745, 2.4724, 2.4709, 2.4617, 2.4555, 2.4541, 2.454, 2.454, 2.4496, 2.4496, 2.4414, 2.4389, 2.4386, 2.437, 2.4353, 2.4345, 2.4344, 2.4295, 2.4292, 2.4291, 2.429, 2.4288, 2.4284, 2.4281, 2.4281, 2.4274, 2.4274, 2.4054, 2.2529, 2.3994, 2.2762, 2.2882, 2.2375, 1.3987, 1.6363, 1.6244, 1.4642, 1.4634, 0.6949, 1.3573, 0.6876, 4.0125, 3.9918, 3.9736, 3.9626, 3.9411, 3.8567, 3.8432, 3.7944, 3.7651, 3.7626, 3.7566, 3.7352, 3.7153, 3.6984, 3.6917, 3.6748, 3.6705, 3.6442, 3.6412, 3.6374, 3.6342, 3.6338, 3.6326, 3.6307, 3.6218, 3.6216, 3.6086, 3.6068, 3.6025, 3.5931, 3.5753, 3.4553, 3.5739, 2.5723, 3.5405, 2.7222, 1.9365, 2.1367, 0.3344, 4.2348, 4.1219, 4.1035, 4.0436, 4.0371, 4.0042, 3.9799, 3.8324, 3.8164, 3.8164, 3.8073, 3.768, 3.7493, 3.7415, 3.7395, 3.7198, 3.7045, 3.6959, 3.6883, 3.6877, 3.6655, 3.6569, 3.6351, 3.6346, 3.6318, 3.6284, 3.6271, 3.6258, 3.6166, 3.6112, 3.5035, 3.3851, 3.3662, 3.4703, 2.9757, 2.2482, 2.8257, 1.9113, 3.5065, 3.4595, 1.0847, 1.0246, 4.1771, 4.0842, 4.0165, 4.0136, 3.9959, 3.9959, 3.963, 3.9217, 3.9056, 3.879, 3.879, 3.879, 3.8655, 3.8599, 3.8473, 3.8285, 3.7485, 3.7485, 3.7223, 3.708, 3.6886, 3.6829, 3.6606, 3.6587, 3.6469, 3.6455, 3.6318, 3.6228, 3.6201, 3.5972, 3.5888, 3.5603, 3.3678, 3.2156, 3.5698, 2.5313, 4.3799, 4.21, 4.1746, 4.0846, 4.0356, 3.8157, 3.8076, 3.8071, 3.8071, 3.8071, 3.7726, 3.7003, 3.6847, 3.6654, 3.658, 3.6246, 3.6191, 3.6094, 3.6094, 3.5821, 3.5639, 3.5526, 3.5463, 3.5357, 3.4933, 3.4901, 3.4638, 3.4577, 3.4504, 3.4493, 3.444, -0.5016, 1.6373, 4.0138, 3.9674, 3.9651, 3.9268, 3.9056, 3.8275, 3.8031, 3.7701, 3.7674, 3.7177, 3.7163, 3.7052, 3.7046, 3.6647, 3.5823, 3.5823, 3.5771, 3.5767, 3.5666, 3.5666, 3.5666, 3.5666, 3.5666, 3.5666, 3.5666, 3.5666, 3.5636, 3.5578, 3.549, 3.5447, 3.5447, 3.4317, 3.418, 3.0405, 3.3352, 3.3125, 3.3217, 2.7856, 3.4754, 2.5044, 2.6704, 3.2623, 2.6757, 3.2362, 3.1272, 4.663, 4.2942, 4.2016, 4.1939, 4.1644, 4.1379, 4.0734, 4.0311, 3.9863, 3.9779, 3.9779, 3.9334, 3.8694, 3.7864, 3.7282, 3.7282, 3.7282, 3.7269, 3.726, 3.7211, 3.7205, 3.7204, 3.6936, 3.6809, 3.6809, 3.6666, 3.6617, 3.6476, 3.6462, 3.6369, 3.6258, 3.2267, 2.8777, 1.4321, 3.5738, 3.3768, 3.3701, 4.3974, 4.1977, 3.9335, 3.9335, 3.9248, 3.8474, 3.7961, 3.7845, 3.7716, 3.7543, 3.7254, 3.6874, 3.6814, 3.6532, 3.6474, 3.6465, 3.6306, 3.6306, 3.6306, 3.6039, 3.5981, 3.5981, 3.5981, 3.5981, 3.5981, 3.5981, 3.5981, 3.5981, 3.5981, 3.5981, 3.5981, 3.5733, 3.5706, 3.0815, 2.908, 3.2028, 2.1326, 1.7172]}, \"token.table\": {\"Topic\": [3, 3, 2, 3, 1, 2, 3, 2, 1, 2, 3, 3, 2, 1, 2, 5, 1, 5, 3, 3, 6, 1, 1, 3, 1, 2, 5, 2, 9, 3, 1, 1, 2, 3, 3, 5, 9, 3, 1, 2, 3, 9, 5, 1, 2, 1, 2, 3, 4, 4, 1, 1, 2, 4, 1, 2, 3, 2, 5, 1, 1, 3, 2, 2, 3, 4, 1, 2, 1, 4, 3, 4, 1, 3, 1, 2, 1, 2, 3, 2, 1, 2, 1, 2, 1, 2, 1, 2, 2, 1, 4, 5, 4, 1, 3, 2, 1, 2, 1, 3, 1, 2, 2, 3, 1, 2, 4, 1, 1, 1, 3, 1, 1, 2, 1, 1, 4, 1, 1, 2, 2, 2, 4, 3, 1, 1, 3, 2, 2, 2, 3, 3, 9, 5, 1, 2, 3, 1, 4, 1, 2, 3, 1, 2, 2, 3, 3, 1, 2, 3, 1, 2, 3, 3, 1, 4, 2, 3, 1, 1, 2, 2, 4, 1, 2, 2, 2, 1, 2, 3, 1, 1, 1, 3, 3, 1, 5, 1, 2, 1, 2, 4, 1, 2, 3, 1, 2, 5, 3, 1, 3, 5, 1, 1, 4, 2, 1, 2, 3, 1, 2, 3, 1, 1, 1, 3, 3, 1, 2, 3, 3, 2, 4, 1, 4, 1, 2, 1, 3, 1, 2, 3, 2, 1, 2, 3, 1, 2, 1, 2, 3, 1, 2, 1, 2, 1, 2, 3, 2, 1, 2, 3, 1, 2, 3, 1, 2, 1, 2, 3, 3, 3, 1, 2, 1, 2, 1, 1, 1, 3, 4, 1, 2, 2, 3, 2, 2, 3, 1, 4, 1, 4, 2, 1, 2, 2, 3, 3, 1, 1, 2, 3, 3, 1, 1, 2, 3, 3, 1, 1, 1, 2, 1, 2, 3, 1, 7, 2, 1, 3, 1, 2, 3, 4, 1, 2, 3, 2, 1, 2, 1, 1, 1, 3, 2, 3, 1, 7, 1, 2, 3, 4, 3, 1, 2, 1, 2, 1, 2, 2, 1, 2, 2, 1, 1, 1, 2, 3, 2, 3, 1, 2], \"Freq\": [0.9197864997374181, 0.9843569341273012, 0.8900977553445983, 0.09889975059384426, 0.9552420711114953, 0.022743858835987982, 0.022743858835987982, 0.9141747056148917, 0.9364291031644472, 0.06107146324985525, 0.020357154416618416, 0.9569099938482871, 0.9003480770787016, 0.9394069232773972, 0.39375971923092135, 0.39375971923092135, 0.7762216673865503, 0.15524433347731006, 0.8720094198771783, 1.0179764355101326, 1.055610875028149, 0.8912888617960659, 0.9697055733539616, 0.9919883010774226, 0.3231564598331708, 0.6463129196663416, 0.6407047410322985, 0.9288837694708162, 0.8816243495385712, 0.582463913457015, 0.9630627006658937, 0.9300502223746591, 0.06200334815831061, 0.010333891359718433, 0.4489845806042603, 0.22449229030213014, 0.22449229030213014, 1.014758095759396, 0.9389220636624918, 0.048149849418589324, 0.012037462354647331, 0.8131119228684776, 1.0202798687257955, 0.25440339964347203, 0.7632101989304162, 0.8383613216896514, 0.15090503790413723, 0.016767226433793025, 0.9914148036505736, 0.8020329917777717, 0.9774719784661904, 0.9547428378518857, 1.1046767510523168, 0.8897276683430854, 0.9253924278309096, 0.05141069043505053, 0.012852672608762633, 0.9984605521697594, 1.0437643540434063, 0.9909051251000198, 0.622511124494387, 0.3395515224514838, 0.8870621110014805, 0.9238133313908493, 1.0142214356339239, 1.1589594205772649, 0.8447717943115718, 0.14079529905192864, 0.5962718021667255, 0.29813590108336274, 0.750308840196405, 0.18757721004910125, 0.8339276928936757, 0.13898794881561263, 0.9310005736362467, 0.049000030191381404, 0.9816444941109794, 0.012270556176387242, 0.012270556176387242, 0.915473282010927, 0.9765218152187868, 0.020777059898272058, 0.9557233372539116, 0.8472868775840666, 0.9041904585551792, 0.08219913259592539, 0.8074321250455889, 0.179429361121242, 0.9243817262495765, 1.0030456524629079, 0.45631644361048634, 1.2380441822701767, 1.1189981496476837, 0.6456370419259898, 0.3228185209629949, 0.8930784819263, 0.9757656847248647, 0.027879019563567562, 0.6292052991319138, 0.37752317947914826, 0.9661085374002439, 0.023002584223815334, 0.9544761978992415, 0.11930952473740519, 0.3747391521963079, 0.5995826435140926, 1.1085082544641047, 0.9896985693312638, 0.9739272426053484, 0.5703332260244427, 0.39923325821710987, 0.5853485602282332, 0.2194978181151194, 0.768242363402918, 0.9583667903366544, 0.705475048763142, 0.1410950097526284, 1.0002309019421967, 0.9749560001918856, 0.9473635816496956, 0.8833133462332312, 0.9205223946513217, 0.869460281767996, 1.0199300748314808, 0.9960581027311854, 0.9708508048701112, 1.000396726467833, 0.9992635579390374, 0.8941415322003292, 0.941405928606209, 0.8797109879698471, 0.9509549718672512, 0.7963709829189413, 0.7558360081777168, 0.9438992559639933, 0.04840509004943555, 0.008067515008239259, 0.9319015864398432, 0.6425235021688007, 0.9206811997321204, 0.06277371816355366, 0.020924572721184552, 0.9460617211163866, 0.05355066345941811, 0.8822441037138807, 0.7760555881225831, 0.898604346537794, 0.9670346973546307, 0.9409831481368974, 0.1344261640195568, 0.5375055660240313, 0.05375055660240313, 0.43000445281922506, 1.0396259261806486, 0.5671106548179765, 0.5671106548179765, 0.9553426839688941, 0.9861885582959523, 0.857087164361153, 0.9834838334532041, 0.873302088120339, 0.9035240963931933, 1.167261179623936, 0.5830556404172911, 0.38870376027819403, 0.8840887353903669, 0.9137395562895462, 0.8880781273452056, 0.0941901044154006, 0.013455729202200086, 0.907700831697433, 0.9989608603166098, 0.9710977356122491, 1.0170128911054572, 0.9214633367337747, 0.8373759768000258, 0.1395626628000043, 0.2273696666051216, 0.7957938331179255, 0.7521750759879285, 0.23932843326888636, 1.0966109297038074, 0.8121572141877442, 0.030079896821768305, 0.15039948410884152, 0.9892160554813955, 0.8396487110375703, 1.2302744872996123, 0.94957107808942, 0.9784905906960282, 0.41136987357477467, 0.41136987357477467, 0.9978690923164365, 0.7575397572346546, 0.25251325241155154, 0.910718756557248, 0.969804711184201, 0.029388021551036394, 0.9232852448038896, 0.942731519049229, 0.05438835686822475, 0.018129452289408248, 0.9808692698102766, 0.9734109718919596, 0.21606177693341555, 0.7562162192669544, 0.6314060348108956, 0.9222533079960786, 0.0522030174337403, 0.017401005811246765, 0.9903106850947612, 0.8202359978112949, 1.0215229197249656, 1.014064934990605, 1.261299751604882, 0.9174240215803445, 0.06923954879851657, 0.9834052864693795, 1.017706824330232, 0.9403484951271319, 0.05531461736041953, 0.018438205786806508, 1.0250674677622087, 0.5872598129335553, 0.39726399110211097, 0.9869512206246365, 0.7225919533078893, 0.9745326121949432, 0.9492507916143716, 0.016653522659901256, 0.03330704531980251, 0.5433313107128154, 0.43466504857025234, 0.6049663411940079, 0.3932281217761051, 0.6496705486025796, 0.3419318676855682, 0.9898012293205722, 0.99908776420919, 0.8096568192454346, 0.042613516802391296, 0.17045406720956519, 0.9223156138342108, 0.07205590733079771, 0.014411181466159544, 0.9322360276586958, 0.05483741339168799, 0.14242489301636468, 0.8545493580981882, 0.9260916879971511, 0.9688695722648779, 0.9114870308893371, 0.9837130330473906, 0.029809485849920925, 0.6424416505411182, 0.3212208252705591, 0.9911341686706628, 0.8110286719657882, 0.6984257355691201, 0.34921286778456007, 0.5737851347407407, 0.9107076673915175, 0.08928506543054093, 0.09711971737773119, 0.8740774563995807, 1.0100886623222631, 0.911564975291287, 0.9535970767693313, 0.9843361338721326, 0.8635659899071211, 0.6047924138183509, 0.6047924138183509, 0.9928896589752331, 1.0013744366502506, 1.0364902446657527, 0.20410218832313998, 0.8164087532925599, 0.7913314375519813, 1.0322989841623742, 0.9676044265340294, 0.02103487883769629, 0.02103487883769629, 0.9768257420219058, 0.9725155089664828, 0.9603975644269446, 0.022334827079696386, 0.022334827079696386, 0.8508709550299619, 0.9704160103639119, 1.0007647111912608, 0.8825867710157914, 0.11267065161903721, 0.8540118893807394, 0.12497734966547405, 0.8660443898211849, 0.4955062963553957, 0.4955062963553957, 0.8512349586605249, 0.1993461155600894, 0.7973844622403576, 0.9725276380332833, 0.01409460344975773, 0.01409460344975773, 1.222969923984722, 0.9425263686813526, 0.0355670327804284, 0.0177835163902142, 0.9581349437064441, 0.9695201454497274, 0.01901019893038681, 1.0000921844376283, 0.9845574163424666, 0.9765973503940398, 0.9961920053945305, 1.004351520503797, 0.5103363706556393, 0.504306998000446, 0.45846090727313266, 0.9268294723283332, 0.06391927395367815, 0.015979818488419537, 1.0986105645597803, 0.9967133010492067, 0.9472151128178288, 0.04405651687524785, 0.7627444580498032, 0.22882333741494096, 0.6242982235976655, 0.3641739637653049, 0.9221752856722158, 0.9785639969313865, 0.916476806217461, 0.865595190028851, 0.8770843630629896, 0.9715605263236383, 0.9450435103016624, 0.03543913163631234, 0.02362608775754156, 0.9358465069368117, 0.10398294521520131, 0.9805606855517776, 0.02580422856715204], \"Term\": [\"accounting\", \"accusation\", \"ad\", \"ad\", \"administration\", \"administration\", \"administration\", \"aid\", \"al\", \"al\", \"al\", \"anybody\", \"approval\", \"arafat\", \"atlantic\", \"atlantic\", \"author\", \"author\", \"balkans\", \"barrels\", \"bat\", \"beaverton\", \"billion\", \"bipartisanship\", \"bit\", \"bit\", \"blondes\", \"bosnia\", \"bosses\", \"brookings\", \"buchanan\", \"bush\", \"bush\", \"bush\", \"bushnell\", \"bushnell\", \"bushnell\", \"buttons\", \"campaign\", \"campaign\", \"campaign\", \"candace\", \"carbon\", \"carter\", \"carter\", \"cheney\", \"cheney\", \"cheney\", \"chernomyrdin\", \"chester\", \"children\", \"city\", \"clark\", \"clemency\", \"clinton\", \"clinton\", \"clinton\", \"cnn\", \"collins\", \"commission\", \"companies\", \"companies\", \"comparison\", \"competitive\", \"consumers\", \"continuation\", \"convention\", \"convention\", \"convicted\", \"convicted\", \"corzine\", \"corzine\", \"coverage\", \"coverage\", \"death\", \"death\", \"debate\", \"debate\", \"debate\", \"debater\", \"debates\", \"debates\", \"debt\", \"defend\", \"democratic\", \"democratic\", \"democrats\", \"democrats\", \"desire\", \"differences\", \"dna\", \"dow\", \"dowd\", \"drug\", \"drug\", \"editing\", \"education\", \"education\", \"elderly\", \"elderly\", \"election\", \"election\", \"elections\", \"elections\", \"electoral\", \"electoral\", \"ellis\", \"else\", \"elton\", \"energy\", \"energy\", \"enterprise\", \"error\", \"error\", \"event\", \"execution\", \"execution\", \"family\", \"federal\", \"fighting\", \"ford\", \"fox\", \"franks\", \"fuel\", \"fund\", \"future\", \"gains\", \"gallup\", \"games\", \"gap\", \"gas\", \"gasoline\", \"geeks\", \"glamorous\", \"gore\", \"gore\", \"gore\", \"gorelick\", \"gorey\", \"gov\", \"gov\", \"gov\", \"governor\", \"governor\", \"happen\", \"hartford\", \"heating\", \"held\", \"hour\", \"hour\", \"industry\", \"industry\", \"industry\", \"injected\", \"inmate\", \"inmate\", \"intervention\", \"jesus\", \"jonathan\", \"joseph\", \"kentucky\", \"kiss\", \"klink\", \"lead\", \"lead\", \"letterman\", \"liberals\", \"lieberman\", \"lieberman\", \"lieberman\", \"lives\", \"local\", \"love\", \"madison\", \"maintenance\", \"manhattan\", \"manhattan\", \"margin\", \"margin\", \"mccain\", \"mccain\", \"mcginn\", \"medicare\", \"medicare\", \"medicare\", \"military\", \"milwaukee\", \"misattributed\", \"moderator\", \"money\", \"monthly\", \"monthly\", \"mrs\", \"murder\", \"murder\", \"muslim\", \"nader\", \"nader\", \"nato\", \"new\", \"new\", \"new\", \"oct\", \"official\", \"oil\", \"oil\", \"omitted\", \"one\", \"one\", \"one\", \"ore\", \"oregon\", \"pardons\", \"parents\", \"parole\", \"party\", \"party\", \"pat\", \"peacekeeping\", \"people\", \"people\", \"people\", \"per\", \"percent\", \"percent\", \"petroleum\", \"photographer\", \"picture\", \"plan\", \"plan\", \"plan\", \"points\", \"points\", \"poll\", \"poll\", \"polls\", \"polls\", \"portland\", \"post\", \"prescription\", \"prescription\", \"prescription\", \"president\", \"president\", \"president\", \"presidential\", \"presidential\", \"pretty\", \"pretty\", \"price\", \"prices\", \"production\", \"ralph\", \"ralph\", \"reagan\", \"reagan\", \"reform\", \"reiner\", \"release\", \"release\", \"reprieve\", \"republican\", \"republican\", \"reserve\", \"reserve\", \"resources\", \"rest\", \"retirees\", \"return\", \"revival\", \"ricky\", \"ricky\", \"ridge\", \"role\", \"sampling\", \"sanctions\", \"sanctions\", \"scalia\", \"scholar\", \"security\", \"security\", \"security\", \"september\", \"sex\", \"social\", \"social\", \"social\", \"sources\", \"spending\", \"spokesman\", \"state\", \"state\", \"states\", \"states\", \"stocks\", \"string\", \"string\", \"suddenly\", \"supply\", \"supply\", \"tax\", \"tax\", \"tax\", \"taylor\", \"texas\", \"texas\", \"texas\", \"themes\", \"today\", \"today\", \"tonight\", \"toward\", \"trillion\", \"trusted\", \"uninsured\", \"upstate\", \"var\", \"var\", \"vice\", \"vice\", \"vice\", \"viktor\", \"voluntary\", \"vote\", \"vote\", \"voters\", \"voters\", \"votes\", \"votes\", \"voucher\", \"want\", \"wing\", \"wish\", \"withholding\", \"woman\", \"would\", \"would\", \"would\", \"wrong\", \"wrong\", \"york\", \"york\"]}, \"R\": 30, \"lambda.step\": 0.01, \"plot.opts\": {\"xlab\": \"PC1\", \"ylab\": \"PC2\"}, \"topic.order\": [1, 4, 7, 3, 2, 10, 9, 8, 6, 5]};\n",
              "\n",
              "function LDAvis_load_lib(url, callback){\n",
              "  var s = document.createElement('script');\n",
              "  s.src = url;\n",
              "  s.async = true;\n",
              "  s.onreadystatechange = s.onload = callback;\n",
              "  s.onerror = function(){console.warn(\"failed to load library \" + url);};\n",
              "  document.getElementsByTagName(\"head\")[0].appendChild(s);\n",
              "}\n",
              "\n",
              "if(typeof(LDAvis) !== \"undefined\"){\n",
              "   // already loaded: just create the visualization\n",
              "   !function(LDAvis){\n",
              "       new LDAvis(\"#\" + \"ldavis_el56140005008236616861403638\", ldavis_el56140005008236616861403638_data);\n",
              "   }(LDAvis);\n",
              "}else if(typeof define === \"function\" && define.amd){\n",
              "   // require.js is available: use it to load d3/LDAvis\n",
              "   require.config({paths: {d3: \"https://cdnjs.cloudflare.com/ajax/libs/d3/3.5.5/d3.min\"}});\n",
              "   require([\"d3\"], function(d3){\n",
              "      window.d3 = d3;\n",
              "      LDAvis_load_lib(\"https://cdn.rawgit.com/bmabey/pyLDAvis/files/ldavis.v1.0.0.js\", function(){\n",
              "        new LDAvis(\"#\" + \"ldavis_el56140005008236616861403638\", ldavis_el56140005008236616861403638_data);\n",
              "      });\n",
              "    });\n",
              "}else{\n",
              "    // require.js not available: dynamically load d3 & LDAvis\n",
              "    LDAvis_load_lib(\"https://cdnjs.cloudflare.com/ajax/libs/d3/3.5.5/d3.min.js\", function(){\n",
              "         LDAvis_load_lib(\"https://cdn.rawgit.com/bmabey/pyLDAvis/files/ldavis.v1.0.0.js\", function(){\n",
              "                 new LDAvis(\"#\" + \"ldavis_el56140005008236616861403638\", ldavis_el56140005008236616861403638_data);\n",
              "            })\n",
              "         });\n",
              "}\n",
              "</script>"
            ],
            "text/plain": [
              "PreparedData(topic_coordinates=              x         y  topics  cluster       Freq\n",
              "topic                                                \n",
              "0     -0.275778 -0.053595       1        1  70.626976\n",
              "3     -0.049017  0.171619       2        1  15.046624\n",
              "6      0.067911 -0.062429       3        1   8.075844\n",
              "2      0.046543 -0.013025       4        1   1.581362\n",
              "1      0.041479 -0.009017       5        1   1.118295\n",
              "9      0.035393 -0.006364       6        1   0.859082\n",
              "8      0.037473 -0.009549       7        1   0.736622\n",
              "7      0.031696 -0.005770       8        1   0.676640\n",
              "5      0.032945 -0.006405       9        1   0.675330\n",
              "4      0.031356 -0.005466      10        1   0.603224, topic_info=            Term       Freq      Total Category  logprob  loglift\n",
              "27724        var  21.000000  21.000000  Default  30.0000  30.0000\n",
              "6754      string  20.000000  20.000000  Default  29.0000  29.0000\n",
              "7802         oil  37.000000  37.000000  Default  28.0000  28.0000\n",
              "364         drug  34.000000  34.000000  Default  27.0000  27.0000\n",
              "213      percent  57.000000  57.000000  Default  26.0000  26.0000\n",
              "...          ...        ...        ...      ...      ...      ...\n",
              "8735   brookings   0.225685   1.716845  Topic10  -7.1530   3.0815\n",
              "3452       clark   0.100043   0.905242  Topic10  -7.9666   2.9080\n",
              "17983   piercing   0.088669   0.597467  Topic10  -8.0873   3.2028\n",
              "8558    injected   0.097909   1.923769  Topic10  -7.9882   2.1326\n",
              "3066     scholar   0.097625   2.906135  Topic10  -7.9911   1.7172\n",
              "\n",
              "[475 rows x 6 columns], token_table=      Topic      Freq            Term\n",
              "term                                 \n",
              "6177      3  0.919786      accounting\n",
              "1731      3  0.984357      accusation\n",
              "4264      2  0.890098              ad\n",
              "4264      3  0.098900              ad\n",
              "82        1  0.955242  administration\n",
              "...     ...       ...             ...\n",
              "78        3  0.023626           would\n",
              "2165      2  0.935847           wrong\n",
              "2165      3  0.103983           wrong\n",
              "1068      1  0.980561            york\n",
              "1068      2  0.025804            york\n",
              "\n",
              "[342 rows x 3 columns], R=30, lambda_step=0.01, plot_opts={'xlab': 'PC1', 'ylab': 'PC2'}, topic_order=[1, 4, 7, 3, 2, 10, 9, 8, 6, 5])"
            ]
          },
          "metadata": {
            "tags": []
          },
          "execution_count": 18
        }
      ]
    },
    {
      "cell_type": "code",
      "metadata": {
        "colab": {
          "base_uri": "https://localhost:8080/"
        },
        "id": "PyOgmzHBd3s8",
        "outputId": "39b0fb5c-d0c4-4003-8e65-7fccbb44c604"
      },
      "source": [
        "for l in lda_model.get_document_topics(corpus)[:10]:\n",
        "    print (l)"
      ],
      "execution_count": null,
      "outputs": [
        {
          "output_type": "stream",
          "text": [
            "[(1, 0.6156847), (2, 0.01631999), (4, 0.20373307), (6, 0.06801649), (7, 0.028621836), (8, 0.0344656)]\n",
            "[(1, 0.763563), (2, 0.013859917), (6, 0.033660006), (7, 0.088353015), (9, 0.068763435)]\n",
            "[(1, 0.79859394), (2, 0.013141152), (6, 0.08126964), (7, 0.037291188), (9, 0.049772587)]\n",
            "[(1, 0.87178653), (6, 0.029328), (7, 0.067593485)]\n",
            "[(1, 0.8022314), (2, 0.010433715), (6, 0.14003201), (7, 0.01831812)]\n",
            "[(1, 0.77750266), (2, 0.101369575), (6, 0.057995867), (7, 0.024414107)]\n",
            "[(1, 0.84217304), (6, 0.027844958), (7, 0.06244437), (9, 0.039514713)]\n",
            "[(1, 0.7187414), (2, 0.011190535), (6, 0.03845834), (7, 0.20053901)]\n",
            "[(1, 0.82175153), (2, 0.058945935), (6, 0.064610116), (7, 0.022253001)]\n",
            "[(0, 0.0109442), (1, 0.730404), (2, 0.018160004), (3, 0.01012647), (6, 0.169174), (7, 0.031808387)]\n"
          ],
          "name": "stdout"
        }
      ]
    },
    {
      "cell_type": "code",
      "metadata": {
        "id": "L0LUmHDmd8dV"
      },
      "source": [
        "# for any given day, you look at all the diff topics and identify the prob of that topic\n",
        "date_topic_prob = np.zeros((len(unique_dates), k))\n",
        "for date, article in zip(df[\"date\"], lda_model.get_document_topics(corpus)):\n",
        "  i = unique_dates.index(date)\n",
        "  for topic, prob in article:\n",
        "    date_topic_prob[i][topic] += prob \n",
        "date_topic_prob = date_topic_prob/date_topic_prob.max(axis=0)"
      ],
      "execution_count": null,
      "outputs": []
    },
    {
      "cell_type": "code",
      "metadata": {
        "id": "mQibVrALenVa"
      },
      "source": [
        ""
      ],
      "execution_count": null,
      "outputs": []
    },
    {
      "cell_type": "code",
      "metadata": {
        "colab": {
          "base_uri": "https://localhost:8080/"
        },
        "id": "DECzEZuhe8B_",
        "outputId": "812fb2b5-3371-475c-adf4-f0beb13102c5"
      },
      "source": [
        "date_topic_prob"
      ],
      "execution_count": null,
      "outputs": [
        {
          "output_type": "execute_result",
          "data": {
            "text/plain": [
              "array([[0.00960165, 0.12697915, 0.01179038, ..., 0.20422308, 0.21812294,\n",
              "        0.0933737 ],\n",
              "       [0.01475436, 0.09657251, 0.02128822, ..., 0.07538966, 0.        ,\n",
              "        0.26194383],\n",
              "       [0.40982177, 0.32274864, 0.11762854, ..., 0.52242613, 0.10376247,\n",
              "        0.        ],\n",
              "       ...,\n",
              "       [0.10482325, 0.33340277, 0.35393836, ..., 0.28412118, 0.03938651,\n",
              "        0.10970976],\n",
              "       [0.40246888, 0.95823687, 1.        , ..., 0.71573004, 0.        ,\n",
              "        0.489494  ],\n",
              "       [0.10647875, 0.49076954, 0.55658635, ..., 0.4426987 , 0.        ,\n",
              "        0.31024785]])"
            ]
          },
          "metadata": {
            "tags": []
          },
          "execution_count": 57
        }
      ]
    },
    {
      "cell_type": "code",
      "metadata": {
        "colab": {
          "base_uri": "https://localhost:8080/"
        },
        "id": "5nuAAclkfYf-",
        "outputId": "da1a3cf4-6e5c-4f52-bc63-0d64b7b4aca0"
      },
      "source": [
        "# Example of norming by col\n",
        "# d = np.array([\n",
        "#     [1000, 10, 0.5],\n",
        "#     [765, 5, 0.35],\n",
        "#     [800, 7, 0.09], ])\n",
        "# d/d.max(axis=0)"
      ],
      "execution_count": null,
      "outputs": [
        {
          "output_type": "execute_result",
          "data": {
            "text/plain": [
              "array([[1.   , 1.   , 1.   ],\n",
              "       [0.765, 0.5  , 0.7  ],\n",
              "       [0.8  , 0.7  , 0.18 ]])"
            ]
          },
          "metadata": {
            "tags": []
          },
          "execution_count": 55
        }
      ]
    },
    {
      "cell_type": "code",
      "metadata": {
        "colab": {
          "base_uri": "https://localhost:8080/"
        },
        "id": "SGqz_5GvEfWo",
        "outputId": "44252898-47ec-4c01-f0f5-77b49193e2b1"
      },
      "source": [
        "t0 = unique_dates[4]\n",
        "t0"
      ],
      "execution_count": null,
      "outputs": [
        {
          "output_type": "execute_result",
          "data": {
            "text/plain": [
              "Timestamp('2000-05-05 05:00:00+0000', tz='UTC')"
            ]
          },
          "metadata": {
            "tags": []
          },
          "execution_count": 39
        }
      ]
    },
    {
      "cell_type": "code",
      "metadata": {
        "id": "oVjqfyK5EjMp"
      },
      "source": [
        ""
      ],
      "execution_count": null,
      "outputs": []
    },
    {
      "cell_type": "code",
      "metadata": {
        "id": "vRBH0GV0W19W"
      },
      "source": [
        ""
      ],
      "execution_count": null,
      "outputs": []
    },
    {
      "cell_type": "code",
      "metadata": {
        "id": "BvKyC24KbFtV"
      },
      "source": [
        "Hari Test"
      ],
      "execution_count": null,
      "outputs": []
    }
  ]
}