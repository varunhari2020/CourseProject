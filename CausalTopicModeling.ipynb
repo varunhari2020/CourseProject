{
  "nbformat": 4,
  "nbformat_minor": 0,
  "metadata": {
    "colab": {
      "name": "CausalTopicModeling.ipynb",
      "provenance": [],
      "collapsed_sections": [],
      "include_colab_link": true
    },
    "kernelspec": {
      "name": "python3",
      "display_name": "Python 3"
    }
  },
  "cells": [
    {
      "cell_type": "markdown",
      "metadata": {
        "id": "view-in-github",
        "colab_type": "text"
      },
      "source": [
        "<a href=\"https://colab.research.google.com/github/varunhari2020/CourseProject/blob/main/CausalTopicModeling.ipynb\" target=\"_parent\"><img src=\"https://colab.research.google.com/assets/colab-badge.svg\" alt=\"Open In Colab\"/></a>"
      ]
    },
    {
      "cell_type": "code",
      "metadata": {
        "id": "GToajN2-aXJU",
        "colab": {
          "base_uri": "https://localhost:8080/"
        },
        "outputId": "ba4eddd3-de22-4c33-bd2c-d14f7a07b0d7"
      },
      "source": [
        "from google.colab import drive\n",
        "drive.mount('/content/drive/')"
      ],
      "execution_count": null,
      "outputs": [
        {
          "output_type": "stream",
          "text": [
            "Drive already mounted at /content/drive/; to attempt to forcibly remount, call drive.mount(\"/content/drive/\", force_remount=True).\n"
          ],
          "name": "stdout"
        }
      ]
    },
    {
      "cell_type": "code",
      "metadata": {
        "colab": {
          "base_uri": "https://localhost:8080/"
        },
        "id": "mWxUZLVTYrcE",
        "outputId": "75c23b6c-6410-49e1-f2f4-a897f5eb906c"
      },
      "source": [
        "!pip install pyLDAvis"
      ],
      "execution_count": null,
      "outputs": [
        {
          "output_type": "stream",
          "text": [
            "Requirement already satisfied: pyLDAvis in /usr/local/lib/python3.6/dist-packages (2.1.2)\n",
            "Requirement already satisfied: numexpr in /usr/local/lib/python3.6/dist-packages (from pyLDAvis) (2.7.1)\n",
            "Requirement already satisfied: jinja2>=2.7.2 in /usr/local/lib/python3.6/dist-packages (from pyLDAvis) (2.11.2)\n",
            "Requirement already satisfied: numpy>=1.9.2 in /usr/local/lib/python3.6/dist-packages (from pyLDAvis) (1.18.5)\n",
            "Requirement already satisfied: pytest in /usr/local/lib/python3.6/dist-packages (from pyLDAvis) (3.6.4)\n",
            "Requirement already satisfied: joblib>=0.8.4 in /usr/local/lib/python3.6/dist-packages (from pyLDAvis) (0.17.0)\n",
            "Requirement already satisfied: future in /usr/local/lib/python3.6/dist-packages (from pyLDAvis) (0.16.0)\n",
            "Requirement already satisfied: pandas>=0.17.0 in /usr/local/lib/python3.6/dist-packages (from pyLDAvis) (1.1.4)\n",
            "Requirement already satisfied: funcy in /usr/local/lib/python3.6/dist-packages (from pyLDAvis) (1.15)\n",
            "Requirement already satisfied: scipy>=0.18.0 in /usr/local/lib/python3.6/dist-packages (from pyLDAvis) (1.4.1)\n",
            "Requirement already satisfied: wheel>=0.23.0 in /usr/local/lib/python3.6/dist-packages (from pyLDAvis) (0.35.1)\n",
            "Requirement already satisfied: MarkupSafe>=0.23 in /usr/local/lib/python3.6/dist-packages (from jinja2>=2.7.2->pyLDAvis) (1.1.1)\n",
            "Requirement already satisfied: setuptools in /usr/local/lib/python3.6/dist-packages (from pytest->pyLDAvis) (50.3.2)\n",
            "Requirement already satisfied: atomicwrites>=1.0 in /usr/local/lib/python3.6/dist-packages (from pytest->pyLDAvis) (1.4.0)\n",
            "Requirement already satisfied: py>=1.5.0 in /usr/local/lib/python3.6/dist-packages (from pytest->pyLDAvis) (1.9.0)\n",
            "Requirement already satisfied: six>=1.10.0 in /usr/local/lib/python3.6/dist-packages (from pytest->pyLDAvis) (1.15.0)\n",
            "Requirement already satisfied: more-itertools>=4.0.0 in /usr/local/lib/python3.6/dist-packages (from pytest->pyLDAvis) (8.6.0)\n",
            "Requirement already satisfied: pluggy<0.8,>=0.5 in /usr/local/lib/python3.6/dist-packages (from pytest->pyLDAvis) (0.7.1)\n",
            "Requirement already satisfied: attrs>=17.4.0 in /usr/local/lib/python3.6/dist-packages (from pytest->pyLDAvis) (20.2.0)\n",
            "Requirement already satisfied: python-dateutil>=2.7.3 in /usr/local/lib/python3.6/dist-packages (from pandas>=0.17.0->pyLDAvis) (2.8.1)\n",
            "Requirement already satisfied: pytz>=2017.2 in /usr/local/lib/python3.6/dist-packages (from pandas>=0.17.0->pyLDAvis) (2018.9)\n"
          ],
          "name": "stdout"
        }
      ]
    },
    {
      "cell_type": "code",
      "metadata": {
        "colab": {
          "base_uri": "https://localhost:8080/"
        },
        "id": "SkFkgUC4YICe",
        "outputId": "bff59430-5ec4-4b2b-aa74-cdc912b79cbd"
      },
      "source": [
        "import re\n",
        "import numpy as np\n",
        "import numpy.linalg as la\n",
        "import pandas as pd\n",
        "from pprint import pprint\n",
        "import datetime\n",
        "\n",
        "# NLTK\n",
        "import nltk\n",
        "nltk.download('stopwords')\n",
        "from nltk.corpus import stopwords\n",
        "from nltk import ngrams\n",
        "\n",
        "# Gensim\n",
        "import gensim\n",
        "from gensim import models\n",
        "import gensim.corpora as corpora\n",
        "from gensim.utils import simple_preprocess\n",
        "from gensim.models import CoherenceModel\n",
        "from gensim.models import Phrases # TODO: to create bigrams with\n",
        "\n",
        "# spacy for lemmatization\n",
        "import spacy\n",
        "\n",
        "# Plotting tools\n",
        "import pyLDAvis\n",
        "import pyLDAvis.gensim  # don't skip this\n",
        "import matplotlib.pyplot as plt \n",
        "\n",
        "import warnings\n",
        "warnings.filterwarnings('ignore')"
      ],
      "execution_count": null,
      "outputs": [
        {
          "output_type": "stream",
          "text": [
            "[nltk_data] Downloading package stopwords to /root/nltk_data...\n",
            "[nltk_data]   Package stopwords is already up-to-date!\n"
          ],
          "name": "stdout"
        }
      ]
    },
    {
      "cell_type": "code",
      "metadata": {
        "colab": {
          "base_uri": "https://localhost:8080/",
          "height": 456
        },
        "id": "iuJ711r8YLYc",
        "outputId": "e0c9df7f-bb17-449e-e206-289eb7d6287a"
      },
      "source": [
        "stop_words = stopwords.words('english')\n",
        "stop_words.extend(['mr', 'ms', 'said'])\n",
        "\n",
        "def tokenize(content, lemmatize=False):\n",
        "    words = gensim.utils.simple_preprocess(content, deacc=True)  # tokenizes\n",
        "    return words\n",
        "\n",
        "def remove_stopwords(content):\n",
        "    words = []\n",
        "    for word in content:\n",
        "        if word in stop_words:\n",
        "            continue\n",
        "        words.append(word)\n",
        "    return words\n",
        "\n",
        "rows = []\n",
        "dates = []\n",
        "articles = []\n",
        "for month in range(5, 11):\n",
        "    with open(\"/content/drive/My Drive/Data/NYTimes/\"+ str(month) + \".txt\") as f:\n",
        "        for i, line in enumerate(f):\n",
        "            date, article = line.split(\",\", 1)\n",
        "            timestamp = datetime.datetime.strptime(date, \"%Y-%m-%dT%H:%M:%S%z\")\n",
        "            tokenized = tokenize(article)\n",
        "            destopped = remove_stopwords(tokenized)\n",
        "\n",
        "            articles.append(destopped)\n",
        "            dates.append(timestamp)\n",
        "            rows.append([timestamp, destopped])\n",
        "\n",
        "df = pd.DataFrame(rows, columns=[\"date\", \"content\"]) \n",
        "unique_dates = sorted(list(set(df[\"date\"])))\n",
        "print (unique_dates)\n",
        "df"
      ],
      "execution_count": null,
      "outputs": [
        {
          "output_type": "stream",
          "text": [
            "[Timestamp('2000-05-01 05:00:00+0000', tz='UTC'), Timestamp('2000-05-02 05:00:00+0000', tz='UTC'), Timestamp('2000-05-03 05:00:00+0000', tz='UTC'), Timestamp('2000-05-04 05:00:00+0000', tz='UTC'), Timestamp('2000-05-05 05:00:00+0000', tz='UTC'), Timestamp('2000-05-06 05:00:00+0000', tz='UTC'), Timestamp('2000-05-07 05:00:00+0000', tz='UTC'), Timestamp('2000-05-08 05:00:00+0000', tz='UTC'), Timestamp('2000-05-09 05:00:00+0000', tz='UTC'), Timestamp('2000-05-10 05:00:00+0000', tz='UTC'), Timestamp('2000-05-11 05:00:00+0000', tz='UTC'), Timestamp('2000-05-12 05:00:00+0000', tz='UTC'), Timestamp('2000-05-13 05:00:00+0000', tz='UTC'), Timestamp('2000-05-14 05:00:00+0000', tz='UTC'), Timestamp('2000-05-15 05:00:00+0000', tz='UTC'), Timestamp('2000-05-16 05:00:00+0000', tz='UTC'), Timestamp('2000-05-17 05:00:00+0000', tz='UTC'), Timestamp('2000-05-18 05:00:00+0000', tz='UTC'), Timestamp('2000-05-19 05:00:00+0000', tz='UTC'), Timestamp('2000-05-20 05:00:00+0000', tz='UTC'), Timestamp('2000-05-21 05:00:00+0000', tz='UTC'), Timestamp('2000-05-22 05:00:00+0000', tz='UTC'), Timestamp('2000-05-23 05:00:00+0000', tz='UTC'), Timestamp('2000-05-24 05:00:00+0000', tz='UTC'), Timestamp('2000-05-25 05:00:00+0000', tz='UTC'), Timestamp('2000-05-26 05:00:00+0000', tz='UTC'), Timestamp('2000-05-27 05:00:00+0000', tz='UTC'), Timestamp('2000-05-28 05:00:00+0000', tz='UTC'), Timestamp('2000-05-29 05:00:00+0000', tz='UTC'), Timestamp('2000-05-30 05:00:00+0000', tz='UTC'), Timestamp('2000-05-31 05:00:00+0000', tz='UTC'), Timestamp('2000-06-01 05:00:00+0000', tz='UTC'), Timestamp('2000-06-02 05:00:00+0000', tz='UTC'), Timestamp('2000-06-03 05:00:00+0000', tz='UTC'), Timestamp('2000-06-04 05:00:00+0000', tz='UTC'), Timestamp('2000-06-05 05:00:00+0000', tz='UTC'), Timestamp('2000-06-06 05:00:00+0000', tz='UTC'), Timestamp('2000-06-07 05:00:00+0000', tz='UTC'), Timestamp('2000-06-08 05:00:00+0000', tz='UTC'), Timestamp('2000-06-09 05:00:00+0000', tz='UTC'), Timestamp('2000-06-10 05:00:00+0000', tz='UTC'), Timestamp('2000-06-11 05:00:00+0000', tz='UTC'), Timestamp('2000-06-12 05:00:00+0000', tz='UTC'), Timestamp('2000-06-13 05:00:00+0000', tz='UTC'), Timestamp('2000-06-14 05:00:00+0000', tz='UTC'), Timestamp('2000-06-15 05:00:00+0000', tz='UTC'), Timestamp('2000-06-16 05:00:00+0000', tz='UTC'), Timestamp('2000-06-17 05:00:00+0000', tz='UTC'), Timestamp('2000-06-18 05:00:00+0000', tz='UTC'), Timestamp('2000-06-19 05:00:00+0000', tz='UTC'), Timestamp('2000-06-20 05:00:00+0000', tz='UTC'), Timestamp('2000-06-21 05:00:00+0000', tz='UTC'), Timestamp('2000-06-22 05:00:00+0000', tz='UTC'), Timestamp('2000-06-23 05:00:00+0000', tz='UTC'), Timestamp('2000-06-24 05:00:00+0000', tz='UTC'), Timestamp('2000-06-25 05:00:00+0000', tz='UTC'), Timestamp('2000-06-26 05:00:00+0000', tz='UTC'), Timestamp('2000-06-27 05:00:00+0000', tz='UTC'), Timestamp('2000-06-28 05:00:00+0000', tz='UTC'), Timestamp('2000-06-29 05:00:00+0000', tz='UTC'), Timestamp('2000-06-30 05:00:00+0000', tz='UTC'), Timestamp('2000-07-01 05:00:00+0000', tz='UTC'), Timestamp('2000-07-02 05:00:00+0000', tz='UTC'), Timestamp('2000-07-03 05:00:00+0000', tz='UTC'), Timestamp('2000-07-04 05:00:00+0000', tz='UTC'), Timestamp('2000-07-05 05:00:00+0000', tz='UTC'), Timestamp('2000-07-06 05:00:00+0000', tz='UTC'), Timestamp('2000-07-07 05:00:00+0000', tz='UTC'), Timestamp('2000-07-08 05:00:00+0000', tz='UTC'), Timestamp('2000-07-09 05:00:00+0000', tz='UTC'), Timestamp('2000-07-10 05:00:00+0000', tz='UTC'), Timestamp('2000-07-11 05:00:00+0000', tz='UTC'), Timestamp('2000-07-12 05:00:00+0000', tz='UTC'), Timestamp('2000-07-13 05:00:00+0000', tz='UTC'), Timestamp('2000-07-14 05:00:00+0000', tz='UTC'), Timestamp('2000-07-15 05:00:00+0000', tz='UTC'), Timestamp('2000-07-16 05:00:00+0000', tz='UTC'), Timestamp('2000-07-17 05:00:00+0000', tz='UTC'), Timestamp('2000-07-18 05:00:00+0000', tz='UTC'), Timestamp('2000-07-19 05:00:00+0000', tz='UTC'), Timestamp('2000-07-20 05:00:00+0000', tz='UTC'), Timestamp('2000-07-21 05:00:00+0000', tz='UTC'), Timestamp('2000-07-22 05:00:00+0000', tz='UTC'), Timestamp('2000-07-23 05:00:00+0000', tz='UTC'), Timestamp('2000-07-24 05:00:00+0000', tz='UTC'), Timestamp('2000-07-25 05:00:00+0000', tz='UTC'), Timestamp('2000-07-26 05:00:00+0000', tz='UTC'), Timestamp('2000-07-27 05:00:00+0000', tz='UTC'), Timestamp('2000-07-28 05:00:00+0000', tz='UTC'), Timestamp('2000-07-29 05:00:00+0000', tz='UTC'), Timestamp('2000-07-30 05:00:00+0000', tz='UTC'), Timestamp('2000-07-31 05:00:00+0000', tz='UTC'), Timestamp('2000-08-01 05:00:00+0000', tz='UTC'), Timestamp('2000-08-02 05:00:00+0000', tz='UTC'), Timestamp('2000-08-03 05:00:00+0000', tz='UTC'), Timestamp('2000-08-04 05:00:00+0000', tz='UTC'), Timestamp('2000-08-05 05:00:00+0000', tz='UTC'), Timestamp('2000-08-06 05:00:00+0000', tz='UTC'), Timestamp('2000-08-07 05:00:00+0000', tz='UTC'), Timestamp('2000-08-08 05:00:00+0000', tz='UTC'), Timestamp('2000-08-09 05:00:00+0000', tz='UTC'), Timestamp('2000-08-10 05:00:00+0000', tz='UTC'), Timestamp('2000-08-11 05:00:00+0000', tz='UTC'), Timestamp('2000-08-12 05:00:00+0000', tz='UTC'), Timestamp('2000-08-13 05:00:00+0000', tz='UTC'), Timestamp('2000-08-14 05:00:00+0000', tz='UTC'), Timestamp('2000-08-15 05:00:00+0000', tz='UTC'), Timestamp('2000-08-16 05:00:00+0000', tz='UTC'), Timestamp('2000-08-17 05:00:00+0000', tz='UTC'), Timestamp('2000-08-18 05:00:00+0000', tz='UTC'), Timestamp('2000-08-19 05:00:00+0000', tz='UTC'), Timestamp('2000-08-20 05:00:00+0000', tz='UTC'), Timestamp('2000-08-21 05:00:00+0000', tz='UTC'), Timestamp('2000-08-22 05:00:00+0000', tz='UTC'), Timestamp('2000-08-23 05:00:00+0000', tz='UTC'), Timestamp('2000-08-24 05:00:00+0000', tz='UTC'), Timestamp('2000-08-25 05:00:00+0000', tz='UTC'), Timestamp('2000-08-26 05:00:00+0000', tz='UTC'), Timestamp('2000-08-27 05:00:00+0000', tz='UTC'), Timestamp('2000-08-28 05:00:00+0000', tz='UTC'), Timestamp('2000-08-29 05:00:00+0000', tz='UTC'), Timestamp('2000-08-30 05:00:00+0000', tz='UTC'), Timestamp('2000-08-31 05:00:00+0000', tz='UTC'), Timestamp('2000-09-01 05:00:00+0000', tz='UTC'), Timestamp('2000-09-02 05:00:00+0000', tz='UTC'), Timestamp('2000-09-03 05:00:00+0000', tz='UTC'), Timestamp('2000-09-04 05:00:00+0000', tz='UTC'), Timestamp('2000-09-05 05:00:00+0000', tz='UTC'), Timestamp('2000-09-06 05:00:00+0000', tz='UTC'), Timestamp('2000-09-07 05:00:00+0000', tz='UTC'), Timestamp('2000-09-08 05:00:00+0000', tz='UTC'), Timestamp('2000-09-09 05:00:00+0000', tz='UTC'), Timestamp('2000-09-10 05:00:00+0000', tz='UTC'), Timestamp('2000-09-11 05:00:00+0000', tz='UTC'), Timestamp('2000-09-12 05:00:00+0000', tz='UTC'), Timestamp('2000-09-13 05:00:00+0000', tz='UTC'), Timestamp('2000-09-14 05:00:00+0000', tz='UTC'), Timestamp('2000-09-15 05:00:00+0000', tz='UTC'), Timestamp('2000-09-16 05:00:00+0000', tz='UTC'), Timestamp('2000-09-17 05:00:00+0000', tz='UTC'), Timestamp('2000-09-18 05:00:00+0000', tz='UTC'), Timestamp('2000-09-19 05:00:00+0000', tz='UTC'), Timestamp('2000-09-20 05:00:00+0000', tz='UTC'), Timestamp('2000-09-21 05:00:00+0000', tz='UTC'), Timestamp('2000-09-22 05:00:00+0000', tz='UTC'), Timestamp('2000-09-23 05:00:00+0000', tz='UTC'), Timestamp('2000-09-24 05:00:00+0000', tz='UTC'), Timestamp('2000-09-25 05:00:00+0000', tz='UTC'), Timestamp('2000-09-26 05:00:00+0000', tz='UTC'), Timestamp('2000-09-27 05:00:00+0000', tz='UTC'), Timestamp('2000-09-28 05:00:00+0000', tz='UTC'), Timestamp('2000-09-29 05:00:00+0000', tz='UTC'), Timestamp('2000-09-30 05:00:00+0000', tz='UTC'), Timestamp('2000-10-01 05:00:00+0000', tz='UTC'), Timestamp('2000-10-02 05:00:00+0000', tz='UTC'), Timestamp('2000-10-03 05:00:00+0000', tz='UTC'), Timestamp('2000-10-04 05:00:00+0000', tz='UTC'), Timestamp('2000-10-05 05:00:00+0000', tz='UTC'), Timestamp('2000-10-06 05:00:00+0000', tz='UTC'), Timestamp('2000-10-07 05:00:00+0000', tz='UTC'), Timestamp('2000-10-08 05:00:00+0000', tz='UTC'), Timestamp('2000-10-09 05:00:00+0000', tz='UTC'), Timestamp('2000-10-10 05:00:00+0000', tz='UTC'), Timestamp('2000-10-11 05:00:00+0000', tz='UTC'), Timestamp('2000-10-12 05:00:00+0000', tz='UTC'), Timestamp('2000-10-13 05:00:00+0000', tz='UTC'), Timestamp('2000-10-14 05:00:00+0000', tz='UTC'), Timestamp('2000-10-15 05:00:00+0000', tz='UTC'), Timestamp('2000-10-16 05:00:00+0000', tz='UTC'), Timestamp('2000-10-17 05:00:00+0000', tz='UTC'), Timestamp('2000-10-18 05:00:00+0000', tz='UTC'), Timestamp('2000-10-19 05:00:00+0000', tz='UTC'), Timestamp('2000-10-20 05:00:00+0000', tz='UTC'), Timestamp('2000-10-21 05:00:00+0000', tz='UTC'), Timestamp('2000-10-22 05:00:00+0000', tz='UTC'), Timestamp('2000-10-23 05:00:00+0000', tz='UTC'), Timestamp('2000-10-24 05:00:00+0000', tz='UTC'), Timestamp('2000-10-25 05:00:00+0000', tz='UTC'), Timestamp('2000-10-26 05:00:00+0000', tz='UTC'), Timestamp('2000-10-27 05:00:00+0000', tz='UTC'), Timestamp('2000-10-28 05:00:00+0000', tz='UTC'), Timestamp('2000-10-29 05:00:00+0000', tz='UTC'), Timestamp('2000-10-30 05:00:00+0000', tz='UTC'), Timestamp('2000-10-31 05:00:00+0000', tz='UTC'), Timestamp('2000-11-01 05:00:00+0000', tz='UTC')]\n"
          ],
          "name": "stdout"
        },
        {
          "output_type": "execute_result",
          "data": {
            "text/html": [
              "<div>\n",
              "<style scoped>\n",
              "    .dataframe tbody tr th:only-of-type {\n",
              "        vertical-align: middle;\n",
              "    }\n",
              "\n",
              "    .dataframe tbody tr th {\n",
              "        vertical-align: top;\n",
              "    }\n",
              "\n",
              "    .dataframe thead th {\n",
              "        text-align: right;\n",
              "    }\n",
              "</style>\n",
              "<table border=\"1\" class=\"dataframe\">\n",
              "  <thead>\n",
              "    <tr style=\"text-align: right;\">\n",
              "      <th></th>\n",
              "      <th>date</th>\n",
              "      <th>content</th>\n",
              "    </tr>\n",
              "  </thead>\n",
              "  <tbody>\n",
              "    <tr>\n",
              "      <th>0</th>\n",
              "      <td>2000-05-03 05:00:00+00:00</td>\n",
              "      <td>[two, years, ago, homer, bush, came, yankee, b...</td>\n",
              "    </tr>\n",
              "    <tr>\n",
              "      <th>1</th>\n",
              "      <td>2000-05-02 05:00:00+00:00</td>\n",
              "      <td>[texas, record, tell, op, ed, april, paul, bur...</td>\n",
              "    </tr>\n",
              "    <tr>\n",
              "      <th>2</th>\n",
              "      <td>2000-05-01 05:00:00+00:00</td>\n",
              "      <td>[top, foreign, policy, adviser, gov, george, b...</td>\n",
              "    </tr>\n",
              "    <tr>\n",
              "      <th>3</th>\n",
              "      <td>2000-05-03 05:00:00+00:00</td>\n",
              "      <td>[aides, gov, george, bush, fought, back, today...</td>\n",
              "    </tr>\n",
              "    <tr>\n",
              "      <th>4</th>\n",
              "      <td>2000-05-03 05:00:00+00:00</td>\n",
              "      <td>[gov, tommy, thompson, wisconsin, named, chair...</td>\n",
              "    </tr>\n",
              "    <tr>\n",
              "      <th>...</th>\n",
              "      <td>...</td>\n",
              "      <td>...</td>\n",
              "    </tr>\n",
              "    <tr>\n",
              "      <th>5801</th>\n",
              "      <td>2000-10-31 05:00:00+00:00</td>\n",
              "      <td>[new, york, times, cbs, news, poll, var, strin...</td>\n",
              "    </tr>\n",
              "    <tr>\n",
              "      <th>5802</th>\n",
              "      <td>2000-10-31 05:00:00+00:00</td>\n",
              "      <td>[tick, tock, diner, ted, friedrich, stockbroke...</td>\n",
              "    </tr>\n",
              "    <tr>\n",
              "      <th>5803</th>\n",
              "      <td>2000-11-01 05:00:00+00:00</td>\n",
              "      <td>[difference, us, vital, issue, would, go, wash...</td>\n",
              "    </tr>\n",
              "    <tr>\n",
              "      <th>5804</th>\n",
              "      <td>2000-11-01 05:00:00+00:00</td>\n",
              "      <td>[bush, administration, wanted, overturn, would...</td>\n",
              "    </tr>\n",
              "    <tr>\n",
              "      <th>5805</th>\n",
              "      <td>2000-11-01 05:00:00+00:00</td>\n",
              "      <td>[first, gov, jeb, bush, florida, told, hallowe...</td>\n",
              "    </tr>\n",
              "  </tbody>\n",
              "</table>\n",
              "<p>5806 rows × 2 columns</p>\n",
              "</div>"
            ],
            "text/plain": [
              "                          date                                            content\n",
              "0    2000-05-03 05:00:00+00:00  [two, years, ago, homer, bush, came, yankee, b...\n",
              "1    2000-05-02 05:00:00+00:00  [texas, record, tell, op, ed, april, paul, bur...\n",
              "2    2000-05-01 05:00:00+00:00  [top, foreign, policy, adviser, gov, george, b...\n",
              "3    2000-05-03 05:00:00+00:00  [aides, gov, george, bush, fought, back, today...\n",
              "4    2000-05-03 05:00:00+00:00  [gov, tommy, thompson, wisconsin, named, chair...\n",
              "...                        ...                                                ...\n",
              "5801 2000-10-31 05:00:00+00:00  [new, york, times, cbs, news, poll, var, strin...\n",
              "5802 2000-10-31 05:00:00+00:00  [tick, tock, diner, ted, friedrich, stockbroke...\n",
              "5803 2000-11-01 05:00:00+00:00  [difference, us, vital, issue, would, go, wash...\n",
              "5804 2000-11-01 05:00:00+00:00  [bush, administration, wanted, overturn, would...\n",
              "5805 2000-11-01 05:00:00+00:00  [first, gov, jeb, bush, florida, told, hallowe...\n",
              "\n",
              "[5806 rows x 2 columns]"
            ]
          },
          "metadata": {
            "tags": []
          },
          "execution_count": 12
        }
      ]
    },
    {
      "cell_type": "code",
      "metadata": {
        "colab": {
          "base_uri": "https://localhost:8080/"
        },
        "id": "h0fJqMhVZKt1",
        "outputId": "25d067f8-3ce4-4ea0-aac2-c11f669981fb"
      },
      "source": [
        "# Create Dictionary\n",
        "id2word = corpora.Dictionary(articles)\n",
        "\n",
        "# Attempt at filtering out words that appear too frequently\n",
        "# id2word.filter_extremes(no_below=15, no_above=0.5, keep_n=100000)\n",
        "# id2word.filter_extremes(no_above=0.5)\n",
        "\n",
        "\n",
        "# Term Document Frequency\n",
        "corpus = [id2word.doc2bow(text) for text in articles]\n",
        "\n",
        "\n",
        "tfidf = models.TfidfModel(corpus)\n",
        "corpus = tfidf[corpus]\n",
        "\n",
        "\n",
        "# Human readable format of corpus (term-frequency)\n",
        "[[(id2word[id], freq) for id, freq in cp] for cp in corpus[:1]]"
      ],
      "execution_count": null,
      "outputs": [
        {
          "output_type": "execute_result",
          "data": {
            "text/plain": [
              "[[('ago', 0.07712049873418031),\n",
              "  ('awesome', 0.23220574510227418),\n",
              "  ('backup', 0.2198823985449398),\n",
              "  ('backups', 0.2515408271170864),\n",
              "  ('bases', 0.19264069440348208),\n",
              "  ('bellinger', 0.27548950382241366),\n",
              "  ('bench', 0.1896343958919212),\n",
              "  ('bush', 0.007894722475376273),\n",
              "  ('came', 0.08612993720379283),\n",
              "  ('catcher', 0.26148042600790294),\n",
              "  ('clay', 0.2135830725972484),\n",
              "  ('games', 0.1562902360625982),\n",
              "  ('girardi', 0.27548950382241366),\n",
              "  ('homer', 0.21658937110880933),\n",
              "  ('jim', 0.1245222966630543),\n",
              "  ('joe', 0.1146922085996351),\n",
              "  ('leyritz', 0.27548950382241366),\n",
              "  ('speed', 0.17969479700110466),\n",
              "  ('stole', 0.20587332073042908),\n",
              "  ('strength', 0.13402729061444735),\n",
              "  ('turner', 0.2108175460504276),\n",
              "  ('two', 0.04788545375938528),\n",
              "  ('versatility', 0.27548950382241366),\n",
              "  ('whose', 0.0887458288821732),\n",
              "  ('yankee', 0.20825706839694694),\n",
              "  ('yankees', 0.19264069440348208),\n",
              "  ('years', 0.05159983565074285)]]"
            ]
          },
          "metadata": {
            "tags": []
          },
          "execution_count": 14
        }
      ]
    },
    {
      "cell_type": "code",
      "metadata": {
        "colab": {
          "base_uri": "https://localhost:8080/"
        },
        "id": "crX7EZmkaUFx",
        "outputId": "7c0578cb-2921-4b4e-d64f-41e3bf7dc162"
      },
      "source": [
        "k = 10\n",
        "\n",
        "# Build LDA model\n",
        "lda_model = gensim.models.ldamodel.LdaModel(corpus=corpus,\n",
        "                                           id2word=id2word,\n",
        "                                           num_topics=k, \n",
        "                                           minimum_phi_value=0.5, # min threshold for word probabilities\n",
        "                                           passes=5,\n",
        "                                           alpha='auto',  # assuming that topic distribution is assymetric. Not all topics equally represented in corpus.\n",
        "                                           update_every=1,\n",
        "                                           per_word_topics=True)\n",
        "\n",
        "# Compute Perplexity\n",
        "print('\\nPerplexity: ', lda_model.log_perplexity(corpus))  # a measure of how good the model is. lower the better.\n",
        "\n",
        "# Compute Coherence Score\n",
        "coherence_model_lda = CoherenceModel(model=lda_model, texts=articles, dictionary=id2word, coherence='c_v')\n",
        "coherence_lda = coherence_model_lda.get_coherence()\n",
        "print('\\nCoherence Score: ', coherence_lda)"
      ],
      "execution_count": null,
      "outputs": [
        {
          "output_type": "stream",
          "text": [
            "\n",
            "Perplexity:  -10.420529406223874\n",
            "\n",
            "Coherence Score:  0.5230340545488\n"
          ],
          "name": "stdout"
        }
      ]
    },
    {
      "cell_type": "code",
      "metadata": {
        "colab": {
          "base_uri": "https://localhost:8080/",
          "height": 861
        },
        "id": "YJA-wzWXZLmR",
        "outputId": "50be9563-21ea-4d72-8b03-a406a307fe89"
      },
      "source": [
        "# Visualize the topics\n",
        "pyLDAvis.enable_notebook()\n",
        "vis = pyLDAvis.gensim.prepare(lda_model, corpus, id2word)\n",
        "vis"
      ],
      "execution_count": null,
      "outputs": [
        {
          "output_type": "execute_result",
          "data": {
            "text/html": [
              "\n",
              "<link rel=\"stylesheet\" type=\"text/css\" href=\"https://cdn.rawgit.com/bmabey/pyLDAvis/files/ldavis.v1.0.0.css\">\n",
              "\n",
              "\n",
              "<div id=\"ldavis_el561404448759803762006239738\"></div>\n",
              "<script type=\"text/javascript\">\n",
              "\n",
              "var ldavis_el561404448759803762006239738_data = {\"mdsDat\": {\"x\": [-0.29041798843729283, -0.02315058879683477, 0.07472841725621626, 0.05744219811876275, 0.045372866418906505, 0.03119261333022891, 0.028686503630855655, 0.025780646047470327, 0.025263194991199465, 0.025102137440487716], \"y\": [0.03868974826737177, -0.17617164080076905, 0.04853288958209195, 0.02578383729813665, 0.017680839236802144, 0.01062816712068701, 0.009350582072904774, 0.009252014051301567, 0.008364031733687518, 0.007889531437785471], \"topics\": [1, 2, 3, 4, 5, 6, 7, 8, 9, 10], \"cluster\": [1, 1, 1, 1, 1, 1, 1, 1, 1, 1], \"Freq\": [73.00664538457714, 13.161348139712537, 5.244873159695565, 2.9548265454826828, 1.9513885524155723, 0.9691383194517886, 0.8564239879063373, 0.6275490642577858, 0.6221971033268018, 0.6056097431737837]}, \"tinfo\": {\"Term\": [\"love\", \"lieberman\", \"abortion\", \"seen\", \"lives\", \"city\", \"lehrer\", \"manhattan\", \"sex\", \"article\", \"execution\", \"var\", \"bushnell\", \"chernomyrdin\", \"strategic\", \"women\", \"string\", \"kennedy\", \"death\", \"author\", \"bushwick\", \"peacekeeping\", \"four\", \"convention\", \"penalty\", \"networks\", \"hear\", \"calling\", \"justices\", \"evidence\", \"var\", \"string\", \"else\", \"ralph\", \"percent\", \"children\", \"pat\", \"medicare\", \"buchanan\", \"poll\", \"care\", \"social\", \"plan\", \"billion\", \"surplus\", \"florida\", \"proposal\", \"budget\", \"health\", \"taxes\", \"held\", \"security\", \"energy\", \"america\", \"reform\", \"income\", \"middle\", \"interest\", \"economy\", \"mrs\", \"nader\", \"tax\", \"government\", \"money\", \"cut\", \"lazio\", \"drug\", \"gore\", \"would\", \"today\", \"bush\", \"campaign\", \"cheney\", \"news\", \"people\", \"president\", \"new\", \"american\", \"clinton\", \"years\", \"vice\", \"oil\", \"texas\", \"one\", \"governor\", \"debate\", \"al\", \"gov\", \"voters\", \"presidential\", \"party\", \"republican\", \"state\", \"lieberman\", \"strategic\", \"conservatives\", \"saw\", \"corzine\", \"hear\", \"virginia\", \"putting\", \"pull\", \"franks\", \"uninsured\", \"turnout\", \"double\", \"debater\", \"rejected\", \"heating\", \"winter\", \"arkansas\", \"populist\", \"senators\", \"gingrich\", \"favors\", \"options\", \"bit\", \"hopes\", \"scalia\", \"gorey\", \"uses\", \"size\", \"mistake\", \"crude\", \"kennedy\", \"surpluses\", \"whole\", \"networks\", \"calling\", \"stump\", \"include\", \"reasons\", \"tour\", \"delegates\", \"justices\", \"abortion\", \"lieberman\", \"convention\", \"debate\", \"debates\", \"lehrer\", \"peacekeeping\", \"incorrectly\", \"letterman\", \"geeks\", \"madison\", \"bosses\", \"marshall\", \"thompson\", \"forget\", \"targeted\", \"surname\", \"pleased\", \"haiti\", \"preparation\", \"misspelled\", \"rats\", \"fewer\", \"tampa\", \"relatively\", \"newly\", \"staying\", \"location\", \"winston\", \"box\", \"retarded\", \"bauer\", \"brennan\", \"employee\", \"credible\", \"bushnell\", \"overseas\", \"moderator\", \"beach\", \"stories\", \"byrd\", \"network\", \"bushwick\", \"mcginn\", \"muslim\", \"reprieve\", \"sanctions\", \"inmate\", \"ricky\", \"leno\", \"kyoto\", \"el\", \"yorkers\", \"characters\", \"asserts\", \"pardons\", \"damaging\", \"justify\", \"museum\", \"arthritis\", \"publicity\", \"dna\", \"marijuana\", \"krugman\", \"lodine\", \"prescribed\", \"terrorist\", \"nail\", \"hunger\", \"lansing\", \"leather\", \"alamoudi\", \"marginal\", \"altering\", \"experienced\", \"actively\", \"resent\", \"execution\", \"executions\", \"death\", \"bat\", \"fires\", \"endorsements\", \"accord\", \"overlooked\", \"adam\", \"embarrass\", \"dwight\", \"dowd\", \"klink\", \"respective\", \"mangling\", \"devine\", \"impatient\", \"taylor\", \"programming\", \"giordano\", \"eisenhower\", \"curriculum\", \"newport\", \"garden\", \"leone\", \"maureen\", \"ellis\", \"protocol\", \"dismissal\", \"studio\", \"trap\", \"charisma\", \"spill\", \"liaison\", \"sullivan\", \"voucher\", \"truman\", \"experienced\", \"whoever\", \"playboy\", \"carbon\", \"pardon\", \"criner\", \"wonders\", \"outlasted\", \"theaters\", \"inopportune\", \"musicals\", \"robustness\", \"facilitate\", \"hefner\", \"india\", \"dumping\", \"lautenberg\", \"spells\", \"appreciation\", \"gergen\", \"influencing\", \"loretta\", \"brighter\", \"fervently\", \"trillions\", \"divvy\", \"enlightenment\", \"morgan\", \"sandy\", \"pragmatically\", \"georgewbush\", \"justin\", \"ferraro\", \"detrimental\", \"geraldine\", \"sheriff\", \"broadway\", \"sanchez\", \"envisions\", \"liberties\", \"digital\", \"acknowledges\", \"gorelick\", \"resign\", \"cookies\", \"certification\", \"recipes\", \"gooseberry\", \"sauvignon\", \"recovery\", \"arcadia\", \"winnie\", \"racicot\", \"deserving\", \"praying\", \"nigeria\", \"stockman\", \"chocolate\", \"wahid\", \"skirmishes\", \"installed\", \"wellstone\", \"palast\", \"judiciary\", \"acclaimed\", \"chagrined\", \"rancor\", \"luttig\", \"jamieson\", \"spirituality\", \"grieving\", \"flatbush\", \"socioeconomic\", \"messy\", \"prayers\", \"unenthusiastic\", \"vintage\", \"borough\", \"panels\", \"glamorous\", \"collins\", \"revival\", \"du\", \"detective\", \"dancers\", \"cream\", \"bourgeois\", \"exhibited\", \"anglo\", \"heroin\", \"glassine\", \"troutman\", \"noth\", \"bannon\", \"jour\", \"candace\", \"blondes\", \"blitzer\", \"nassau\", \"thernstrom\", \"shubert\", \"zoo\", \"goldsmith\", \"divisiveness\", \"envelopes\", \"ignited\", \"prekindergarten\", \"disciple\", \"deepak\", \"monthly\", \"chopra\", \"indianapolis\", \"vanilla\", \"bushnell\", \"author\", \"sex\", \"manhattan\", \"love\", \"lives\", \"seen\", \"city\", \"bushehr\", \"disturbingly\", \"pressman\", \"misidentifed\", \"nick\", \"unsustainable\", \"crossfire\", \"sham\", \"hewlett\", \"gentler\", \"skyline\", \"kinder\", \"iranian\", \"tehran\", \"okha\", \"porbandar\", \"dammam\", \"bombay\", \"manamah\", \"dubai\", \"excursions\", \"fujayrah\", \"khaymah\", \"ra\", \"muscat\", \"embassies\", \"fer\", \"agin\", \"spano\", \"jaffe\", \"enterprise\", \"sig\", \"rogich\", \"shortest\", \"boosting\", \"rosa\", \"chernomyrdin\", \"reischauer\", \"shrinking\", \"iran\", \"analyst\", \"sanctions\", \"mccollum\", \"inds\", \"bargaining\", \"mathew\", \"sturevant\", \"sturtevant\", \"mack\", \"ty\", \"haul\", \"equip\", \"stenberg\", \"hirst\", \"tisch\", \"slugfest\", \"ascend\", \"ostrich\", \"kalahari\", \"jar\", \"collide\", \"samurai\", \"sakai\", \"invading\", \"cicchino\", \"inextricably\", \"bushido\", \"blackened\", \"positives\", \"goff\", \"susquehanna\", \"bowers\", \"railing\", \"detritus\", \"bearded\", \"et\", \"monument\", \"mode\", \"methodically\"], \"Freq\": [10.0, 71.0, 31.0, 17.0, 10.0, 19.0, 8.0, 6.0, 6.0, 26.0, 7.0, 95.0, 6.0, 5.0, 10.0, 28.0, 91.0, 11.0, 19.0, 5.0, 10.0, 5.0, 23.0, 41.0, 12.0, 8.0, 8.0, 8.0, 9.0, 10.0, 95.68256781857289, 91.02913803136352, 66.01936678270403, 33.24473175833017, 63.887125910764205, 31.258590226638063, 25.040964465608244, 35.7568951219005, 31.626000483382533, 36.311952328335636, 31.69134328326886, 44.324191806048226, 60.27456045695355, 23.378072600694214, 21.79274318175365, 30.827838558666368, 30.16033175572297, 23.66728443720095, 43.12580091431165, 21.813309736075908, 21.340472013996635, 47.052362914135344, 21.205066387975155, 29.166574218946185, 25.705653069495625, 22.165639478477384, 26.450958014944934, 20.36219120556134, 24.887966938053264, 30.441353137727337, 66.94468292293953, 69.95351170889907, 42.56233584364163, 39.12839178782242, 33.49103260286578, 30.391641488048588, 39.36076418641069, 120.1365950898665, 82.39573659733234, 51.195485326207084, 93.48339725888607, 79.66282717619647, 59.539110064800326, 35.79570783882045, 52.84449141437361, 66.90341977482885, 53.48431403408832, 42.408673895689155, 74.09472416631137, 42.1332056052638, 60.07756285689823, 50.51739046610371, 53.76180199997271, 54.81364654079658, 53.27159384982576, 71.74817825411498, 47.25203445071389, 46.128907963759474, 51.30839615644693, 50.96628263960684, 53.143980432441495, 51.75092858730743, 49.64592691979797, 59.5815476318399, 10.319955969900136, 6.801956742790008, 7.660675247042376, 6.976175584737417, 7.978385020509831, 6.115735485274666, 6.881883448767883, 5.921574710041368, 6.245101277538797, 5.560525425488358, 5.2422643752567275, 5.1705888721956805, 5.06189504284601, 5.057761749153678, 7.439860514983814, 4.77985635584084, 4.7625143976194835, 5.061459882184322, 4.635945281830091, 4.860576827099758, 5.3908962831124585, 5.231341403092126, 7.843118918533178, 5.039734815816701, 4.448176020389553, 3.975107663652862, 4.043091993323477, 4.585816092272268, 4.025014877317601, 3.9215437085018983, 10.473676107344682, 5.9306273704731565, 6.766649389103023, 8.263002803658896, 8.155615555184852, 5.164443876185173, 6.658806467343506, 6.224749824370949, 5.307374739816563, 6.541366568028238, 6.854682977037536, 10.73377031616712, 11.937147053382239, 6.710011837056245, 6.365638583045343, 5.423322712048451, 8.25365671624674, 5.522166722605672, 3.7322696828019595, 3.653528909452069, 3.1176442191094993, 3.065629351060116, 2.774842042443284, 2.690122572117599, 2.484128011473843, 2.302684820048549, 2.393768643812991, 2.1810376486085645, 2.5264947532643243, 2.123488420552827, 2.2084173598506363, 2.0753264678478476, 2.3874139244872374, 2.366017581306053, 2.0130226590534126, 2.4136102455153634, 1.9673261634489059, 2.0066918790387582, 1.8735858060094188, 1.856899084372915, 1.985010307724103, 1.7897769053339854, 1.7809827118185866, 1.788329890755123, 1.7627643121859158, 1.7975406866722239, 5.198746045760201, 2.0067439908318234, 3.08285952425287, 2.167569304600908, 2.443432496346672, 2.3165072906947937, 2.4845510366175474, 2.0334914999008844, 2.422411180931367, 2.053460421052217, 2.2747089366457622, 2.3706799597085184, 1.7507469137324665, 1.5100841614536005, 1.4514870119322343, 1.3826094731834435, 1.3119621219671431, 1.3111020922851944, 1.146484615136707, 1.1529217621422736, 1.0861960245655873, 1.077962667164809, 1.0546963067118618, 0.9922680037392675, 0.9564672328739146, 1.002710727886578, 2.3524265739497983, 1.0206352497422466, 0.9198436854769212, 0.9193203321688391, 0.8975873541455739, 0.9782093391525534, 0.8806060031086345, 0.867691330958867, 0.9046710447884976, 0.8477455173119747, 0.8458905900308469, 0.863949979803746, 0.9793060455819345, 1.3748839263856518, 1.2287059362743555, 1.0953427831594622, 2.431108516862032, 0.9821304593729584, 0.9380117919489535, 1.0617547533578067, 1.0710819918110874, 0.8771859302847025, 0.8735465357089363, 0.8966828033182965, 0.7796198291763552, 0.7193957564244462, 0.707405392673946, 0.6922596414577378, 0.6690193709740774, 0.6635707608622504, 0.6175555988139254, 0.817827606785648, 0.696107096091699, 0.6163415621287545, 0.6104891058689927, 0.5900846108848494, 1.2244273054931005, 0.5600716080552584, 0.5503854917986489, 0.9836607057981684, 0.5354183648401811, 0.5271639581252411, 0.6556889722781576, 0.5066336821192289, 0.47666385541761097, 0.48078845191452413, 0.47507562562333966, 0.585235470081912, 0.4619363967015901, 0.48676120392706623, 0.9719464520283164, 0.8492163259645307, 0.6121977943448293, 0.5364233095848534, 0.5088314828070476, 0.584095936517108, 0.5525404600671515, 0.3704812314739665, 0.32061439729953584, 0.30292156920610513, 0.282707987417906, 0.2964076419422151, 0.256521273721757, 0.25415736416637963, 0.24210949555717187, 0.23587610756994684, 0.23433841464016358, 0.29324429929183954, 0.25751498855983934, 0.20905698697539118, 0.21464591142959086, 0.25266212569496294, 0.1980557394432023, 0.2214317063638151, 0.1931742319564801, 0.19750345387171936, 0.18310912680914387, 0.24994223523645842, 0.1782034790808473, 0.17632741818396827, 0.17551911119011201, 0.19960672973510418, 0.17041931658041604, 0.16481288707953282, 0.22533143427155738, 0.19005822575745993, 0.2273997000415751, 0.185736218942356, 0.2383196934086882, 0.224992540343891, 0.2661227783415171, 0.23100137013980027, 0.21822358963409488, 0.21878052793370248, 0.21309684965978123, 0.388210010416336, 0.3290070155165274, 0.2527600967909789, 0.22432199112560505, 0.1990450018133959, 0.18458740474281307, 0.18458740474281307, 0.2090796149750139, 0.17382711226516187, 0.17251842015347174, 0.1686911413669703, 0.16675229012643397, 0.16520034629413563, 0.17036963901932345, 0.1590153814001607, 0.16196379104079706, 0.16099968666364542, 0.1710694212216003, 0.16986945408404708, 0.16168169960839315, 0.1352026218119908, 0.19853267276448963, 0.13421809053517123, 0.13051048906866136, 0.1559119466073186, 0.1279061189493869, 0.178306442954541, 0.12555653686278517, 0.12471784220862409, 0.12191661588823227, 0.1670893101355996, 0.22045899505887911, 0.1676575926815543, 0.15476517998325295, 0.15030225993613916, 0.15575155850012418, 0.14975688316682492, 0.5878859919430415, 0.39885033779270596, 0.3924940212836002, 0.23070409496070876, 0.20491661235850975, 0.15267282410720318, 0.15501532906091556, 0.13191959112742296, 0.24652250928913738, 0.11036033503166368, 0.10905931404698563, 0.10905931404698563, 0.10905931404698563, 0.10362507002804777, 0.11224491259552664, 0.09757567437869356, 0.5327907197535077, 0.5262994649548419, 0.10566915107746702, 0.09959054441474374, 0.08764148466617754, 0.0850188421645232, 0.08392091850059971, 0.19840878282041957, 0.07849849861084025, 0.10397856258714071, 0.0742668488705468, 0.08993787202299847, 0.0709414871939146, 0.0709414871939146, 0.46031502560047943, 0.0709414871939146, 0.11690902505751283, 0.09492638828906044, 0.514104089558118, 0.4186249625272955, 0.40055552742334705, 0.34292147322883554, 0.2628970943259212, 0.24433639023300735, 0.1416418023231915, 0.13717608023541103, 0.22206044138191255, 0.16835101622361287, 0.13166373715459553, 0.1255168722314433, 0.11226870736377267, 0.10804540555655402, 0.1063511652083319, 0.10577108752697705, 0.10517728649793577, 0.11081202379187387, 0.09719450606050907, 0.10754049026085585, 0.0931601275633963, 0.09206856296432814, 0.08770300588740099, 0.08770300588740099, 0.08770300588740099, 0.08770300588740099, 0.08770300588740099, 0.08770300588740099, 0.08770300588740099, 0.08770300588740099, 0.08770300588740099, 0.08770300588740099, 0.08770300588740099, 0.0869659971796635, 0.0844544340712501, 0.0844544340712501, 0.12417951684743998, 0.08099501622174916, 0.17268347275908563, 0.11884045059460203, 0.11884045059460203, 0.09669295017105843, 0.0936402369340966, 0.09953835860445177, 0.2467906758400414, 0.11282013485112476, 0.1382508055118634, 0.14451209804575618, 0.09613420645102809, 0.09664791854246721, 0.206527344616403, 0.1415664966136309, 0.13583598068778452, 0.1293319858923339, 0.1293319858923339, 0.1293319858923339, 0.12733041833037417, 0.12100220307820816, 0.1560796606962766, 0.12461829959320592, 0.11733495200247891, 0.10827685296964845, 0.09463426872015698, 0.09673842350909935, 0.09673842350909935, 0.09553107474655609, 0.09553107474655609, 0.08700579217957213, 0.08724636188149, 0.08275892706373904, 0.08275892706373904, 0.0795026990911394, 0.07828804373812592, 0.09165526138598612, 0.07442023644554523, 0.08150316265846061, 0.0974958396780851, 0.0660374155378505, 0.0660374155378505, 0.0660374155378505, 0.09495860717556268, 0.08674849400927669, 0.09056874525800106, 0.11504183715410958, 0.1019719058792913, 0.09159102743839213, 0.08350664324929778], \"Total\": [10.0, 71.0, 31.0, 17.0, 10.0, 19.0, 8.0, 6.0, 6.0, 26.0, 7.0, 95.0, 6.0, 5.0, 10.0, 28.0, 91.0, 11.0, 19.0, 5.0, 10.0, 5.0, 23.0, 41.0, 12.0, 8.0, 8.0, 8.0, 9.0, 10.0, 95.92124994801686, 91.26333630735483, 66.26589133615124, 33.509354131963846, 64.4302478826276, 31.537489887149672, 25.27809713240851, 36.10222941704116, 31.947895717503396, 36.68682798115178, 32.05058441666084, 44.827894309070885, 60.96911214470509, 23.650526282102213, 22.049678596694054, 31.1948519480154, 30.52250331610702, 23.955399137180983, 43.66054110193016, 22.08686620646563, 21.609436821014906, 47.65003534451831, 21.476497264503436, 29.541835919340272, 26.041861638626557, 22.459746749728538, 26.803461882525188, 20.634274477931715, 25.22229987498521, 30.859830082849577, 67.87988381108639, 71.01671838838071, 43.15133704314665, 39.72146963983966, 33.96588286759776, 30.831893217905883, 40.04033341794448, 124.0479548551586, 84.88874999080919, 52.40739894312158, 97.03888930102585, 82.9645683104721, 61.50055768581395, 36.472337912815945, 54.53358618506683, 69.75165207652263, 55.31613797795966, 43.473738580507, 77.76494211259813, 43.18971651349536, 62.773202454530775, 52.374838500212185, 56.065954209454674, 57.46314365681434, 55.81788916738722, 78.85440467811082, 49.20937486304183, 48.079509780591756, 54.67350494996533, 54.41054167213691, 57.38992462687654, 55.854307520823255, 53.62097621200451, 71.99819801975109, 10.69244143202207, 7.068178719699919, 7.96196879008284, 7.250783044948498, 8.295839586216008, 6.3774310949637325, 7.178120869717817, 6.1829154566910125, 6.523280217790086, 5.815172255973563, 5.499644741061783, 5.427390463707833, 5.317554768496321, 5.326795421417049, 7.845559001710362, 5.044439571480148, 5.027488643663799, 5.350294499525099, 4.902901709153865, 5.158326722548385, 5.722575271851914, 5.554256423768774, 8.328941046170101, 5.355456065529002, 4.731535389471333, 4.229489536297434, 4.302422578001335, 4.881690830781733, 4.286015915127729, 4.1792017511596065, 11.198474022250455, 6.327789925359393, 7.229423116259665, 8.908259261030201, 8.922083730264662, 5.534686265546745, 7.26034751554302, 6.8769433203844965, 5.878555933809377, 8.81948606781421, 9.902930709165433, 31.327200496105494, 71.99819801975109, 41.88181791207525, 78.85440467811082, 45.60896124900546, 8.529238960145022, 5.796924256398222, 4.0065151109192225, 3.9781183715728323, 3.3971361291540765, 3.3411488525067456, 3.049604012073708, 2.9646790784154726, 2.7668067301498196, 2.5812345262122487, 2.6879086986766834, 2.455377444814649, 2.8483305126145275, 2.40045974480332, 2.499679338955011, 2.3496056927719757, 2.706774232257986, 2.6846953198982484, 2.2876637754747513, 2.74464579376704, 2.242290588354611, 2.2894135289522204, 2.1480142781054172, 2.1311881371856636, 2.2832439092960586, 2.0646593868584677, 2.0554552538866413, 2.0650558460203015, 2.0373232252611917, 2.078649518516219, 6.168045059731163, 2.3272443399229985, 3.668512252467341, 2.59182716619707, 3.1640758574133274, 3.015417205362759, 6.234834192408186, 10.695328039970926, 2.711906607193641, 2.341538025021273, 2.60694631808544, 2.749465097132686, 2.04344102304052, 1.7994076382200648, 1.7482394428511738, 1.6716113188844572, 1.6009962312835524, 1.604942927749663, 1.435182269822083, 1.4434798212241813, 1.3761785655340195, 1.3675749158936976, 1.346700029932733, 1.2809261359196475, 1.2450556922691258, 1.3059191012030327, 3.0736999744508617, 1.333778705812449, 1.2081451855313639, 1.21074750379602, 1.1856354678306802, 1.2943199548415274, 1.1692104590317038, 1.156039904746158, 1.2086478550295174, 1.135824472902603, 1.1472159687694397, 1.1758582150960977, 1.3507910206624378, 2.180516887027743, 1.8955120425908456, 1.6369980811694564, 7.52958362284563, 5.5560900994401985, 19.55976260499357, 1.3619282897893217, 1.3744492894829259, 1.1862957083798211, 1.1919138743321576, 1.2381023537303963, 1.083872747450881, 1.0172145616543378, 1.0043804019102167, 0.990060768435197, 0.9657533880389608, 0.9653625220304796, 0.914916498793702, 1.2147798552374411, 1.034912772411091, 0.916746297646784, 0.910948611435068, 0.8869320422520995, 1.8562355293478097, 0.859139692007021, 0.848672202255685, 1.521836485726, 0.8323336171678385, 0.8241053653478737, 1.0391303489136376, 0.804434677543055, 0.7743986006499127, 0.7838316967090136, 0.7759812879587685, 0.9567360738714911, 0.7595810823214606, 0.8053535071755249, 2.041064148866492, 3.911867937701276, 1.72550035380563, 2.180516887027743, 1.3199233394821484, 0.9764408291989006, 1.0264026518854126, 0.6899940395359935, 0.6281323435582257, 0.6118614173732901, 0.5902301776090881, 0.6274725337240757, 0.5654706751574782, 0.5624710874349763, 0.5497306405917501, 0.543415669835206, 0.5417685942291341, 0.6866696272145001, 0.6264018997009124, 0.5174897515447602, 0.5336058644468776, 0.631722248015018, 0.5055338182222197, 0.5664113130394458, 0.5024891131616427, 0.5302834623287972, 0.49192012219191683, 0.6828219228980558, 0.48692762179115445, 0.4837964609536889, 0.48468310962495353, 0.5520261310456345, 0.47829006118079687, 0.4727468139886588, 0.6511637332393164, 0.56041011517758, 0.7587121108697593, 0.5539940507083889, 1.1065017611308932, 0.9460220971338017, 1.6947306888328937, 1.6320024782549174, 1.2949280954456706, 1.926257788807581, 1.7488906302039608, 0.7598003211433288, 0.6696753479723246, 0.561574361659306, 0.534181584155814, 0.5078663334822987, 0.49387399915668334, 0.49387399915668334, 0.5698869862692335, 0.48384516953601225, 0.48759791687187415, 0.478382916016172, 0.47562092973701225, 0.47439951534986724, 0.49523970709176013, 0.4679186922921394, 0.4774189245317915, 0.4825973663342106, 0.524694621952401, 0.5341832271585555, 0.5103628726592419, 0.44415495104833025, 0.6540621329144727, 0.44341098461198514, 0.43967757273659536, 0.5253879966486115, 0.43735908324752254, 0.6125698800458377, 0.4346191677759685, 0.43442741947526475, 0.4311401605893619, 0.6304077249508347, 0.9631774931980003, 0.7986954896511329, 0.7475328770130526, 0.7130038194436024, 0.9556659614571543, 0.961516736658901, 0.9951788842421366, 0.7280840269543007, 0.7330287408126699, 0.5510303423732982, 0.517063726441951, 0.4651200757171892, 0.4738859365181582, 0.46573511545707097, 0.8751564486274351, 0.4239624550761628, 0.42167668003231357, 0.42167668003231357, 0.42167668003231357, 0.41711713068173734, 0.46801362653064654, 0.4097593953006772, 2.311706420042538, 2.297367520499863, 0.4688972732945792, 0.442247310535165, 0.4023210637910986, 0.39748333474383163, 0.3960510711649139, 0.9945322511265139, 0.39807815560532406, 0.5334266841879974, 0.3892276351280931, 0.4741968791975621, 0.38342849723435946, 0.38342849723435946, 2.5367652981688313, 0.38342849723435946, 0.6558404197290686, 0.5322971953851507, 6.168045059731163, 5.171531649084972, 6.290864599321898, 6.786820393739705, 10.840759442875182, 10.221997575853123, 17.471691190819694, 19.273733726293706, 0.5342806673335426, 0.4832966453893772, 0.44529947410039855, 0.4378328409537915, 0.4244192240804266, 0.4230641378274298, 0.42014500712819397, 0.41983047672533824, 0.41752541910772323, 0.45657985311506244, 0.4136915641119205, 0.4602305149603796, 0.4060751762744523, 0.41369167095905235, 0.39986575766531735, 0.39986575766531735, 0.39986575766531735, 0.39986575766531735, 0.39986575766531735, 0.39986575766531735, 0.39986575766531735, 0.39986575766531735, 0.39986575766531735, 0.39986575766531735, 0.39986575766531735, 0.40050539489680137, 0.39675462828515906, 0.39675462828515906, 0.5878857509966807, 0.39343745244789396, 0.8400115985395143, 0.62626774128616, 0.62626774128616, 0.4844510158448314, 0.4670346346880115, 0.5440761545601497, 5.496244858446021, 0.7677199061461868, 1.365345892237132, 4.227362753982064, 0.9675393502431497, 2.749465097132686, 0.5191088734380914, 0.4539400792537806, 0.45159436874749675, 0.4456882818755942, 0.4456882818755942, 0.4456882818755942, 0.4508430743208041, 0.433923474343361, 0.5626737882775128, 0.4498836102738429, 0.4470621841989871, 0.42070797875756033, 0.40722220914154816, 0.41842162135902755, 0.41842162135902755, 0.4149829433508457, 0.4149829433508457, 0.4067803323336918, 0.4102431358200037, 0.3962812318535237, 0.3962812318535237, 0.3925214784245398, 0.39321857142009964, 0.46491357732087196, 0.38675912424263514, 0.45554475555941965, 0.5579950314329403, 0.37857370150115344, 0.37857370150115344, 0.37857370150115344, 0.5455583101801144, 0.5209702026276968, 0.599497600390247, 0.9155054468203531, 0.8886684902137275, 0.713235414268881, 0.9680697895853078], \"Category\": [\"Default\", \"Default\", \"Default\", \"Default\", \"Default\", \"Default\", \"Default\", \"Default\", \"Default\", \"Default\", \"Default\", \"Default\", \"Default\", \"Default\", \"Default\", \"Default\", \"Default\", \"Default\", \"Default\", \"Default\", \"Default\", \"Default\", \"Default\", \"Default\", \"Default\", \"Default\", \"Default\", \"Default\", \"Default\", \"Default\", \"Topic1\", \"Topic1\", \"Topic1\", \"Topic1\", \"Topic1\", \"Topic1\", \"Topic1\", \"Topic1\", \"Topic1\", \"Topic1\", \"Topic1\", \"Topic1\", \"Topic1\", \"Topic1\", \"Topic1\", \"Topic1\", \"Topic1\", \"Topic1\", \"Topic1\", \"Topic1\", \"Topic1\", \"Topic1\", \"Topic1\", \"Topic1\", \"Topic1\", \"Topic1\", \"Topic1\", \"Topic1\", \"Topic1\", \"Topic1\", \"Topic1\", \"Topic1\", \"Topic1\", \"Topic1\", \"Topic1\", \"Topic1\", \"Topic1\", \"Topic1\", \"Topic1\", \"Topic1\", \"Topic1\", \"Topic1\", \"Topic1\", \"Topic1\", \"Topic1\", \"Topic1\", \"Topic1\", \"Topic1\", \"Topic1\", \"Topic1\", \"Topic1\", \"Topic1\", \"Topic1\", \"Topic1\", \"Topic1\", \"Topic1\", \"Topic1\", \"Topic1\", \"Topic1\", \"Topic1\", \"Topic1\", \"Topic1\", \"Topic1\", \"Topic1\", \"Topic2\", \"Topic2\", \"Topic2\", \"Topic2\", \"Topic2\", \"Topic2\", \"Topic2\", \"Topic2\", \"Topic2\", \"Topic2\", \"Topic2\", \"Topic2\", \"Topic2\", \"Topic2\", \"Topic2\", \"Topic2\", \"Topic2\", \"Topic2\", \"Topic2\", \"Topic2\", \"Topic2\", \"Topic2\", \"Topic2\", \"Topic2\", \"Topic2\", \"Topic2\", \"Topic2\", \"Topic2\", \"Topic2\", \"Topic2\", \"Topic2\", \"Topic2\", \"Topic2\", \"Topic2\", \"Topic2\", \"Topic2\", \"Topic2\", \"Topic2\", \"Topic2\", \"Topic2\", \"Topic2\", \"Topic2\", \"Topic2\", \"Topic2\", \"Topic2\", \"Topic2\", \"Topic3\", \"Topic3\", \"Topic3\", \"Topic3\", \"Topic3\", \"Topic3\", \"Topic3\", \"Topic3\", \"Topic3\", \"Topic3\", \"Topic3\", \"Topic3\", \"Topic3\", \"Topic3\", \"Topic3\", \"Topic3\", \"Topic3\", \"Topic3\", \"Topic3\", \"Topic3\", \"Topic3\", \"Topic3\", \"Topic3\", \"Topic3\", \"Topic3\", \"Topic3\", \"Topic3\", \"Topic3\", \"Topic3\", \"Topic3\", \"Topic3\", \"Topic3\", \"Topic3\", \"Topic3\", \"Topic3\", \"Topic3\", \"Topic3\", \"Topic3\", \"Topic4\", \"Topic4\", \"Topic4\", \"Topic4\", \"Topic4\", \"Topic4\", \"Topic4\", \"Topic4\", \"Topic4\", \"Topic4\", \"Topic4\", \"Topic4\", \"Topic4\", \"Topic4\", \"Topic4\", \"Topic4\", \"Topic4\", \"Topic4\", \"Topic4\", \"Topic4\", \"Topic4\", \"Topic4\", \"Topic4\", \"Topic4\", \"Topic4\", \"Topic4\", \"Topic4\", \"Topic4\", \"Topic4\", \"Topic4\", \"Topic4\", \"Topic4\", \"Topic4\", \"Topic4\", \"Topic4\", \"Topic4\", \"Topic4\", \"Topic5\", \"Topic5\", \"Topic5\", \"Topic5\", \"Topic5\", \"Topic5\", \"Topic5\", \"Topic5\", \"Topic5\", \"Topic5\", \"Topic5\", \"Topic5\", \"Topic5\", \"Topic5\", \"Topic5\", \"Topic5\", \"Topic5\", \"Topic5\", \"Topic5\", \"Topic5\", \"Topic5\", \"Topic5\", \"Topic5\", \"Topic5\", \"Topic5\", \"Topic5\", \"Topic5\", \"Topic5\", \"Topic5\", \"Topic5\", \"Topic5\", \"Topic5\", \"Topic5\", \"Topic5\", \"Topic5\", \"Topic5\", \"Topic6\", \"Topic6\", \"Topic6\", \"Topic6\", \"Topic6\", \"Topic6\", \"Topic6\", \"Topic6\", \"Topic6\", \"Topic6\", \"Topic6\", \"Topic6\", \"Topic6\", \"Topic6\", \"Topic6\", \"Topic6\", \"Topic6\", \"Topic6\", \"Topic6\", \"Topic6\", \"Topic6\", \"Topic6\", \"Topic6\", \"Topic6\", \"Topic6\", \"Topic6\", \"Topic6\", \"Topic6\", \"Topic6\", \"Topic6\", \"Topic6\", \"Topic6\", \"Topic6\", \"Topic6\", \"Topic6\", \"Topic6\", \"Topic6\", \"Topic6\", \"Topic6\", \"Topic6\", \"Topic7\", \"Topic7\", \"Topic7\", \"Topic7\", \"Topic7\", \"Topic7\", \"Topic7\", \"Topic7\", \"Topic7\", \"Topic7\", \"Topic7\", \"Topic7\", \"Topic7\", \"Topic7\", \"Topic7\", \"Topic7\", \"Topic7\", \"Topic7\", \"Topic7\", \"Topic7\", \"Topic7\", \"Topic7\", \"Topic7\", \"Topic7\", \"Topic7\", \"Topic7\", \"Topic7\", \"Topic7\", \"Topic7\", \"Topic7\", \"Topic7\", \"Topic7\", \"Topic7\", \"Topic7\", \"Topic7\", \"Topic7\", \"Topic7\", \"Topic8\", \"Topic8\", \"Topic8\", \"Topic8\", \"Topic8\", \"Topic8\", \"Topic8\", \"Topic8\", \"Topic8\", \"Topic8\", \"Topic8\", \"Topic8\", \"Topic8\", \"Topic8\", \"Topic8\", \"Topic8\", \"Topic8\", \"Topic8\", \"Topic8\", \"Topic8\", \"Topic8\", \"Topic8\", \"Topic8\", \"Topic8\", \"Topic8\", \"Topic8\", \"Topic8\", \"Topic8\", \"Topic8\", \"Topic8\", \"Topic8\", \"Topic8\", \"Topic8\", \"Topic8\", \"Topic8\", \"Topic8\", \"Topic8\", \"Topic8\", \"Topic8\", \"Topic8\", \"Topic8\", \"Topic8\", \"Topic9\", \"Topic9\", \"Topic9\", \"Topic9\", \"Topic9\", \"Topic9\", \"Topic9\", \"Topic9\", \"Topic9\", \"Topic9\", \"Topic9\", \"Topic9\", \"Topic9\", \"Topic9\", \"Topic9\", \"Topic9\", \"Topic9\", \"Topic9\", \"Topic9\", \"Topic9\", \"Topic9\", \"Topic9\", \"Topic9\", \"Topic9\", \"Topic9\", \"Topic9\", \"Topic9\", \"Topic9\", \"Topic9\", \"Topic9\", \"Topic9\", \"Topic9\", \"Topic9\", \"Topic9\", \"Topic9\", \"Topic9\", \"Topic9\", \"Topic9\", \"Topic9\", \"Topic9\", \"Topic9\", \"Topic9\", \"Topic10\", \"Topic10\", \"Topic10\", \"Topic10\", \"Topic10\", \"Topic10\", \"Topic10\", \"Topic10\", \"Topic10\", \"Topic10\", \"Topic10\", \"Topic10\", \"Topic10\", \"Topic10\", \"Topic10\", \"Topic10\", \"Topic10\", \"Topic10\", \"Topic10\", \"Topic10\", \"Topic10\", \"Topic10\", \"Topic10\", \"Topic10\", \"Topic10\", \"Topic10\", \"Topic10\", \"Topic10\", \"Topic10\", \"Topic10\", \"Topic10\", \"Topic10\", \"Topic10\", \"Topic10\", \"Topic10\", \"Topic10\", \"Topic10\"], \"logprob\": [30.0, 29.0, 28.0, 27.0, 26.0, 25.0, 24.0, 23.0, 22.0, 21.0, 20.0, 19.0, 18.0, 17.0, 16.0, 15.0, 14.0, 13.0, 12.0, 11.0, 10.0, 9.0, 8.0, 7.0, 6.0, 5.0, 4.0, 3.0, 2.0, 1.0, -5.899400234222412, -5.9492998123168945, -6.270500183105469, -6.956600189208984, -6.303299903869629, -7.018199920654297, -7.2399001121521, -6.883699893951416, -7.006499767303467, -6.868299961090088, -7.00439977645874, -6.668900012969971, -6.361499786376953, -7.308599948883057, -7.378900051116943, -7.0320000648498535, -7.053899765014648, -7.29640007019043, -6.696300029754639, -7.377900123596191, -7.399799823760986, -6.6092000007629395, -7.406199932098389, -7.087399959564209, -7.213699817657471, -7.3618998527526855, -7.185200214385986, -7.446800231933594, -7.246099948883057, -7.044600009918213, -6.2565999031066895, -6.212600231170654, -6.709499835968018, -6.793600082397461, -6.94920015335083, -7.046299934387207, -6.787700176239014, -5.671800136566162, -6.048900127410889, -6.524799823760986, -5.922699928283691, -6.082600116729736, -6.373799800872803, -6.882599830627441, -6.493100166320801, -6.257199764251709, -6.481100082397461, -6.713099956512451, -6.155099868774414, -6.719600200653076, -6.364799976348877, -6.538099765777588, -6.475900173187256, -6.456500053405762, -6.485000133514404, -6.187300205230713, -6.605000019073486, -6.629000186920166, -6.522600173950195, -6.529300212860107, -6.487400054931641, -6.513999938964844, -6.555500030517578, -6.3730998039245605, -6.413099765777588, -6.829999923706055, -6.711100101470947, -6.804699897766113, -6.670400142669678, -6.936299800872803, -6.818299770355225, -6.968599796295166, -6.91540002822876, -7.031499862670898, -7.090400218963623, -7.1041998863220215, -7.125400066375732, -7.126299858093262, -6.740300178527832, -7.182799816131592, -7.186399936676025, -7.125500202178955, -7.2133002281188965, -7.165999889373779, -7.0625, -7.09250020980835, -6.6875, -7.129799842834473, -7.254700183868408, -7.367099761962891, -7.350200176239014, -7.2241997718811035, -7.354700088500977, -7.38070011138916, -6.3983001708984375, -6.967100143432617, -6.83519983291626, -6.63539981842041, -6.648499965667725, -7.105400085449219, -6.851200103759766, -6.918600082397461, -7.078100204467773, -6.86899995803833, -6.822199821472168, -6.373799800872803, -6.267499923706055, -6.843599796295166, -6.896299839019775, -7.05649995803833, -5.7164998054504395, -6.1184000968933105, -6.5100998878479, -6.531499862670898, -6.690100193023682, -6.706900119781494, -6.806600093841553, -6.837600231170654, -6.917200088500977, -6.993100166320801, -6.9542999267578125, -7.047299861907959, -6.900300025939941, -7.074100017547607, -7.034900188446045, -7.0970001220703125, -6.956900119781494, -6.96589994430542, -7.127500057220459, -6.946000099182129, -7.1504998207092285, -7.13070011138916, -7.1992998123168945, -7.208199977874756, -7.141499996185303, -7.245100021362305, -7.25, -7.2459001541137695, -7.260300159454346, -7.240699768066406, -6.178699970245361, -7.1305999755859375, -6.701300144195557, -7.053500175476074, -6.933700084686279, -6.987100124359131, -6.917099952697754, -7.117400169372559, -6.368599891662598, -6.53380012512207, -6.43149995803833, -6.390200138092041, -6.693299770355225, -6.84119987487793, -6.88070011138916, -6.9293999671936035, -6.981800079345703, -6.982500076293945, -7.116600036621094, -7.111000061035156, -7.1707000732421875, -7.178299903869629, -7.200099945068359, -7.261099815368652, -7.297800064086914, -7.2505998611450195, -6.397900104522705, -7.232900142669678, -7.336900234222412, -7.337500095367432, -7.361400127410889, -7.275400161743164, -7.380499839782715, -7.395299911499023, -7.353499889373779, -7.418499946594238, -7.4207000732421875, -7.399600028991699, -7.274199962615967, -6.934999942779541, -7.047399997711182, -7.162300109863281, -6.364999771118164, -7.271399974822998, -7.317299842834473, -6.778500080108643, -6.769800186157227, -6.9695000648498535, -6.973599910736084, -6.947500228881836, -7.087399959564209, -7.167799949645996, -7.184599876403809, -7.206200122833252, -7.2403998374938965, -7.248600006103516, -7.320400238037109, -7.0395002365112305, -7.200699806213379, -7.322400093078613, -7.331900119781494, -7.365900039672852, -6.636000156402588, -7.418099880218506, -7.4355998039245605, -6.854899883270264, -7.463099956512451, -7.478700160980225, -7.260499954223633, -7.518400192260742, -7.579400062561035, -7.570799827575684, -7.582699775695801, -7.374199867248535, -7.610799789428711, -7.5584001541137695, -6.8668999671936035, -7.0019001960754395, -7.329100131988525, -7.461299896240234, -7.514100074768066, -6.676199913024902, -6.731800079345703, -7.131499767303467, -7.276100158691406, -7.332799911499023, -7.401899814605713, -7.354599952697754, -7.499100208282471, -7.508399963378906, -7.5569000244140625, -7.583000183105469, -7.5894999504089355, -7.365300178527832, -7.495200157165527, -7.703700065612793, -7.677299976348877, -7.5142998695373535, -7.757800102233887, -7.646200180053711, -7.782700061798096, -7.760499954223633, -7.83620023727417, -7.525100231170654, -7.863399982452393, -7.874000072479248, -7.878600120544434, -7.75, -7.9079999923706055, -7.941500186920166, -7.628699779510498, -7.798999786376953, -7.61959981918335, -7.822000026702881, -7.572700023651123, -7.630199909210205, -7.462299823760986, -7.603899955749512, -7.660799980163574, -7.658199787139893, -7.684599876403809, -6.961100101470947, -7.1265997886657715, -7.390200138092041, -7.5096001625061035, -7.6290998458862305, -7.704500198364258, -7.704500198364258, -7.579899787902832, -7.764599800109863, -7.772200107574463, -7.794600009918213, -7.80620002746582, -7.815499782562256, -7.7846999168396, -7.853700160980225, -7.835299968719482, -7.841300010681152, -7.780600070953369, -7.787600040435791, -7.836999893188477, -8.015899658203125, -7.631700038909912, -8.023200035095215, -8.051199913024902, -7.8734002113342285, -8.071399688720703, -7.739200115203857, -8.089900016784668, -8.096599578857422, -8.11929988861084, -7.804100036621094, -7.5269999504089355, -7.8007001876831055, -7.880799770355225, -7.909999847412109, -7.8744001388549805, -7.913700103759766, -6.235199928283691, -6.6230998039245605, -6.639200210571289, -7.170599937438965, -7.289100170135498, -7.583399772644043, -7.56820011138916, -7.729499816894531, -7.104300022125244, -7.9079999923706055, -7.9197998046875, -7.9197998046875, -7.9197998046875, -7.970900058746338, -7.890999794006348, -8.031100273132324, -6.333600044250488, -6.345799922943115, -7.951399803161621, -8.010700225830078, -8.138500213623047, -8.168800354003906, -8.18179988861084, -7.321400165557861, -8.248600006103516, -7.96750020980835, -8.304100036621094, -8.112600326538086, -8.349900245666504, -8.349900245666504, -6.479800224304199, -8.349900245666504, -7.850299835205078, -8.058600425720215, -6.36929988861084, -6.574699878692627, -6.618899822235107, -6.774199962615967, -7.039999961853027, -7.1132001876831055, -7.658400058746338, -7.690499782562256, -7.200200080871582, -7.477099895477295, -7.722899913787842, -7.770699977874756, -7.882299900054932, -7.920599937438965, -7.936399936676025, -7.94189977645874, -7.947500228881836, -7.895299911499023, -8.026399612426758, -7.925300121307373, -8.06879997253418, -8.080599784851074, -8.129199981689453, -8.129199981689453, -8.129199981689453, -8.129199981689453, -8.129199981689453, -8.129199981689453, -8.129199981689453, -8.129199981689453, -8.129199981689453, -8.129199981689453, -8.129199981689453, -8.13759994506836, -8.166899681091309, -8.166899681091309, -7.781400203704834, -8.208800315856934, -7.451700210571289, -7.825399875640869, -7.825399875640869, -8.031599998474121, -8.063699722290039, -8.002599716186523, -7.094600200653076, -7.877399921417236, -7.674099922180176, -7.629799842834473, -8.037400245666504, -8.032099723815918, -7.245699882507324, -7.6234002113342285, -7.664700031280518, -7.713799953460693, -7.713799953460693, -7.713799953460693, -7.729300022125244, -7.780300140380859, -7.5258002281188965, -7.750899791717529, -7.811100006103516, -7.89139986038208, -8.026100158691406, -8.00409984588623, -8.00409984588623, -8.01669979095459, -8.01669979095459, -8.110199928283691, -8.107399940490723, -8.160200119018555, -8.160200119018555, -8.200300216674805, -8.215700149536133, -8.058099746704102, -8.266400337219238, -8.17549991607666, -7.996300220489502, -8.385899543762207, -8.385899543762207, -8.385899543762207, -8.022700309753418, -8.113100051879883, -8.069999694824219, -7.8308000564575195, -7.951399803161621, -8.058799743652344, -8.151200294494629], \"loglift\": [30.0, 29.0, 28.0, 27.0, 26.0, 25.0, 24.0, 23.0, 22.0, 21.0, 20.0, 19.0, 18.0, 17.0, 16.0, 15.0, 14.0, 13.0, 12.0, 11.0, 10.0, 9.0, 8.0, 7.0, 6.0, 5.0, 4.0, 3.0, 2.0, 1.0, 0.3121, 0.3121, 0.3109, 0.3067, 0.3062, 0.3057, 0.3052, 0.305, 0.3045, 0.3043, 0.3033, 0.3033, 0.3032, 0.303, 0.3029, 0.3028, 0.3027, 0.3025, 0.3023, 0.3022, 0.3021, 0.302, 0.3019, 0.3018, 0.3016, 0.3014, 0.3014, 0.3013, 0.3013, 0.301, 0.3007, 0.2995, 0.3009, 0.2996, 0.3005, 0.3002, 0.2975, 0.2826, 0.2848, 0.2912, 0.2773, 0.274, 0.2822, 0.2959, 0.2832, 0.2729, 0.2809, 0.2898, 0.2663, 0.2899, 0.2707, 0.2785, 0.2727, 0.2674, 0.2679, 0.2202, 0.274, 0.2732, 0.2511, 0.2492, 0.2378, 0.2383, 0.2376, 0.1253, 1.9924, 1.9895, 1.9893, 1.9893, 1.9889, 1.986, 1.9857, 1.9847, 1.9843, 1.9831, 1.98, 1.9794, 1.9786, 1.9761, 1.9748, 1.974, 1.9737, 1.9724, 1.9719, 1.9684, 1.9682, 1.968, 1.9678, 1.9671, 1.9661, 1.9659, 1.9657, 1.9654, 1.9651, 1.9643, 1.961, 1.9631, 1.9617, 1.9527, 1.9381, 1.9586, 1.9414, 1.9282, 1.9257, 1.7291, 1.66, 0.9568, 0.2309, 0.1966, -0.4888, -0.1015, 2.9151, 2.8994, 2.877, 2.8628, 2.8621, 2.8619, 2.8535, 2.8507, 2.8401, 2.8337, 2.832, 2.8294, 2.828, 2.8253, 2.824, 2.8238, 2.8224, 2.8216, 2.82, 2.8194, 2.8171, 2.8161, 2.8112, 2.8101, 2.8079, 2.805, 2.8046, 2.804, 2.8032, 2.8026, 2.777, 2.7997, 2.774, 2.7692, 2.6895, 2.6842, 2.0279, 1.2879, 3.4088, 3.3904, 3.3854, 3.3735, 3.3671, 3.3464, 3.3357, 3.3319, 3.3226, 3.3195, 3.2971, 3.297, 3.2851, 3.2838, 3.2773, 3.2664, 3.258, 3.2575, 3.2543, 3.2541, 3.2491, 3.2464, 3.2434, 3.2417, 3.2383, 3.2348, 3.232, 3.2292, 3.217, 3.2135, 3.2001, 3.0605, 3.0882, 3.1199, 2.3912, 1.7888, 0.4843, 3.6877, 3.6872, 3.6348, 3.6259, 3.614, 3.6071, 3.5902, 3.5861, 3.5788, 3.5695, 3.5618, 3.5436, 3.541, 3.5401, 3.5396, 3.5364, 3.5291, 3.5206, 3.5088, 3.5036, 3.5002, 3.4954, 3.4898, 3.4762, 3.4743, 3.4514, 3.4479, 3.446, 3.4451, 3.4393, 3.4331, 3.1947, 2.4092, 2.9004, 2.5342, 2.9834, 4.1227, 4.0172, 4.0146, 3.964, 3.9335, 3.9004, 3.8866, 3.8461, 3.8421, 3.8165, 3.802, 3.7984, 3.7857, 3.7476, 3.7301, 3.7259, 3.7201, 3.6995, 3.6973, 3.6805, 3.6489, 3.6483, 3.6315, 3.6313, 3.6272, 3.6208, 3.6193, 3.6046, 3.5828, 3.5753, 3.5552, 3.4316, 3.5437, 3.1012, 3.2003, 2.7852, 2.6814, 2.8558, 2.4613, 2.5315, 4.0887, 4.0494, 3.9619, 3.8925, 3.8235, 3.776, 3.776, 3.7574, 3.7365, 3.7212, 3.7178, 3.712, 3.7053, 3.6931, 3.6809, 3.6791, 3.6624, 3.6394, 3.6145, 3.6107, 3.5708, 3.5679, 3.5651, 3.5456, 3.5453, 3.5307, 3.526, 3.5184, 3.5122, 3.4971, 3.4323, 3.2856, 3.1991, 3.1853, 3.2033, 2.946, 2.9007, 4.5447, 4.4693, 4.4464, 4.2004, 4.1455, 3.9571, 3.9537, 3.8097, 3.8042, 3.7252, 3.7188, 3.7188, 3.7188, 3.6785, 3.6433, 3.6362, 3.6035, 3.5975, 3.581, 3.5803, 3.5471, 3.5288, 3.5194, 3.4592, 3.4475, 3.436, 3.4146, 3.4086, 3.3838, 3.3838, 3.3644, 3.3838, 3.3466, 3.347, 2.5864, 2.5572, 2.3171, 2.0859, 1.3518, 1.3374, 0.2561, 0.1259, 4.2017, 4.0251, 3.8612, 3.8303, 3.7498, 3.7147, 3.7058, 3.7011, 3.701, 3.6637, 3.6313, 3.6258, 3.6075, 3.5771, 3.5625, 3.5625, 3.5625, 3.5625, 3.5625, 3.5625, 3.5625, 3.5625, 3.5625, 3.5625, 3.5625, 3.5525, 3.5326, 3.5326, 3.5249, 3.4991, 3.4977, 3.4177, 3.4177, 3.4682, 3.4727, 3.3811, 1.9764, 3.162, 2.7896, 1.7037, 2.7707, 1.7316, 4.185, 3.9415, 3.9054, 3.8695, 3.8695, 3.8695, 3.8424, 3.8296, 3.8244, 3.823, 3.769, 3.7494, 3.6474, 3.6422, 3.6422, 3.6379, 3.6379, 3.5644, 3.5587, 3.5405, 3.5405, 3.5099, 3.4927, 3.4829, 3.4586, 3.3858, 3.3621, 3.3605, 3.3605, 3.3605, 3.3583, 3.314, 3.2167, 3.0325, 2.9417, 3.0542, 2.6563]}, \"token.table\": {\"Topic\": [1, 2, 5, 2, 4, 5, 1, 2, 4, 4, 1, 1, 2, 2, 4, 1, 3, 4, 1, 2, 3, 5, 3, 3, 1, 2, 3, 8, 1, 3, 3, 3, 1, 1, 1, 2, 3, 8, 1, 3, 3, 2, 3, 1, 2, 3, 8, 6, 1, 4, 5, 1, 2, 1, 1, 1, 1, 2, 2, 1, 2, 2, 3, 2, 5, 1, 4, 1, 2, 4, 1, 2, 3, 2, 1, 2, 3, 1, 2, 5, 1, 1, 4, 2, 5, 1, 5, 1, 5, 4, 5, 1, 5, 3, 5, 1, 1, 1, 4, 1, 4, 2, 4, 4, 5, 2, 3, 5, 1, 3, 1, 2, 2, 5, 3, 2, 5, 8, 1, 1, 2, 2, 1, 2, 1, 1, 2, 3, 1, 2, 2, 1, 2, 4, 5, 2, 1, 3, 4, 1, 1, 1, 2, 4, 2, 5, 4, 4, 4, 1, 4, 3, 4, 5, 3, 2, 1, 2, 1, 2, 3, 4, 1, 3, 5, 1, 4, 4, 3, 5, 4, 1, 2, 1, 1, 3, 2, 3, 1, 2, 4, 1, 4, 4, 1, 2, 4, 2, 3, 2, 1, 2, 3, 5, 1, 1, 2, 1, 2, 2, 5, 3, 3, 4, 1, 2, 1, 3, 1, 2, 3, 4, 1, 2, 1, 1, 6, 3, 1, 2, 3, 4, 1, 2, 1, 2, 5, 1, 5, 4, 2, 2, 1, 3, 2, 1, 2, 3, 4, 1, 2, 4, 5, 3, 4, 2, 4, 2, 2, 1, 1, 2, 1, 1, 3, 2, 1, 1, 2, 3, 3, 2, 1, 2, 4, 5, 3, 1, 2, 3, 3, 1, 2, 1, 5, 4, 1, 2, 3, 1, 2, 2, 3, 5, 2, 2, 2, 1, 1, 2, 2, 1, 2, 2, 5, 4, 5, 2, 3, 2, 1, 2, 1, 2, 1, 2, 4], \"Freq\": [0.6384228301053055, 0.35113255655791803, 0.8389867938741052, 0.5717910444081784, 0.527561934469785, 0.9226175326871738, 0.9551025618758437, 0.040642662207482715, 0.8716754536398663, 0.7403069643663996, 0.9816586917339979, 0.9661004866701801, 0.023002392539766194, 0.9945323310280486, 0.803176923096099, 0.9041478930798909, 0.07534565775665757, 0.6927703354743979, 0.3867326230815722, 0.3867326230815722, 0.1933663115407861, 0.7342530495160587, 0.9730204519014551, 0.7716563920944447, 0.9724942153784331, 0.9605062583170332, 0.43528081209332115, 0.43528081209332115, 1.0463907268134225, 0.9837342776710287, 0.8759467141715118, 0.968496810318387, 1.0016309143787538, 1.001861829250417, 0.9583786528255003, 0.030915440413725813, 0.8106296162852492, 0.16212592325704983, 0.7479901476702857, 0.18699753691757143, 0.6632581376942157, 0.8966515269144073, 0.11208144086430091, 0.9642670555534258, 0.03616001458325347, 0.8651617621770491, 0.43258088108852455, 0.9742765162999987, 0.9984217318472812, 0.6967756089433631, 1.0452203353778005, 0.9756009092880132, 0.03252003030960044, 0.9097120177090643, 0.9829571126594739, 0.9339134936498553, 0.9515856115838579, 0.038577795064210454, 0.9903541318911623, 0.8356848328187994, 0.16713696656375987, 0.9654129707931043, 0.9621631651629465, 0.9571205790412288, 1.1639550695928362, 0.9715631455433422, 0.7312213673841109, 0.8180058379601821, 0.10225072974502276, 0.05112536487251138, 0.9130751832305248, 0.07608959860254375, 0.012681599767090624, 0.9402818057695119, 0.855095115783862, 0.10962757894664897, 0.021925515789329796, 0.22677058329949523, 0.7936970415482333, 0.8231944213501464, 0.519141314215806, 0.3253407971865104, 0.6506815943730208, 0.921253046640788, 1.010039011626036, 0.9740178632608927, 0.9956387023264436, 0.9911863757037603, 0.5387247384233352, 0.624611089307986, 0.9623431757579339, 0.9959875083426791, 0.9830767644278106, 0.9816802632010408, 0.8429601430201128, 0.9778130828954591, 0.6127441675635745, 0.9440465288112024, 0.09440465288112024, 0.5312378745437578, 0.2656189372718789, 0.7199307297775855, 0.17998268244439639, 0.4586068587448994, 0.4586068587448994, 0.8737325002248371, 0.7449634918258811, 0.7275641288855441, 0.9937537146084197, 0.7748230467592718, 0.902924575942494, 0.085992816756428, 0.9197826553023105, 0.6571008182412874, 0.8830967868064304, 0.9693065734172482, 1.1274820982459919, 1.004844471515827, 1.0054978095152698, 0.9673678227111032, 0.03224559409037011, 0.9457406066789013, 0.956748523641745, 0.041597761897467174, 0.996492877080603, 0.9495163788989421, 0.03583080675090348, 0.8331737302946809, 0.9848709822356976, 0.9643388010168902, 0.8922245054143335, 0.9717976536796074, 0.9336273024781334, 0.8650220428330101, 0.9662650096299876, 0.9641411771288267, 0.9795301899504234, 0.998373870873102, 0.9787412396292786, 0.9692611204425884, 0.9462164079087148, 0.3029406231453703, 0.706861454005864, 0.7425558608251828, 0.8929788094458955, 1.0354610321694855, 0.8277150891928458, 0.5982251906904685, 0.8273708473801727, 0.9730184192055144, 0.880417726380289, 0.9379500372051923, 0.5720040261585204, 1.201441320371843, 1.0055004970650274, 0.7722436508382604, 0.8333541901082073, 0.16667083802164145, 0.8804541317110285, 0.09782823685678095, 0.9310925073384669, 0.8259360410529283, 0.9224445992639612, 0.8978947459192685, 1.0929959196478354, 0.8840664187215734, 0.8504426700104097, 0.7497495616342643, 1.011913910629209, 1.213437070122553, 0.73748852364413, 0.9971683350670609, 1.0382302400772878, 1.0329833765687184, 0.9700239511580027, 0.8512066540154131, 0.9332676497727831, 0.8177702004354168, 0.9818367838254393, 0.7884056130236816, 1.1252790112536757, 0.9721375626326786, 0.7806851401951017, 0.8541394496388031, 0.9870376352803556, 0.014731905004184411, 0.8552780145570733, 0.4811675671588725, 0.320778378105915, 0.8980430144188276, 0.9581290729500582, 0.0361558140735871, 0.8919450540385119, 1.1783112458993013, 0.9870494204691503, 0.9737500192920573, 0.03818627526635519, 0.957135243565425, 0.034804917947833636, 0.9002105085755673, 0.8076876657143934, 0.8593854825171361, 1.040023498160647, 0.7266498876270135, 0.9235070501413296, 0.06969864529368525, 0.9889984941923509, 1.0350316365402976, 0.7383107504400992, 0.0820345278266777, 0.0820345278266777, 0.0820345278266777, 0.9718781343324386, 0.018337323289291295, 0.9933222687050439, 0.9841048670283243, 1.0241275969793562, 1.053248556202929, 0.9812786218120398, 0.9345279966259442, 0.8001026246974935, 0.8434295591963594, 0.9605507254006849, 0.043009733973164994, 0.9373183657555203, 0.055136374456207074, 1.0977567641545052, 0.9828813740899394, 1.2431090154569797, 0.7657442172939998, 0.9704159861197738, 0.9751855850645743, 0.9847996434082869, 0.738886892066947, 0.8724806531725979, 0.9983925251117813, 0.9386506528666133, 0.728691477983026, 0.7671811215003516, 0.9309935492551525, 0.0716148884042425, 0.6108742652194248, 1.0358802803911076, 0.9686827826081028, 1.111476886903935, 0.5900642542141417, 0.7274142167091792, 1.0047766087659789, 0.845391542225563, 0.9863581351027667, 0.9730025453364504, 1.019804249933228, 0.7948033089980919, 0.9037491264161716, 0.7324151379409731, 1.0242352851336392, 0.9815317154233729, 0.9324709009830774, 0.07459767207864619, 0.873586171614582, 0.6320960969738019, 0.9352401005491295, 0.9971145443722551, 0.9033935728434779, 0.48994050508179837, 0.48994050508179837, 0.814538719586135, 0.9977469695770758, 0.9481983553142725, 0.8742543469199038, 0.744072892425492, 0.9856833938338235, 0.014081191340483194, 0.9960670651212529, 1.090814331693427, 0.7726064921269308, 0.9631513591700134, 0.03567227256185235, 0.7228549714752581, 0.9731450334971014, 0.01908127516660983, 0.8505490219534133, 0.5795420428599029, 0.5795420428599029, 0.9091496333697149, 1.0317837092162792, 0.9297087692994993, 1.00082098650743, 0.9558218738873563, 0.03186072912957855, 0.9408176914272284, 0.9328101435361214, 0.054871184913889495, 0.7668970547515171, 0.25563235158383907, 0.7576197572143354, 0.7576197572143354, 0.9682653632841506, 0.9384436620603079, 0.991190384808771, 0.9616867034345706, 0.035618026053132246, 0.9659701669405905, 0.023560247974160745, 0.9724537086710533, 0.023153659730263173, 0.6230751154510703], \"Term\": [\"abortion\", \"abortion\", \"accord\", \"acknowledges\", \"actively\", \"adam\", \"al\", \"al\", \"alamoudi\", \"altering\", \"america\", \"american\", \"american\", \"arkansas\", \"arthritis\", \"article\", \"article\", \"asserts\", \"author\", \"author\", \"author\", \"bat\", \"bauer\", \"beach\", \"billion\", \"bit\", \"blondes\", \"blondes\", \"borough\", \"bosses\", \"box\", \"brennan\", \"buchanan\", \"budget\", \"bush\", \"bush\", \"bushnell\", \"bushnell\", \"bushwick\", \"bushwick\", \"byrd\", \"calling\", \"calling\", \"campaign\", \"campaign\", \"candace\", \"candace\", \"carbon\", \"care\", \"characters\", \"charisma\", \"cheney\", \"cheney\", \"chernomyrdin\", \"children\", \"city\", \"clinton\", \"clinton\", \"conservatives\", \"convention\", \"convention\", \"corzine\", \"credible\", \"crude\", \"curriculum\", \"cut\", \"damaging\", \"death\", \"death\", \"death\", \"debate\", \"debate\", \"debate\", \"debater\", \"debates\", \"debates\", \"debates\", \"delegates\", \"delegates\", \"devine\", \"digital\", \"dna\", \"dna\", \"double\", \"dowd\", \"drug\", \"dwight\", \"economy\", \"eisenhower\", \"el\", \"ellis\", \"else\", \"embarrass\", \"employee\", \"endorsements\", \"energy\", \"envisions\", \"evidence\", \"evidence\", \"execution\", \"execution\", \"executions\", \"executions\", \"experienced\", \"experienced\", \"favors\", \"fewer\", \"fires\", \"florida\", \"forget\", \"four\", \"four\", \"franks\", \"garden\", \"geeks\", \"gingrich\", \"giordano\", \"glamorous\", \"goldsmith\", \"gore\", \"gore\", \"gorey\", \"gov\", \"gov\", \"government\", \"governor\", \"governor\", \"haiti\", \"health\", \"hear\", \"heating\", \"held\", \"hopes\", \"hunger\", \"impatient\", \"include\", \"income\", \"incorrectly\", \"inmate\", \"interest\", \"iran\", \"justices\", \"justices\", \"justify\", \"kennedy\", \"klink\", \"krugman\", \"kyoto\", \"lansing\", \"lazio\", \"leather\", \"lehrer\", \"leno\", \"leone\", \"letterman\", \"liberties\", \"lieberman\", \"lieberman\", \"lives\", \"lives\", \"location\", \"lodine\", \"love\", \"madison\", \"mangling\", \"manhattan\", \"marginal\", \"marijuana\", \"marshall\", \"maureen\", \"mcginn\", \"medicare\", \"messy\", \"methodically\", \"middle\", \"misspelled\", \"mistake\", \"moderator\", \"money\", \"monthly\", \"monument\", \"mrs\", \"museum\", \"muslim\", \"nader\", \"nader\", \"nail\", \"network\", \"network\", \"networks\", \"new\", \"new\", \"newly\", \"newport\", \"news\", \"oil\", \"oil\", \"one\", \"one\", \"options\", \"overlooked\", \"overseas\", \"panels\", \"pardons\", \"party\", \"party\", \"pat\", \"peacekeeping\", \"penalty\", \"penalty\", \"penalty\", \"penalty\", \"people\", \"people\", \"percent\", \"plan\", \"playboy\", \"pleased\", \"poll\", \"populist\", \"preparation\", \"prescribed\", \"president\", \"president\", \"presidential\", \"presidential\", \"programming\", \"proposal\", \"protocol\", \"publicity\", \"pull\", \"putting\", \"ralph\", \"rats\", \"reasons\", \"reform\", \"rejected\", \"relatively\", \"reprieve\", \"republican\", \"republican\", \"resent\", \"respective\", \"retarded\", \"ricky\", \"sanchez\", \"sanctions\", \"saw\", \"scalia\", \"security\", \"seen\", \"senators\", \"sex\", \"sheriff\", \"shrinking\", \"size\", \"social\", \"state\", \"state\", \"staying\", \"stories\", \"strategic\", \"string\", \"stump\", \"sullivan\", \"sullivan\", \"surname\", \"surplus\", \"surpluses\", \"tampa\", \"targeted\", \"tax\", \"tax\", \"taxes\", \"taylor\", \"terrorist\", \"texas\", \"texas\", \"thompson\", \"today\", \"today\", \"tour\", \"truman\", \"truman\", \"turnout\", \"uninsured\", \"uses\", \"var\", \"vice\", \"vice\", \"virginia\", \"voters\", \"voters\", \"voucher\", \"voucher\", \"whoever\", \"whoever\", \"whole\", \"winston\", \"winter\", \"women\", \"women\", \"would\", \"would\", \"years\", \"years\", \"yorkers\"]}, \"R\": 30, \"lambda.step\": 0.01, \"plot.opts\": {\"xlab\": \"PC1\", \"ylab\": \"PC2\"}, \"topic.order\": [5, 3, 7, 9, 2, 8, 1, 6, 10, 4]};\n",
              "\n",
              "function LDAvis_load_lib(url, callback){\n",
              "  var s = document.createElement('script');\n",
              "  s.src = url;\n",
              "  s.async = true;\n",
              "  s.onreadystatechange = s.onload = callback;\n",
              "  s.onerror = function(){console.warn(\"failed to load library \" + url);};\n",
              "  document.getElementsByTagName(\"head\")[0].appendChild(s);\n",
              "}\n",
              "\n",
              "if(typeof(LDAvis) !== \"undefined\"){\n",
              "   // already loaded: just create the visualization\n",
              "   !function(LDAvis){\n",
              "       new LDAvis(\"#\" + \"ldavis_el561404448759803762006239738\", ldavis_el561404448759803762006239738_data);\n",
              "   }(LDAvis);\n",
              "}else if(typeof define === \"function\" && define.amd){\n",
              "   // require.js is available: use it to load d3/LDAvis\n",
              "   require.config({paths: {d3: \"https://cdnjs.cloudflare.com/ajax/libs/d3/3.5.5/d3.min\"}});\n",
              "   require([\"d3\"], function(d3){\n",
              "      window.d3 = d3;\n",
              "      LDAvis_load_lib(\"https://cdn.rawgit.com/bmabey/pyLDAvis/files/ldavis.v1.0.0.js\", function(){\n",
              "        new LDAvis(\"#\" + \"ldavis_el561404448759803762006239738\", ldavis_el561404448759803762006239738_data);\n",
              "      });\n",
              "    });\n",
              "}else{\n",
              "    // require.js not available: dynamically load d3 & LDAvis\n",
              "    LDAvis_load_lib(\"https://cdnjs.cloudflare.com/ajax/libs/d3/3.5.5/d3.min.js\", function(){\n",
              "         LDAvis_load_lib(\"https://cdn.rawgit.com/bmabey/pyLDAvis/files/ldavis.v1.0.0.js\", function(){\n",
              "                 new LDAvis(\"#\" + \"ldavis_el561404448759803762006239738\", ldavis_el561404448759803762006239738_data);\n",
              "            })\n",
              "         });\n",
              "}\n",
              "</script>"
            ],
            "text/plain": [
              "PreparedData(topic_coordinates=              x         y  topics  cluster       Freq\n",
              "topic                                                \n",
              "4     -0.290418  0.038690       1        1  73.006645\n",
              "2     -0.023151 -0.176172       2        1  13.161348\n",
              "6      0.074728  0.048533       3        1   5.244873\n",
              "8      0.057442  0.025784       4        1   2.954827\n",
              "1      0.045373  0.017681       5        1   1.951389\n",
              "7      0.031193  0.010628       6        1   0.969138\n",
              "0      0.028687  0.009351       7        1   0.856424\n",
              "5      0.025781  0.009252       8        1   0.627549\n",
              "9      0.025263  0.008364       9        1   0.622197\n",
              "3      0.025102  0.007890      10        1   0.605610, topic_info=               Term       Freq      Total Category  logprob  loglift\n",
              "2128           love  10.000000  10.000000  Default  30.0000  30.0000\n",
              "10369     lieberman  71.000000  71.000000  Default  29.0000  29.0000\n",
              "507        abortion  31.000000  31.000000  Default  28.0000  28.0000\n",
              "3554           seen  17.000000  17.000000  Default  27.0000  27.0000\n",
              "695           lives  10.000000  10.000000  Default  26.0000  26.0000\n",
              "...             ...        ...        ...      ...      ...      ...\n",
              "25408       bearded   0.090569   0.599498  Topic10  -8.0700   3.2167\n",
              "19729            et   0.115042   0.915505  Topic10  -7.8308   3.0325\n",
              "9496       monument   0.101972   0.888668  Topic10  -7.9514   2.9417\n",
              "3040           mode   0.091591   0.713235  Topic10  -8.0588   3.0542\n",
              "5876   methodically   0.083507   0.968070  Topic10  -8.1512   2.6563\n",
              "\n",
              "[449 rows x 6 columns], token_table=       Topic      Freq          Term\n",
              "term                                \n",
              "507        1  0.638423      abortion\n",
              "507        2  0.351133      abortion\n",
              "4937       5  0.838987        accord\n",
              "4263       2  0.571791  acknowledges\n",
              "8788       4  0.527562      actively\n",
              "...      ...       ...           ...\n",
              "78         1  0.965970         would\n",
              "78         2  0.023560         would\n",
              "26         1  0.972454         years\n",
              "26         2  0.023154         years\n",
              "15934      4  0.623075       yorkers\n",
              "\n",
              "[307 rows x 3 columns], R=30, lambda_step=0.01, plot_opts={'xlab': 'PC1', 'ylab': 'PC2'}, topic_order=[5, 3, 7, 9, 2, 8, 1, 6, 10, 4])"
            ]
          },
          "metadata": {
            "tags": []
          },
          "execution_count": 16
        }
      ]
    },
    {
      "cell_type": "code",
      "metadata": {
        "colab": {
          "base_uri": "https://localhost:8080/"
        },
        "id": "PyOgmzHBd3s8",
        "outputId": "39b0fb5c-d0c4-4003-8e65-7fccbb44c604"
      },
      "source": [
        "for l in lda_model.get_document_topics(corpus)[:10]:\n",
        "    print (l)"
      ],
      "execution_count": null,
      "outputs": [
        {
          "output_type": "stream",
          "text": [
            "[(1, 0.6156847), (2, 0.01631999), (4, 0.20373307), (6, 0.06801649), (7, 0.028621836), (8, 0.0344656)]\n",
            "[(1, 0.763563), (2, 0.013859917), (6, 0.033660006), (7, 0.088353015), (9, 0.068763435)]\n",
            "[(1, 0.79859394), (2, 0.013141152), (6, 0.08126964), (7, 0.037291188), (9, 0.049772587)]\n",
            "[(1, 0.87178653), (6, 0.029328), (7, 0.067593485)]\n",
            "[(1, 0.8022314), (2, 0.010433715), (6, 0.14003201), (7, 0.01831812)]\n",
            "[(1, 0.77750266), (2, 0.101369575), (6, 0.057995867), (7, 0.024414107)]\n",
            "[(1, 0.84217304), (6, 0.027844958), (7, 0.06244437), (9, 0.039514713)]\n",
            "[(1, 0.7187414), (2, 0.011190535), (6, 0.03845834), (7, 0.20053901)]\n",
            "[(1, 0.82175153), (2, 0.058945935), (6, 0.064610116), (7, 0.022253001)]\n",
            "[(0, 0.0109442), (1, 0.730404), (2, 0.018160004), (3, 0.01012647), (6, 0.169174), (7, 0.031808387)]\n"
          ],
          "name": "stdout"
        }
      ]
    },
    {
      "cell_type": "code",
      "metadata": {
        "id": "L0LUmHDmd8dV"
      },
      "source": [
        "# for any given day, you look at all the diff topics and identify the prob of that topic\n",
        "date_topic_prob = np.zeros((len(unique_dates), k))\n",
        "for date, article in zip(df[\"date\"], lda_model.get_document_topics(corpus)):\n",
        "  i = unique_dates.index(date)\n",
        "  for topic, prob in article:\n",
        "    date_topic_prob[i][topic] += prob \n",
        "date_topic_prob = date_topic_prob/date_topic_prob.max(axis=0)"
      ],
      "execution_count": null,
      "outputs": []
    },
    {
      "cell_type": "code",
      "metadata": {
        "id": "mQibVrALenVa"
      },
      "source": [
        ""
      ],
      "execution_count": null,
      "outputs": []
    },
    {
      "cell_type": "code",
      "metadata": {
        "colab": {
          "base_uri": "https://localhost:8080/"
        },
        "id": "DECzEZuhe8B_",
        "outputId": "812fb2b5-3371-475c-adf4-f0beb13102c5"
      },
      "source": [
        "date_topic_prob"
      ],
      "execution_count": null,
      "outputs": [
        {
          "output_type": "execute_result",
          "data": {
            "text/plain": [
              "array([[0.00960165, 0.12697915, 0.01179038, ..., 0.20422308, 0.21812294,\n",
              "        0.0933737 ],\n",
              "       [0.01475436, 0.09657251, 0.02128822, ..., 0.07538966, 0.        ,\n",
              "        0.26194383],\n",
              "       [0.40982177, 0.32274864, 0.11762854, ..., 0.52242613, 0.10376247,\n",
              "        0.        ],\n",
              "       ...,\n",
              "       [0.10482325, 0.33340277, 0.35393836, ..., 0.28412118, 0.03938651,\n",
              "        0.10970976],\n",
              "       [0.40246888, 0.95823687, 1.        , ..., 0.71573004, 0.        ,\n",
              "        0.489494  ],\n",
              "       [0.10647875, 0.49076954, 0.55658635, ..., 0.4426987 , 0.        ,\n",
              "        0.31024785]])"
            ]
          },
          "metadata": {
            "tags": []
          },
          "execution_count": 57
        }
      ]
    },
    {
      "cell_type": "code",
      "metadata": {
        "colab": {
          "base_uri": "https://localhost:8080/"
        },
        "id": "5nuAAclkfYf-",
        "outputId": "da1a3cf4-6e5c-4f52-bc63-0d64b7b4aca0"
      },
      "source": [
        "# Example of norming by col\n",
        "# d = np.array([\n",
        "#     [1000, 10, 0.5],\n",
        "#     [765, 5, 0.35],\n",
        "#     [800, 7, 0.09], ])\n",
        "# d/d.max(axis=0)"
      ],
      "execution_count": null,
      "outputs": [
        {
          "output_type": "execute_result",
          "data": {
            "text/plain": [
              "array([[1.   , 1.   , 1.   ],\n",
              "       [0.765, 0.5  , 0.7  ],\n",
              "       [0.8  , 0.7  , 0.18 ]])"
            ]
          },
          "metadata": {
            "tags": []
          },
          "execution_count": 55
        }
      ]
    },
    {
      "cell_type": "code",
      "metadata": {
        "colab": {
          "base_uri": "https://localhost:8080/"
        },
        "id": "SGqz_5GvEfWo",
        "outputId": "44252898-47ec-4c01-f0f5-77b49193e2b1"
      },
      "source": [
        "t0 = unique_dates[4]\n",
        "t0"
      ],
      "execution_count": null,
      "outputs": [
        {
          "output_type": "execute_result",
          "data": {
            "text/plain": [
              "Timestamp('2000-05-05 05:00:00+0000', tz='UTC')"
            ]
          },
          "metadata": {
            "tags": []
          },
          "execution_count": 39
        }
      ]
    },
    {
      "cell_type": "code",
      "metadata": {
        "id": "oVjqfyK5EjMp"
      },
      "source": [
        ""
      ],
      "execution_count": null,
      "outputs": []
    },
    {
      "cell_type": "markdown",
      "metadata": {
        "id": "sGJxwxbLh0qk"
      },
      "source": [
        "Heidi TEST\n",
        "\n"
      ]
    },
    {
      "cell_type": "code",
      "metadata": {
        "id": "FhEUgINRh6qT"
      },
      "source": [
        "#HARI TEST"
      ],
      "execution_count": null,
      "outputs": []
    },
    {
      "cell_type": "code",
      "metadata": {
        "id": "dvknCVZ7h8FP"
      },
      "source": [
        "#HEIDI TEST\n"
      ],
      "execution_count": null,
      "outputs": []
    }
  ]
}